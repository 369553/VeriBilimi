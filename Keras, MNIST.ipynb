{
 "cells": [
  {
   "cell_type": "code",
   "execution_count": 1,
   "id": "493f9d0b",
   "metadata": {},
   "outputs": [
    {
     "name": "stderr",
     "output_type": "stream",
     "text": [
      "C:\\Users\\Yazılım alanı\\AppData\\Local\\Temp\\ipykernel_3032\\18257888.py:3: DeprecationWarning: \n",
      "Pyarrow will become a required dependency of pandas in the next major release of pandas (pandas 3.0),\n",
      "(to allow more performant data types, such as the Arrow string type, and better interoperability with other libraries)\n",
      "but was not found to be installed on your system.\n",
      "If this would cause problems for you,\n",
      "please provide us feedback at https://github.com/pandas-dev/pandas/issues/54466\n",
      "        \n",
      "  import pandas as pa\n"
     ]
    }
   ],
   "source": [
    "# Kütüphâneleri ekleme:\n",
    "import numpy as nm\n",
    "import pandas as pa\n",
    "import matplotlib.pyplot as plotter\n",
    "from keras.models import Sequential\n",
    "from keras.utils import to_categorical# Tek nokta vektörleyicisi\n",
    "from tensorflow.keras.layers import Conv2D, MaxPooling2D, Dropout, Flatten, Dense\n",
    "from tensorflow.keras.callbacks import EarlyStopping\n",
    "from keras.datasets import mnist\n",
    "from sklearn.metrics import classification_report# Sınıflandırma sonucunu daha iyi görmek için\n",
    "import warnings# Uyarıları idâre etmek için\n",
    "\n",
    "warnings.filterwarnings(\"ignore\")# Uyarıları kapatıyoruz"
   ]
  },
  {
   "cell_type": "code",
   "execution_count": 2,
   "id": "a2bc32ae",
   "metadata": {},
   "outputs": [],
   "source": [
    "# Veri yükleme\n",
    "(xTrain, yTrain), (xTest, yTest) = mnist.load_data()"
   ]
  },
  {
   "cell_type": "code",
   "execution_count": 3,
   "id": "dde03846",
   "metadata": {},
   "outputs": [
    {
     "name": "stdout",
     "output_type": "stream",
     "text": [
      "Toplam eğitim verisi sayısı: 60000\n",
      "Toplam test verisi sayısı: 10000\n"
     ]
    },
    {
     "data": {
      "image/png": "[encoded data removed]",
      "text/plain": [
       "<Figure size 1000x1500 with 5 Axes>"
      ]
     },
     "metadata": {},
     "output_type": "display_data"
    },
    {
     "name": "stdout",
     "output_type": "stream",
     "text": [
      "En yüksek renk kodu: 255\n"
     ]
    }
   ],
   "source": [
    "# Veri inceleme:\n",
    "# Genellikle ilk boyut, veri sayısını (veyâ batch içindeki veri sayısını) ifâde eder\n",
    "print(f\"Toplam eğitim verisi sayısı: {xTrain.shape[0]}\")\n",
    "print(f\"Toplam test verisi sayısı: {xTest.shape[0]}\")\n",
    "n = 5\n",
    "fig, axes = plotter.subplots(1, n, figsize=(10, 15))\n",
    "for i in range(0, n):\n",
    "    axes[i].imshow(xTrain[i], cmap='binary')\n",
    "    axes[i].axis('off')\n",
    "plotter.show()\n",
    "\n",
    "maxColorCode = xTrain.max()\n",
    "print(f\"En yüksek renk kodu: {maxColorCode}\")\n",
    "# maxColorCode = 255, yanî renk 8 bit kodlama ile kodlanmış"
   ]
  },
  {
   "cell_type": "code",
   "execution_count": 4,
   "id": "740eab4c",
   "metadata": {},
   "outputs": [
    {
     "name": "stdout",
     "output_type": "stream",
     "text": [
      "Veri tipi:  uint8\n"
     ]
    }
   ],
   "source": [
    "# Veri normalizasyonu:\n",
    "# Veri tipi kontrolü:\n",
    "print(\"Veri tipi: \", xTrain.dtype)\n",
    "# Verilerimiz işâretsiz tamsayı; bu sebeple verileri normalize etmeden evvel\n",
    "# 'float' tipine çevirmeliyiz:\n",
    "xTrain = xTrain.astype('float32') / maxColorCode\n",
    "xTest = xTest.astype('float32') / maxColorCode"
   ]
  },
  {
   "cell_type": "code",
   "execution_count": 5,
   "id": "32baa4f7",
   "metadata": {},
   "outputs": [
    {
     "name": "stdout",
     "output_type": "stream",
     "text": [
      "yTrain[0]: [0. 0. 0. 0. 0. 1. 0. 0. 0. 0.]\n"
     ]
    }
   ],
   "source": [
    "# Kimi modeller için etiket verisi üzerinde yapmamız gereken işlem yoktur;\n",
    "# fakat sinir ağları, etiket verilerindeki sınıf numaralarını birer\n",
    "# büyüklük gibi değerlendirebileceğinden model menfî olarak etkilenebilir\n",
    "# Bu sebeple etiket verilerini tek nokta vektörü biçiminde kodlamalıyız:\n",
    "yTrain = to_categorical(yTrain, 10)\n",
    "yTest = to_categorical(yTest, 10)\n",
    "\n",
    "print(f\"yTrain[0]: {yTrain[0]}\")# yTrain[0]:5"
   ]
  },
  {
   "cell_type": "code",
   "execution_count": 6,
   "id": "1e7fb192",
   "metadata": {},
   "outputs": [],
   "source": [
    "# Sinir ağındaki Conv2D katmanı şu biçimde girdi bekliyor:\n",
    "# (batchSize, height, width, channels)\n",
    "# Bizim verimiz ise şu formatta : (adet(allBatch), height, width)\n",
    "# görüntümüzün tek kanal olduğunu belirtmeliyiz:\n",
    "xTrain = nm.expand_dims(xTrain, axis=3)\n",
    "xTest = nm.expand_dims(xTest, axis=3)"
   ]
  },
  {
   "cell_type": "code",
   "execution_count": 7,
   "id": "3e616008",
   "metadata": {},
   "outputs": [],
   "source": [
    "# Model eğitilirken, modelin ezberleme oranını ölçmek için doğrulama\n",
    "# veri seti kullanabiliriz.\n",
    "# Bunun için test veri setinden biraz alalım, zâten yeterince var:\n",
    "xValid, yValid = xTest[:2000], yTest[:2000]\n",
    "xTest, yTest = xTest[2000:], yTest[2000:]"
   ]
  },
  {
   "cell_type": "code",
   "execution_count": 8,
   "id": "8fd958f7",
   "metadata": {},
   "outputs": [
    {
     "data": {
      "text/html": [
       "<pre style=\"white-space:pre;overflow-x:auto;line-height:normal;font-family:Menlo,'DejaVu Sans Mono',consolas,'Courier New',monospace\"><span style=\"font-weight: bold\">Model: \"sequential\"</span>\n",
       "</pre>\n"
      ],
      "text/plain": [
       "\u001b[1mModel: \"sequential\"\u001b[0m\n"
      ]
     },
     "metadata": {},
     "output_type": "display_data"
    },
    {
     "data": {
      "text/html": [
       "<pre style=\"white-space:pre;overflow-x:auto;line-height:normal;font-family:Menlo,'DejaVu Sans Mono',consolas,'Courier New',monospace\">┏━━━━━━━━━━━━━━━━━━━━━━━━━━━━━━━━━━━━━━┳━━━━━━━━━━━━━━━━━━━━━━━━━━━━━┳━━━━━━━━━━━━━━━━━┓\n",
       "┃<span style=\"font-weight: bold\"> Layer (type)                         </span>┃<span style=\"font-weight: bold\"> Output Shape                </span>┃<span style=\"font-weight: bold\">         Param # </span>┃\n",
       "┡━━━━━━━━━━━━━━━━━━━━━━━━━━━━━━━━━━━━━━╇━━━━━━━━━━━━━━━━━━━━━━━━━━━━━╇━━━━━━━━━━━━━━━━━┩\n",
       "│ conv2d (<span style=\"color: #0087ff; text-decoration-color: #0087ff\">Conv2D</span>)                      │ (<span style=\"color: #00d7ff; text-decoration-color: #00d7ff\">None</span>, <span style=\"color: #00af00; text-decoration-color: #00af00\">28</span>, <span style=\"color: #00af00; text-decoration-color: #00af00\">28</span>, <span style=\"color: #00af00; text-decoration-color: #00af00\">48</span>)          │             <span style=\"color: #00af00; text-decoration-color: #00af00\">480</span> │\n",
       "├──────────────────────────────────────┼─────────────────────────────┼─────────────────┤\n",
       "│ conv2d_1 (<span style=\"color: #0087ff; text-decoration-color: #0087ff\">Conv2D</span>)                    │ (<span style=\"color: #00d7ff; text-decoration-color: #00d7ff\">None</span>, <span style=\"color: #00af00; text-decoration-color: #00af00\">26</span>, <span style=\"color: #00af00; text-decoration-color: #00af00\">26</span>, <span style=\"color: #00af00; text-decoration-color: #00af00\">24</span>)          │          <span style=\"color: #00af00; text-decoration-color: #00af00\">10,392</span> │\n",
       "├──────────────────────────────────────┼─────────────────────────────┼─────────────────┤\n",
       "│ max_pooling2d (<span style=\"color: #0087ff; text-decoration-color: #0087ff\">MaxPooling2D</span>)         │ (<span style=\"color: #00d7ff; text-decoration-color: #00d7ff\">None</span>, <span style=\"color: #00af00; text-decoration-color: #00af00\">13</span>, <span style=\"color: #00af00; text-decoration-color: #00af00\">13</span>, <span style=\"color: #00af00; text-decoration-color: #00af00\">24</span>)          │               <span style=\"color: #00af00; text-decoration-color: #00af00\">0</span> │\n",
       "├──────────────────────────────────────┼─────────────────────────────┼─────────────────┤\n",
       "│ dropout (<span style=\"color: #0087ff; text-decoration-color: #0087ff\">Dropout</span>)                    │ (<span style=\"color: #00d7ff; text-decoration-color: #00d7ff\">None</span>, <span style=\"color: #00af00; text-decoration-color: #00af00\">13</span>, <span style=\"color: #00af00; text-decoration-color: #00af00\">13</span>, <span style=\"color: #00af00; text-decoration-color: #00af00\">24</span>)          │               <span style=\"color: #00af00; text-decoration-color: #00af00\">0</span> │\n",
       "├──────────────────────────────────────┼─────────────────────────────┼─────────────────┤\n",
       "│ conv2d_2 (<span style=\"color: #0087ff; text-decoration-color: #0087ff\">Conv2D</span>)                    │ (<span style=\"color: #00d7ff; text-decoration-color: #00d7ff\">None</span>, <span style=\"color: #00af00; text-decoration-color: #00af00\">13</span>, <span style=\"color: #00af00; text-decoration-color: #00af00\">13</span>, <span style=\"color: #00af00; text-decoration-color: #00af00\">32</span>)          │           <span style=\"color: #00af00; text-decoration-color: #00af00\">6,944</span> │\n",
       "├──────────────────────────────────────┼─────────────────────────────┼─────────────────┤\n",
       "│ conv2d_3 (<span style=\"color: #0087ff; text-decoration-color: #0087ff\">Conv2D</span>)                    │ (<span style=\"color: #00d7ff; text-decoration-color: #00d7ff\">None</span>, <span style=\"color: #00af00; text-decoration-color: #00af00\">11</span>, <span style=\"color: #00af00; text-decoration-color: #00af00\">11</span>, <span style=\"color: #00af00; text-decoration-color: #00af00\">16</span>)          │           <span style=\"color: #00af00; text-decoration-color: #00af00\">4,624</span> │\n",
       "├──────────────────────────────────────┼─────────────────────────────┼─────────────────┤\n",
       "│ max_pooling2d_1 (<span style=\"color: #0087ff; text-decoration-color: #0087ff\">MaxPooling2D</span>)       │ (<span style=\"color: #00d7ff; text-decoration-color: #00d7ff\">None</span>, <span style=\"color: #00af00; text-decoration-color: #00af00\">5</span>, <span style=\"color: #00af00; text-decoration-color: #00af00\">5</span>, <span style=\"color: #00af00; text-decoration-color: #00af00\">16</span>)            │               <span style=\"color: #00af00; text-decoration-color: #00af00\">0</span> │\n",
       "├──────────────────────────────────────┼─────────────────────────────┼─────────────────┤\n",
       "│ dropout_1 (<span style=\"color: #0087ff; text-decoration-color: #0087ff\">Dropout</span>)                  │ (<span style=\"color: #00d7ff; text-decoration-color: #00d7ff\">None</span>, <span style=\"color: #00af00; text-decoration-color: #00af00\">5</span>, <span style=\"color: #00af00; text-decoration-color: #00af00\">5</span>, <span style=\"color: #00af00; text-decoration-color: #00af00\">16</span>)            │               <span style=\"color: #00af00; text-decoration-color: #00af00\">0</span> │\n",
       "├──────────────────────────────────────┼─────────────────────────────┼─────────────────┤\n",
       "│ flatten (<span style=\"color: #0087ff; text-decoration-color: #0087ff\">Flatten</span>)                    │ (<span style=\"color: #00d7ff; text-decoration-color: #00d7ff\">None</span>, <span style=\"color: #00af00; text-decoration-color: #00af00\">400</span>)                 │               <span style=\"color: #00af00; text-decoration-color: #00af00\">0</span> │\n",
       "├──────────────────────────────────────┼─────────────────────────────┼─────────────────┤\n",
       "│ dense (<span style=\"color: #0087ff; text-decoration-color: #0087ff\">Dense</span>)                        │ (<span style=\"color: #00d7ff; text-decoration-color: #00d7ff\">None</span>, <span style=\"color: #00af00; text-decoration-color: #00af00\">128</span>)                 │          <span style=\"color: #00af00; text-decoration-color: #00af00\">51,328</span> │\n",
       "├──────────────────────────────────────┼─────────────────────────────┼─────────────────┤\n",
       "│ dropout_2 (<span style=\"color: #0087ff; text-decoration-color: #0087ff\">Dropout</span>)                  │ (<span style=\"color: #00d7ff; text-decoration-color: #00d7ff\">None</span>, <span style=\"color: #00af00; text-decoration-color: #00af00\">128</span>)                 │               <span style=\"color: #00af00; text-decoration-color: #00af00\">0</span> │\n",
       "├──────────────────────────────────────┼─────────────────────────────┼─────────────────┤\n",
       "│ dense_1 (<span style=\"color: #0087ff; text-decoration-color: #0087ff\">Dense</span>)                      │ (<span style=\"color: #00d7ff; text-decoration-color: #00d7ff\">None</span>, <span style=\"color: #00af00; text-decoration-color: #00af00\">10</span>)                  │           <span style=\"color: #00af00; text-decoration-color: #00af00\">1,290</span> │\n",
       "└──────────────────────────────────────┴─────────────────────────────┴─────────────────┘\n",
       "</pre>\n"
      ],
      "text/plain": [
       "┏━━━━━━━━━━━━━━━━━━━━━━━━━━━━━━━━━━━━━━┳━━━━━━━━━━━━━━━━━━━━━━━━━━━━━┳━━━━━━━━━━━━━━━━━┓\n",
       "┃\u001b[1m \u001b[0m\u001b[1mLayer (type)                        \u001b[0m\u001b[1m \u001b[0m┃\u001b[1m \u001b[0m\u001b[1mOutput Shape               \u001b[0m\u001b[1m \u001b[0m┃\u001b[1m \u001b[0m\u001b[1m        Param #\u001b[0m\u001b[1m \u001b[0m┃\n",
       "┡━━━━━━━━━━━━━━━━━━━━━━━━━━━━━━━━━━━━━━╇━━━━━━━━━━━━━━━━━━━━━━━━━━━━━╇━━━━━━━━━━━━━━━━━┩\n",
       "│ conv2d (\u001b[38;5;33mConv2D\u001b[0m)                      │ (\u001b[38;5;45mNone\u001b[0m, \u001b[38;5;34m28\u001b[0m, \u001b[38;5;34m28\u001b[0m, \u001b[38;5;34m48\u001b[0m)          │             \u001b[38;5;34m480\u001b[0m │\n",
       "├──────────────────────────────────────┼─────────────────────────────┼─────────────────┤\n",
       "│ conv2d_1 (\u001b[38;5;33mConv2D\u001b[0m)                    │ (\u001b[38;5;45mNone\u001b[0m, \u001b[38;5;34m26\u001b[0m, \u001b[38;5;34m26\u001b[0m, \u001b[38;5;34m24\u001b[0m)          │          \u001b[38;5;34m10,392\u001b[0m │\n",
       "├──────────────────────────────────────┼─────────────────────────────┼─────────────────┤\n",
       "│ max_pooling2d (\u001b[38;5;33mMaxPooling2D\u001b[0m)         │ (\u001b[38;5;45mNone\u001b[0m, \u001b[38;5;34m13\u001b[0m, \u001b[38;5;34m13\u001b[0m, \u001b[38;5;34m24\u001b[0m)          │               \u001b[38;5;34m0\u001b[0m │\n",
       "├──────────────────────────────────────┼─────────────────────────────┼─────────────────┤\n",
       "│ dropout (\u001b[38;5;33mDropout\u001b[0m)                    │ (\u001b[38;5;45mNone\u001b[0m, \u001b[38;5;34m13\u001b[0m, \u001b[38;5;34m13\u001b[0m, \u001b[38;5;34m24\u001b[0m)          │               \u001b[38;5;34m0\u001b[0m │\n",
       "├──────────────────────────────────────┼─────────────────────────────┼─────────────────┤\n",
       "│ conv2d_2 (\u001b[38;5;33mConv2D\u001b[0m)                    │ (\u001b[38;5;45mNone\u001b[0m, \u001b[38;5;34m13\u001b[0m, \u001b[38;5;34m13\u001b[0m, \u001b[38;5;34m32\u001b[0m)          │           \u001b[38;5;34m6,944\u001b[0m │\n",
       "├──────────────────────────────────────┼─────────────────────────────┼─────────────────┤\n",
       "│ conv2d_3 (\u001b[38;5;33mConv2D\u001b[0m)                    │ (\u001b[38;5;45mNone\u001b[0m, \u001b[38;5;34m11\u001b[0m, \u001b[38;5;34m11\u001b[0m, \u001b[38;5;34m16\u001b[0m)          │           \u001b[38;5;34m4,624\u001b[0m │\n",
       "├──────────────────────────────────────┼─────────────────────────────┼─────────────────┤\n",
       "│ max_pooling2d_1 (\u001b[38;5;33mMaxPooling2D\u001b[0m)       │ (\u001b[38;5;45mNone\u001b[0m, \u001b[38;5;34m5\u001b[0m, \u001b[38;5;34m5\u001b[0m, \u001b[38;5;34m16\u001b[0m)            │               \u001b[38;5;34m0\u001b[0m │\n",
       "├──────────────────────────────────────┼─────────────────────────────┼─────────────────┤\n",
       "│ dropout_1 (\u001b[38;5;33mDropout\u001b[0m)                  │ (\u001b[38;5;45mNone\u001b[0m, \u001b[38;5;34m5\u001b[0m, \u001b[38;5;34m5\u001b[0m, \u001b[38;5;34m16\u001b[0m)            │               \u001b[38;5;34m0\u001b[0m │\n",
       "├──────────────────────────────────────┼─────────────────────────────┼─────────────────┤\n",
       "│ flatten (\u001b[38;5;33mFlatten\u001b[0m)                    │ (\u001b[38;5;45mNone\u001b[0m, \u001b[38;5;34m400\u001b[0m)                 │               \u001b[38;5;34m0\u001b[0m │\n",
       "├──────────────────────────────────────┼─────────────────────────────┼─────────────────┤\n",
       "│ dense (\u001b[38;5;33mDense\u001b[0m)                        │ (\u001b[38;5;45mNone\u001b[0m, \u001b[38;5;34m128\u001b[0m)                 │          \u001b[38;5;34m51,328\u001b[0m │\n",
       "├──────────────────────────────────────┼─────────────────────────────┼─────────────────┤\n",
       "│ dropout_2 (\u001b[38;5;33mDropout\u001b[0m)                  │ (\u001b[38;5;45mNone\u001b[0m, \u001b[38;5;34m128\u001b[0m)                 │               \u001b[38;5;34m0\u001b[0m │\n",
       "├──────────────────────────────────────┼─────────────────────────────┼─────────────────┤\n",
       "│ dense_1 (\u001b[38;5;33mDense\u001b[0m)                      │ (\u001b[38;5;45mNone\u001b[0m, \u001b[38;5;34m10\u001b[0m)                  │           \u001b[38;5;34m1,290\u001b[0m │\n",
       "└──────────────────────────────────────┴─────────────────────────────┴─────────────────┘\n"
      ]
     },
     "metadata": {},
     "output_type": "display_data"
    },
    {
     "data": {
      "text/html": [
       "<pre style=\"white-space:pre;overflow-x:auto;line-height:normal;font-family:Menlo,'DejaVu Sans Mono',consolas,'Courier New',monospace\"><span style=\"font-weight: bold\"> Total params: </span><span style=\"color: #00af00; text-decoration-color: #00af00\">75,058</span> (293.20 KB)\n",
       "</pre>\n"
      ],
      "text/plain": [
       "\u001b[1m Total params: \u001b[0m\u001b[38;5;34m75,058\u001b[0m (293.20 KB)\n"
      ]
     },
     "metadata": {},
     "output_type": "display_data"
    },
    {
     "data": {
      "text/html": [
       "<pre style=\"white-space:pre;overflow-x:auto;line-height:normal;font-family:Menlo,'DejaVu Sans Mono',consolas,'Courier New',monospace\"><span style=\"font-weight: bold\"> Trainable params: </span><span style=\"color: #00af00; text-decoration-color: #00af00\">75,058</span> (293.20 KB)\n",
       "</pre>\n"
      ],
      "text/plain": [
       "\u001b[1m Trainable params: \u001b[0m\u001b[38;5;34m75,058\u001b[0m (293.20 KB)\n"
      ]
     },
     "metadata": {},
     "output_type": "display_data"
    },
    {
     "data": {
      "text/html": [
       "<pre style=\"white-space:pre;overflow-x:auto;line-height:normal;font-family:Menlo,'DejaVu Sans Mono',consolas,'Courier New',monospace\"><span style=\"font-weight: bold\"> Non-trainable params: </span><span style=\"color: #00af00; text-decoration-color: #00af00\">0</span> (0.00 B)\n",
       "</pre>\n"
      ],
      "text/plain": [
       "\u001b[1m Non-trainable params: \u001b[0m\u001b[38;5;34m0\u001b[0m (0.00 B)\n"
      ]
     },
     "metadata": {},
     "output_type": "display_data"
    }
   ],
   "source": [
    "# Sinir ağı modeli hâzırlama:\n",
    "\n",
    "# Resim verileri matris formundadır; veyâ matris formundaki katmanlardan oluşmaktadır\n",
    "# Sinir ağı bunları bu hâlde işleyemez\n",
    "# Verileri düzleştirmemiz, tek boyutlu yapmamız gerekiyor\n",
    "# fakat bu durumda, pek çok 'komşular arası ilişki' kaybolur\n",
    "# Bu sebeple konvolüsyonel sinir ağı kullanılmalıdır:\n",
    "model = Sequential()\n",
    "model.add(Conv2D(48, (3, 3), padding='same', activation='relu', input_shape=xTrain.shape[1:]))\n",
    "model.add(Conv2D(24, (3, 3), activation='relu'))\n",
    "model.add(MaxPooling2D())\n",
    "# MaxPooling2D ile filtrenin gezdirildiği bölgedeki en büyük değere sâhip\n",
    "# piksel alınır; bu işlem sonucunda, bir bölgedeki en önemli piksel o\n",
    "# bölgeyi temsil etmiş gibi olur\n",
    "\n",
    "model.add(Dropout(rate=0.2))\n",
    "# Bağlantıların bir kısmı kapatılarak, ezberlemenin önüne geçilebilir\n",
    "# Konvolüsyonel sinir ağlarında bu, sıklıkla kullanılır;\n",
    "# çünkü öznitelik seçimini ağ kendisi yapmaktadır ve biz\n",
    "# hangi düşük öneme sâhip özniteliğin ağı yormasını istemiyoruz.\n",
    "# Yukarıdaki satıra göre, bağlantıların %20'si kapatılır.\n",
    "# Model değerlendirildikten sonra burası değiştirilebilir\n",
    "\n",
    "model.add(Conv2D(32, (3, 3), padding='same', activation='relu'))\n",
    "model.add(Conv2D(16, (3, 3), activation='relu'))\n",
    "model.add(MaxPooling2D())\n",
    "model.add(Dropout(rate=0.15))\n",
    "\n",
    "# Verileri sinir ağına vermeden evvel düzleştirmeliyiz:\n",
    "model.add(Flatten())\n",
    "model.add(Dense(128, activation='relu'))\n",
    "# 'relu' hesaplanması kolay ve gradyan azalmasına karşı dirençli olduğundan\n",
    "# aktivasyon fonksiyonu olarak sıklıkla tercih edilir.\n",
    "model.add(Dropout(0.10))\n",
    "model.add(Dense(10, activation='softmax'))\n",
    "# Son katmandaki hücre sayısı sınıf sayısına eşit olmak zorunda\n",
    "# Çok sınıflı sınıflandırma problemlerinde 'softmax' kullanılmalı\n",
    "\n",
    "model.summary()# Model özeti"
   ]
  },
  {
   "cell_type": "code",
   "execution_count": 9,
   "id": "ecdb9b32",
   "metadata": {},
   "outputs": [],
   "source": [
    "# Modelin derlenmesi:\n",
    "model.compile(optimizer='adam', loss='categorical_crossentropy', metrics=['accuracy'])"
   ]
  },
  {
   "cell_type": "code",
   "execution_count": 10,
   "id": "6f27ed58",
   "metadata": {},
   "outputs": [
    {
     "name": "stdout",
     "output_type": "stream",
     "text": [
      "Epoch 1/10\n",
      "\u001b[1m59/59\u001b[0m \u001b[32m━━━━━━━━━━━━━━━━━━━━\u001b[0m\u001b[37m\u001b[0m \u001b[1m343s\u001b[0m 6s/step - accuracy: 0.4935 - loss: 1.4783 - val_accuracy: 0.9420 - val_loss: 0.1936\n",
      "Epoch 2/10\n",
      "\u001b[1m59/59\u001b[0m \u001b[32m━━━━━━━━━━━━━━━━━━━━\u001b[0m\u001b[37m\u001b[0m \u001b[1m322s\u001b[0m 5s/step - accuracy: 0.9430 - loss: 0.1844 - val_accuracy: 0.9700 - val_loss: 0.0998\n",
      "Epoch 3/10\n",
      "\u001b[1m59/59\u001b[0m \u001b[32m━━━━━━━━━━━━━━━━━━━━\u001b[0m\u001b[37m\u001b[0m \u001b[1m392s\u001b[0m 6s/step - accuracy: 0.9645 - loss: 0.1156 - val_accuracy: 0.9760 - val_loss: 0.0796\n",
      "Epoch 4/10\n",
      "\u001b[1m59/59\u001b[0m \u001b[32m━━━━━━━━━━━━━━━━━━━━\u001b[0m\u001b[37m\u001b[0m \u001b[1m329s\u001b[0m 6s/step - accuracy: 0.9729 - loss: 0.0891 - val_accuracy: 0.9825 - val_loss: 0.0567\n",
      "Epoch 5/10\n",
      "\u001b[1m59/59\u001b[0m \u001b[32m━━━━━━━━━━━━━━━━━━━━\u001b[0m\u001b[37m\u001b[0m \u001b[1m325s\u001b[0m 6s/step - accuracy: 0.9766 - loss: 0.0743 - val_accuracy: 0.9845 - val_loss: 0.0476\n",
      "Epoch 6/10\n",
      "\u001b[1m59/59\u001b[0m \u001b[32m━━━━━━━━━━━━━━━━━━━━\u001b[0m\u001b[37m\u001b[0m \u001b[1m377s\u001b[0m 5s/step - accuracy: 0.9799 - loss: 0.0641 - val_accuracy: 0.9865 - val_loss: 0.0416\n",
      "Epoch 7/10\n",
      "\u001b[1m59/59\u001b[0m \u001b[32m━━━━━━━━━━━━━━━━━━━━\u001b[0m\u001b[37m\u001b[0m \u001b[1m323s\u001b[0m 5s/step - accuracy: 0.9833 - loss: 0.0561 - val_accuracy: 0.9850 - val_loss: 0.0366\n",
      "Epoch 8/10\n",
      "\u001b[1m59/59\u001b[0m \u001b[32m━━━━━━━━━━━━━━━━━━━━\u001b[0m\u001b[37m\u001b[0m \u001b[1m321s\u001b[0m 5s/step - accuracy: 0.9835 - loss: 0.0524 - val_accuracy: 0.9875 - val_loss: 0.0363\n",
      "Epoch 9/10\n",
      "\u001b[1m59/59\u001b[0m \u001b[32m━━━━━━━━━━━━━━━━━━━━\u001b[0m\u001b[37m\u001b[0m \u001b[1m322s\u001b[0m 5s/step - accuracy: 0.9856 - loss: 0.0441 - val_accuracy: 0.9900 - val_loss: 0.0349\n",
      "Epoch 10/10\n",
      "\u001b[1m59/59\u001b[0m \u001b[32m━━━━━━━━━━━━━━━━━━━━\u001b[0m\u001b[37m\u001b[0m \u001b[1m323s\u001b[0m 5s/step - accuracy: 0.9869 - loss: 0.0413 - val_accuracy: 0.9870 - val_loss: 0.0343\n"
     ]
    },
    {
     "data": {
      "text/plain": [
       "<keras.src.callbacks.history.History at 0x1f3a7efe210>"
      ]
     },
     "execution_count": 10,
     "metadata": {},
     "output_type": "execute_result"
    }
   ],
   "source": [
    "# Modelin eğitilmesi:\n",
    "# Ezberleme fark edildiğinde modelin durması için erken durdurma çağrısı eklenmeli:\n",
    "callEarlyStopping = EarlyStopping(monitor='val_loss', patience = 3, restore_best_weights = True)\n",
    "model.fit(xTrain, yTrain,\n",
    "          batch_size = 1024, epochs = 10,\n",
    "          callbacks = [callEarlyStopping],\n",
    "          validation_data = (xValid, yValid))"
   ]
  },
  {
   "cell_type": "code",
   "execution_count": 11,
   "id": "33b2a8ba",
   "metadata": {},
   "outputs": [],
   "source": [
    "# Başarı oldukça yüksek, fakat kurulan güzel mimârinin de etkisiyle ezberlemenin önüne geçilmiş gibi duruyor\n",
    "# Daha yakından bakmak için eğitim geçmişini almalıyız:\n",
    "history = model.history.history"
   ]
  },
  {
   "cell_type": "code",
   "execution_count": 21,
   "id": "a9c0ccf9",
   "metadata": {},
   "outputs": [
    {
     "data": {
      "image/png": "[encoded data removed]",
      "text/plain": [
       "<Figure size 640x480 with 2 Axes>"
      ]
     },
     "metadata": {},
     "output_type": "display_data"
    }
   ],
   "source": [
    "fig, axes = plotter.subplots(1,2)\n",
    "axes[0].plot(history['accuracy'])\n",
    "axes[0].set_title('Eğitim seti doğruluğu')\n",
    "axes[1].set_title('Doğrulama seti doğruluğu')\n",
    "axes[1].plot(history['val_accuracy'])\n",
    "plotter.show()"
   ]
  },
  {
   "cell_type": "code",
   "execution_count": 22,
   "id": "a662846a",
   "metadata": {},
   "outputs": [
    {
     "name": "stdout",
     "output_type": "stream",
     "text": [
      "\u001b[1m1/1\u001b[0m \u001b[32m━━━━━━━━━━━━━━━━━━━━\u001b[0m\u001b[37m\u001b[0m \u001b[1m0s\u001b[0m 147ms/step - accuracy: 1.0000 - loss: 1.8877e-04\n"
     ]
    }
   ],
   "source": [
    "# Şimdi modeli test veri setinde test ederek sonuçtan emîn olmaya çalışalım, inşâAllâh:\n",
    "predicts = model.evaluate(xTest, yTest)"
   ]
  },
  {
   "cell_type": "code",
   "execution_count": 29,
   "id": "abcc9769",
   "metadata": {},
   "outputs": [
    {
     "name": "stdout",
     "output_type": "stream",
     "text": [
      "\u001b[1m1/1\u001b[0m \u001b[32m━━━━━━━━━━━━━━━━━━━━\u001b[0m\u001b[37m\u001b[0m \u001b[1m0s\u001b[0m 315ms/step\n"
     ]
    }
   ],
   "source": [
    "o = model.predict(xTest[:1])"
   ]
  },
  {
   "cell_type": "code",
   "execution_count": 37,
   "id": "e07dabd2",
   "metadata": {},
   "outputs": [
    {
     "name": "stdout",
     "output_type": "stream",
     "text": [
      "\u001b[1m250/250\u001b[0m \u001b[32m━━━━━━━━━━━━━━━━━━━━\u001b[0m\u001b[37m\u001b[0m \u001b[1m11s\u001b[0m 45ms/step - accuracy: 0.9868 - loss: 0.0358\n"
     ]
    }
   ],
   "source": [
    "_, accuracy = model.evaluate(xTest, yTest)"
   ]
  },
  {
   "cell_type": "code",
   "execution_count": 41,
   "id": "063ee030",
   "metadata": {},
   "outputs": [
    {
     "name": "stdout",
     "output_type": "stream",
     "text": [
      "Model doğruluk oranı:0.9924\n"
     ]
    }
   ],
   "source": [
    "print(f\"Model doğruluk oranı:{nm.round(accuracy, 4)}\")"
   ]
  },
  {
   "cell_type": "code",
   "execution_count": 55,
   "id": "53fa7bd9",
   "metadata": {},
   "outputs": [
    {
     "name": "stdout",
     "output_type": "stream",
     "text": [
      "\u001b[1m250/250\u001b[0m \u001b[32m━━━━━━━━━━━━━━━━━━━━\u001b[0m\u001b[37m\u001b[0m \u001b[1m11s\u001b[0m 43ms/step\n"
     ]
    }
   ],
   "source": [
    "# 8000 veri için %0.0076 hatâ varsa 8000*0.0076'dan yaklaşık 60 - 61 adet hatâlı tespit var demektir.\n",
    "# Bu hatâlı tespitler de kuvvetle muhtemel birbirine çok benzer harflerdir.\n",
    "# Bu hatâlı tespitleri öğrenmek için;\n",
    "preds = model.predict(xTest).argmax(axis=1)"
   ]
  },
  {
   "cell_type": "code",
   "execution_count": 87,
   "id": "d0c6e525",
   "metadata": {},
   "outputs": [],
   "source": [
    "# Hangi indisli elemanları yanlış tespit ettiğimizi bulmak için;\n",
    "indicesThatWrong = nm.where(preds != yTest.argmax(axis=1))[0]"
   ]
  },
  {
   "cell_type": "code",
   "execution_count": 89,
   "id": "b4532f4b",
   "metadata": {},
   "outputs": [
    {
     "name": "stdout",
     "output_type": "stream",
     "text": [
      "Hatâlı tespit edilen örnek sayısı: 61\n",
      "Hatâlı tespit edilenlerin indisleri: [  18   35   43  109  118  129  130  135  369  387  414  447  462  597\n",
      "  654  896  927  939  959 1073 1289 1422 1520 1534 1558 1626 1726 1767\n",
      " 1808 1941 2078 2176 2207 2224 2238 2284 2497 2639 2740 2761 2807 2814\n",
      " 2860 2956 3937 4555 4559 4571 4572 4576 4597 4651 4783 6316 6520 7009\n",
      " 7530 7679 7692 7729 7792]\n"
     ]
    }
   ],
   "source": [
    "print(f\"Hatâlı tespit edilen örnek sayısı: {indicesThatWrong.shape[0]}\")\n",
    "print(f\"Hatâlı tespit edilenlerin indisleri: {indicesThatWrong}\")"
   ]
  },
  {
   "cell_type": "code",
   "execution_count": 105,
   "id": "005a724d",
   "metadata": {},
   "outputs": [
    {
     "data": {
      "image/png": "[encoded data removed]",
      "text/plain": [
       "<Figure size 640x480 with 6 Axes>"
      ]
     },
     "metadata": {},
     "output_type": "display_data"
    }
   ],
   "source": [
    "# 6 hatâlı tespite bakmak istersek;\n",
    "fig, axes = plotter.subplots(2,3)\n",
    "for i in range(2):\n",
    "    for j in range(3):\n",
    "        axes[i][j].imshow(xTest[indicesThatWrong[i + j]].squeeze(), cmap='binary')\n",
    "        axes[i][j].set_title(f\"Gerçek: {yTest[indicesThatWrong[i + j]].argmax()}, Tahmîn: {preds[indicesThatWrong[i + j]]}\")\n",
    "        axes[i][j].axis('off')\n",
    "plotter.tight_layout()\n",
    "plotter.show()\n",
    "# Eğer matplotlib'e (28, 28, 1) boyutunda bir dizi verirseniz bunu çizemez.\n",
    "# squeeze() metodu, tek elemanlı eksenleri kaldırır; yanî veriyi (28, 28) boyutuna getirir.\n",
    "# Bunu reshape() metoduyla da yapabilirsiniz;\n",
    "# fakat bu işlemi squeeze() ile yapmak daha hatâdan uzak bir yoldur."
   ]
  },
  {
   "cell_type": "markdown",
   "id": "8d63c42c",
   "metadata": {},
   "source": [
    "- Gerçekten bu rakamlar aslî hüviyetinden çook uzak; modelin buradaki hatâsı anlamlı değil"
   ]
  },
  {
   "cell_type": "markdown",
   "id": "9d07ec88",
   "metadata": {},
   "source": [
    "- Yazar : Mehmet Akif SOLAK"
   ]
  }
 ],
 "metadata": {
  "kernelspec": {
   "display_name": "Python 3 (ipykernel)",
   "language": "python",
   "name": "python3"
  },
  "language_info": {
   "codemirror_mode": {
    "name": "ipython",
    "version": 3
   },
   "file_extension": ".py",
   "mimetype": "text/x-python",
   "name": "python",
   "nbconvert_exporter": "python",
   "pygments_lexer": "ipython3",
   "version": "3.12.8"
  }
 },
 "nbformat": 4,
 "nbformat_minor": 5
}
