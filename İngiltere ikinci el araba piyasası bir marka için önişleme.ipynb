{
 "cells": [
  {
   "cell_type": "markdown",
   "metadata": {},
   "source": [
    "# VERİ BİLİMİ İÇİN PYTHON ve TENSORFLOW EĞİTİMİ UYGULAMALARI"
   ]
  },
  {
   "cell_type": "code",
   "execution_count": 115,
   "metadata": {},
   "outputs": [],
   "source": [
    "import numpy as np\n",
    "import pandas as pa\n",
    "import matplotlib.pyplot as plt"
   ]
  },
  {
   "cell_type": "code",
   "execution_count": 116,
   "metadata": {},
   "outputs": [],
   "source": [
    "df = pa.read_excel(\"merc.xlsx\")"
   ]
  },
  {
   "cell_type": "code",
   "execution_count": 117,
   "metadata": {},
   "outputs": [
    {
     "data": {
      "text/html": [
       "<div>\n",
       "<style scoped>\n",
       "    .dataframe tbody tr th:only-of-type {\n",
       "        vertical-align: middle;\n",
       "    }\n",
       "\n",
       "    .dataframe tbody tr th {\n",
       "        vertical-align: top;\n",
       "    }\n",
       "\n",
       "    .dataframe thead th {\n",
       "        text-align: right;\n",
       "    }\n",
       "</style>\n",
       "<table border=\"1\" class=\"dataframe\">\n",
       "  <thead>\n",
       "    <tr style=\"text-align: right;\">\n",
       "      <th></th>\n",
       "      <th>year</th>\n",
       "      <th>price</th>\n",
       "      <th>transmission</th>\n",
       "      <th>mileage</th>\n",
       "      <th>tax</th>\n",
       "      <th>mpg</th>\n",
       "      <th>engineSize</th>\n",
       "    </tr>\n",
       "  </thead>\n",
       "  <tbody>\n",
       "    <tr>\n",
       "      <td>0</td>\n",
       "      <td>2005</td>\n",
       "      <td>5200</td>\n",
       "      <td>Automatic</td>\n",
       "      <td>63000</td>\n",
       "      <td>325</td>\n",
       "      <td>32.1</td>\n",
       "      <td>1.8</td>\n",
       "    </tr>\n",
       "    <tr>\n",
       "      <td>1</td>\n",
       "      <td>2017</td>\n",
       "      <td>34948</td>\n",
       "      <td>Automatic</td>\n",
       "      <td>27000</td>\n",
       "      <td>20</td>\n",
       "      <td>61.4</td>\n",
       "      <td>2.1</td>\n",
       "    </tr>\n",
       "    <tr>\n",
       "      <td>2</td>\n",
       "      <td>2016</td>\n",
       "      <td>49948</td>\n",
       "      <td>Automatic</td>\n",
       "      <td>6200</td>\n",
       "      <td>555</td>\n",
       "      <td>28.0</td>\n",
       "      <td>5.5</td>\n",
       "    </tr>\n",
       "    <tr>\n",
       "      <td>3</td>\n",
       "      <td>2016</td>\n",
       "      <td>61948</td>\n",
       "      <td>Automatic</td>\n",
       "      <td>16000</td>\n",
       "      <td>325</td>\n",
       "      <td>30.4</td>\n",
       "      <td>4.0</td>\n",
       "    </tr>\n",
       "    <tr>\n",
       "      <td>4</td>\n",
       "      <td>2016</td>\n",
       "      <td>73948</td>\n",
       "      <td>Automatic</td>\n",
       "      <td>4000</td>\n",
       "      <td>325</td>\n",
       "      <td>30.1</td>\n",
       "      <td>4.0</td>\n",
       "    </tr>\n",
       "  </tbody>\n",
       "</table>\n",
       "</div>"
      ],
      "text/plain": [
       "   year  price transmission  mileage  tax   mpg  engineSize\n",
       "0  2005   5200    Automatic    63000  325  32.1         1.8\n",
       "1  2017  34948    Automatic    27000   20  61.4         2.1\n",
       "2  2016  49948    Automatic     6200  555  28.0         5.5\n",
       "3  2016  61948    Automatic    16000  325  30.4         4.0\n",
       "4  2016  73948    Automatic     4000  325  30.1         4.0"
      ]
     },
     "execution_count": 117,
     "metadata": {},
     "output_type": "execute_result"
    }
   ],
   "source": [
    "df.head()#Verinin neye benzediğine bakmak için..."
   ]
  },
  {
   "cell_type": "code",
   "execution_count": 118,
   "metadata": {},
   "outputs": [
    {
     "data": {
      "text/plain": [
       "year            13119\n",
       "price           13119\n",
       "transmission    13119\n",
       "mileage         13119\n",
       "tax             13119\n",
       "mpg             13119\n",
       "engineSize      13119\n",
       "dtype: int64"
      ]
     },
     "execution_count": 118,
     "metadata": {},
     "output_type": "execute_result"
    }
   ],
   "source": [
    "df.count()#Verinin satır sayısına bakmak için"
   ]
  },
  {
   "cell_type": "code",
   "execution_count": 119,
   "metadata": {},
   "outputs": [
    {
     "name": "stdout",
     "output_type": "stream",
     "text": [
      "year            False\n",
      "price           False\n",
      "transmission    False\n",
      "mileage         False\n",
      "tax             False\n",
      "mpg             False\n",
      "engineSize      False\n",
      "Name: 2, dtype: bool\n",
      "<class 'pandas.core.series.Series'>\n"
     ]
    }
   ],
   "source": [
    "print(df.isnull().loc[2])\n",
    "print(type(df.isnull().loc[2]))"
   ]
  },
  {
   "cell_type": "code",
   "execution_count": 120,
   "metadata": {},
   "outputs": [
    {
     "data": {
      "text/plain": [
       "year            0\n",
       "price           0\n",
       "transmission    0\n",
       "mileage         0\n",
       "tax             0\n",
       "mpg             0\n",
       "engineSize      0\n",
       "dtype: int64"
      ]
     },
     "execution_count": 120,
     "metadata": {},
     "output_type": "execute_result"
    }
   ],
   "source": [
    "#Boş hücre olup, olmadığına bakmanın en kısa yollarından ikisi şudur:\n",
    "df.isnull().sum()\n",
    "#df[df.isnull()].dropna().count()"
   ]
  },
  {
   "cell_type": "code",
   "execution_count": 121,
   "metadata": {},
   "outputs": [
    {
     "name": "stdout",
     "output_type": "stream",
     "text": [
      "Boş hücre sayısı : 91833\n",
      "Döngü çalışma adedi:13119\n"
     ]
    }
   ],
   "source": [
    "#Bu da uzun yöntemi:\n",
    "check = df.isnull()\n",
    "falseCount = 0\n",
    "sayac = 0\n",
    "while sayac < df.count()[0]:\n",
    "    for i in check.loc[sayac]:\n",
    "        if i == False:\n",
    "            falseCount += 1\n",
    "    sayac += 1\n",
    "\n",
    "print(\"Boş hücre sayısı : \" + str(falseCount))\n",
    "print(f\"Döngü çalışma adedi:{sayac}\")"
   ]
  },
  {
   "cell_type": "code",
   "execution_count": 122,
   "metadata": {},
   "outputs": [
    {
     "data": {
      "text/plain": [
       "<matplotlib.axes._subplots.AxesSubplot at 0x1ba9c68a508>"
      ]
     },
     "execution_count": 122,
     "metadata": {},
     "output_type": "execute_result"
    },
    {
     "data": {
      "image/png": "[encoded data removed]",
      "text/plain": [
       "<Figure size 1224x360 with 1 Axes>"
      ]
     },
     "metadata": {
      "needs_background": "light"
     },
     "output_type": "display_data"
    }
   ],
   "source": [
    "#Şimdi verinin dağılımına bakıp, aykırı verileri tespit edelim:\n",
    "#Bunun için seaborn kütüphânesini kullanalım:\n",
    "import seaborn as sbn\n",
    "import matplotlib.pyplot as pt\n",
    "pt.figure(figsize=(17,5))\n",
    "sbn.distplot(df[\"price\"])"
   ]
  },
  {
   "cell_type": "code",
   "execution_count": 123,
   "metadata": {},
   "outputs": [
    {
     "data": {
      "text/plain": [
       "<matplotlib.axes._subplots.AxesSubplot at 0x1ba9c370e88>"
      ]
     },
     "execution_count": 123,
     "metadata": {},
     "output_type": "execute_result"
    },
    {
     "data": {
      "image/png": "[encoded data removed]",
      "text/plain": [
       "<Figure size 864x720 with 1 Axes>"
      ]
     },
     "metadata": {
      "needs_background": "light"
     },
     "output_type": "display_data"
    }
   ],
   "source": [
    "#Görüldüğü üzere verinin bir kısmı normal dağılıma sâhip; fakat grafiğin sağ tarafında görüleceği üzere..\n",
    "#..veride anormal veriler var\n",
    "#Çok pahalı arabalar yüzünden modelimiz 'bozuk' olabilir; bu çok pahalı arabalardan veri setini ayırarak modelin..\n",
    "#.. performansını arttırmaya çalışmalıyız.\n",
    "\n",
    "\n",
    "#Veri setinin homojen olması modelin başarısı açısından çok önemlidir.\n",
    "#Hattâ Geron'un kitâbında verinin, makine öğrenmesi algoritmasından daha önemli olabildiğine dair iktibas..\n",
    "#yer almaktadır. Veri setinin problemi tanımlamada homojen ve yeterli olduğu durumda birçok makine öğrenim algoritmasının..\n",
    "#..yaklaşık performans gösterdiği söylenmiştir.\n",
    "#O sebeple algoritmadaki özelliklerin dağılımına göz atmak gerekir; fakat yapay sinir ağında özelliklerin ağırlıkları..\n",
    "#olduğundan bu çok sıkıntı olmaz\n",
    "#Veri setinde hangi yıldan kaç otomobil var, bakalım\n",
    "plt.figure(figsize=(12,10))\n",
    "sbn.countplot(df[\"year\"])"
   ]
  },
  {
   "cell_type": "code",
   "execution_count": null,
   "metadata": {},
   "outputs": [],
   "source": []
  },
  {
   "cell_type": "code",
   "execution_count": 124,
   "metadata": {},
   "outputs": [
    {
     "data": {
      "text/html": [
       "<div>\n",
       "<style scoped>\n",
       "    .dataframe tbody tr th:only-of-type {\n",
       "        vertical-align: middle;\n",
       "    }\n",
       "\n",
       "    .dataframe tbody tr th {\n",
       "        vertical-align: top;\n",
       "    }\n",
       "\n",
       "    .dataframe thead th {\n",
       "        text-align: right;\n",
       "    }\n",
       "</style>\n",
       "<table border=\"1\" class=\"dataframe\">\n",
       "  <thead>\n",
       "    <tr style=\"text-align: right;\">\n",
       "      <th></th>\n",
       "      <th>year</th>\n",
       "      <th>price</th>\n",
       "      <th>mileage</th>\n",
       "      <th>tax</th>\n",
       "      <th>mpg</th>\n",
       "      <th>engineSize</th>\n",
       "    </tr>\n",
       "  </thead>\n",
       "  <tbody>\n",
       "    <tr>\n",
       "      <td>year</td>\n",
       "      <td>1.000000</td>\n",
       "      <td>0.520712</td>\n",
       "      <td>-0.738027</td>\n",
       "      <td>0.012480</td>\n",
       "      <td>-0.094626</td>\n",
       "      <td>-0.142147</td>\n",
       "    </tr>\n",
       "    <tr>\n",
       "      <td>price</td>\n",
       "      <td>0.520712</td>\n",
       "      <td>1.000000</td>\n",
       "      <td>-0.537214</td>\n",
       "      <td>0.268717</td>\n",
       "      <td>-0.438445</td>\n",
       "      <td>0.516126</td>\n",
       "    </tr>\n",
       "    <tr>\n",
       "      <td>mileage</td>\n",
       "      <td>-0.738027</td>\n",
       "      <td>-0.537214</td>\n",
       "      <td>1.000000</td>\n",
       "      <td>-0.160223</td>\n",
       "      <td>0.202850</td>\n",
       "      <td>0.063652</td>\n",
       "    </tr>\n",
       "    <tr>\n",
       "      <td>tax</td>\n",
       "      <td>0.012480</td>\n",
       "      <td>0.268717</td>\n",
       "      <td>-0.160223</td>\n",
       "      <td>1.000000</td>\n",
       "      <td>-0.513742</td>\n",
       "      <td>0.338341</td>\n",
       "    </tr>\n",
       "    <tr>\n",
       "      <td>mpg</td>\n",
       "      <td>-0.094626</td>\n",
       "      <td>-0.438445</td>\n",
       "      <td>0.202850</td>\n",
       "      <td>-0.513742</td>\n",
       "      <td>1.000000</td>\n",
       "      <td>-0.339862</td>\n",
       "    </tr>\n",
       "    <tr>\n",
       "      <td>engineSize</td>\n",
       "      <td>-0.142147</td>\n",
       "      <td>0.516126</td>\n",
       "      <td>0.063652</td>\n",
       "      <td>0.338341</td>\n",
       "      <td>-0.339862</td>\n",
       "      <td>1.000000</td>\n",
       "    </tr>\n",
       "  </tbody>\n",
       "</table>\n",
       "</div>"
      ],
      "text/plain": [
       "                year     price   mileage       tax       mpg  engineSize\n",
       "year        1.000000  0.520712 -0.738027  0.012480 -0.094626   -0.142147\n",
       "price       0.520712  1.000000 -0.537214  0.268717 -0.438445    0.516126\n",
       "mileage    -0.738027 -0.537214  1.000000 -0.160223  0.202850    0.063652\n",
       "tax         0.012480  0.268717 -0.160223  1.000000 -0.513742    0.338341\n",
       "mpg        -0.094626 -0.438445  0.202850 -0.513742  1.000000   -0.339862\n",
       "engineSize -0.142147  0.516126  0.063652  0.338341 -0.339862    1.000000"
      ]
     },
     "execution_count": 124,
     "metadata": {},
     "output_type": "execute_result"
    }
   ],
   "source": [
    "#Görüleceği üzere bâzı çok eski arabalar var; bunları kaldırmak algoritmanın performansını arttırabilir.\n",
    "#Değişkenler arasındaki korelasyona bakalım:\n",
    "df.corr()"
   ]
  },
  {
   "cell_type": "code",
   "execution_count": 125,
   "metadata": {},
   "outputs": [
    {
     "data": {
      "text/plain": [
       "<matplotlib.axes._subplots.AxesSubplot at 0x1ba9c3d8988>"
      ]
     },
     "execution_count": 125,
     "metadata": {},
     "output_type": "execute_result"
    },
    {
     "data": {
      "image/png": "[encoded data removed]",
      "text/plain": [
       "<Figure size 576x576 with 1 Axes>"
      ]
     },
     "metadata": {
      "needs_background": "light"
     },
     "output_type": "display_data"
    }
   ],
   "source": [
    "#Korelasyonda 'price' sütununu çok çok yüksek düzeyde etkileyen bir sütun veya çok az düzeyde etkileyen bir sütun yok\n",
    "#Korelasyondaki dağılımlar normal gibi görünüyor\n",
    "\n",
    "#Şimdi korelasyonu düşük olan ve yüksek olan verilerin fiyat üzerindeki dağılımına bakarak aykırılıkları araştırmaya..\n",
    "#..devam edelim:\n",
    "#Dağılım grafiği çizilirken 'y' sütununu bağımlı değişken olarak yazmalıyız\n",
    "plt.figure(figsize=(8,8))\n",
    "sbn.scatterplot(x= 'mileage', y ='price', data = df)"
   ]
  },
  {
   "cell_type": "code",
   "execution_count": 126,
   "metadata": {},
   "outputs": [
    {
     "data": {
      "text/plain": [
       "<matplotlib.axes._subplots.AxesSubplot at 0x1ba9c3c7708>"
      ]
     },
     "execution_count": 126,
     "metadata": {},
     "output_type": "execute_result"
    },
    {
     "data": {
      "image/png": "[encoded data removed]",
      "text/plain": [
       "<Figure size 432x288 with 1 Axes>"
      ]
     },
     "metadata": {
      "needs_background": "light"
     },
     "output_type": "display_data"
    }
   ],
   "source": [
    "#Diğer sütunlar için de bakalım:\n",
    "sbn.scatterplot(x= 'year', y ='price', data = df)"
   ]
  },
  {
   "cell_type": "code",
   "execution_count": 127,
   "metadata": {},
   "outputs": [
    {
     "data": {
      "text/html": [
       "<div>\n",
       "<style scoped>\n",
       "    .dataframe tbody tr th:only-of-type {\n",
       "        vertical-align: middle;\n",
       "    }\n",
       "\n",
       "    .dataframe tbody tr th {\n",
       "        vertical-align: top;\n",
       "    }\n",
       "\n",
       "    .dataframe thead th {\n",
       "        text-align: right;\n",
       "    }\n",
       "</style>\n",
       "<table border=\"1\" class=\"dataframe\">\n",
       "  <thead>\n",
       "    <tr style=\"text-align: right;\">\n",
       "      <th></th>\n",
       "      <th>year</th>\n",
       "      <th>price</th>\n",
       "      <th>transmission</th>\n",
       "      <th>mileage</th>\n",
       "      <th>tax</th>\n",
       "      <th>mpg</th>\n",
       "      <th>engineSize</th>\n",
       "    </tr>\n",
       "  </thead>\n",
       "  <tbody>\n",
       "    <tr>\n",
       "      <td>6199</td>\n",
       "      <td>2020</td>\n",
       "      <td>159999</td>\n",
       "      <td>Semi-Auto</td>\n",
       "      <td>1350</td>\n",
       "      <td>145</td>\n",
       "      <td>21.4</td>\n",
       "      <td>4.0</td>\n",
       "    </tr>\n",
       "    <tr>\n",
       "      <td>10044</td>\n",
       "      <td>2020</td>\n",
       "      <td>154998</td>\n",
       "      <td>Automatic</td>\n",
       "      <td>3000</td>\n",
       "      <td>150</td>\n",
       "      <td>21.4</td>\n",
       "      <td>4.0</td>\n",
       "    </tr>\n",
       "    <tr>\n",
       "      <td>5</td>\n",
       "      <td>2011</td>\n",
       "      <td>149948</td>\n",
       "      <td>Automatic</td>\n",
       "      <td>3000</td>\n",
       "      <td>570</td>\n",
       "      <td>21.4</td>\n",
       "      <td>6.2</td>\n",
       "    </tr>\n",
       "    <tr>\n",
       "      <td>8737</td>\n",
       "      <td>2019</td>\n",
       "      <td>140319</td>\n",
       "      <td>Semi-Auto</td>\n",
       "      <td>785</td>\n",
       "      <td>150</td>\n",
       "      <td>22.1</td>\n",
       "      <td>4.0</td>\n",
       "    </tr>\n",
       "    <tr>\n",
       "      <td>6386</td>\n",
       "      <td>2018</td>\n",
       "      <td>139995</td>\n",
       "      <td>Semi-Auto</td>\n",
       "      <td>13046</td>\n",
       "      <td>145</td>\n",
       "      <td>21.4</td>\n",
       "      <td>4.0</td>\n",
       "    </tr>\n",
       "    <tr>\n",
       "      <td>8</td>\n",
       "      <td>2019</td>\n",
       "      <td>139948</td>\n",
       "      <td>Automatic</td>\n",
       "      <td>12000</td>\n",
       "      <td>145</td>\n",
       "      <td>21.4</td>\n",
       "      <td>4.0</td>\n",
       "    </tr>\n",
       "    <tr>\n",
       "      <td>9133</td>\n",
       "      <td>2019</td>\n",
       "      <td>139559</td>\n",
       "      <td>Semi-Auto</td>\n",
       "      <td>1000</td>\n",
       "      <td>145</td>\n",
       "      <td>22.1</td>\n",
       "      <td>4.0</td>\n",
       "    </tr>\n",
       "    <tr>\n",
       "      <td>8821</td>\n",
       "      <td>2020</td>\n",
       "      <td>138439</td>\n",
       "      <td>Semi-Auto</td>\n",
       "      <td>1000</td>\n",
       "      <td>145</td>\n",
       "      <td>22.1</td>\n",
       "      <td>4.0</td>\n",
       "    </tr>\n",
       "    <tr>\n",
       "      <td>5902</td>\n",
       "      <td>2018</td>\n",
       "      <td>135771</td>\n",
       "      <td>Semi-Auto</td>\n",
       "      <td>19000</td>\n",
       "      <td>145</td>\n",
       "      <td>21.4</td>\n",
       "      <td>4.0</td>\n",
       "    </tr>\n",
       "    <tr>\n",
       "      <td>7864</td>\n",
       "      <td>2018</td>\n",
       "      <td>135124</td>\n",
       "      <td>Semi-Auto</td>\n",
       "      <td>18234</td>\n",
       "      <td>150</td>\n",
       "      <td>21.4</td>\n",
       "      <td>4.0</td>\n",
       "    </tr>\n",
       "    <tr>\n",
       "      <td>8673</td>\n",
       "      <td>2019</td>\n",
       "      <td>134219</td>\n",
       "      <td>Semi-Auto</td>\n",
       "      <td>1000</td>\n",
       "      <td>145</td>\n",
       "      <td>24.8</td>\n",
       "      <td>4.0</td>\n",
       "    </tr>\n",
       "    <tr>\n",
       "      <td>6210</td>\n",
       "      <td>2019</td>\n",
       "      <td>129990</td>\n",
       "      <td>Automatic</td>\n",
       "      <td>1000</td>\n",
       "      <td>145</td>\n",
       "      <td>24.8</td>\n",
       "      <td>4.0</td>\n",
       "    </tr>\n",
       "    <tr>\n",
       "      <td>4759</td>\n",
       "      <td>2019</td>\n",
       "      <td>126000</td>\n",
       "      <td>Automatic</td>\n",
       "      <td>250</td>\n",
       "      <td>145</td>\n",
       "      <td>24.6</td>\n",
       "      <td>4.0</td>\n",
       "    </tr>\n",
       "    <tr>\n",
       "      <td>2647</td>\n",
       "      <td>2019</td>\n",
       "      <td>125796</td>\n",
       "      <td>Automatic</td>\n",
       "      <td>637</td>\n",
       "      <td>145</td>\n",
       "      <td>24.8</td>\n",
       "      <td>4.0</td>\n",
       "    </tr>\n",
       "    <tr>\n",
       "      <td>6223</td>\n",
       "      <td>2019</td>\n",
       "      <td>124999</td>\n",
       "      <td>Automatic</td>\n",
       "      <td>1500</td>\n",
       "      <td>145</td>\n",
       "      <td>31.7</td>\n",
       "      <td>4.0</td>\n",
       "    </tr>\n",
       "    <tr>\n",
       "      <td>4094</td>\n",
       "      <td>2019</td>\n",
       "      <td>124366</td>\n",
       "      <td>Semi-Auto</td>\n",
       "      <td>880</td>\n",
       "      <td>145</td>\n",
       "      <td>24.8</td>\n",
       "      <td>4.0</td>\n",
       "    </tr>\n",
       "    <tr>\n",
       "      <td>2629</td>\n",
       "      <td>2019</td>\n",
       "      <td>123846</td>\n",
       "      <td>Semi-Auto</td>\n",
       "      <td>2951</td>\n",
       "      <td>145</td>\n",
       "      <td>22.1</td>\n",
       "      <td>4.0</td>\n",
       "    </tr>\n",
       "    <tr>\n",
       "      <td>7134</td>\n",
       "      <td>2019</td>\n",
       "      <td>115359</td>\n",
       "      <td>Semi-Auto</td>\n",
       "      <td>1000</td>\n",
       "      <td>145</td>\n",
       "      <td>30.1</td>\n",
       "      <td>4.0</td>\n",
       "    </tr>\n",
       "    <tr>\n",
       "      <td>9159</td>\n",
       "      <td>2019</td>\n",
       "      <td>114199</td>\n",
       "      <td>Semi-Auto</td>\n",
       "      <td>891</td>\n",
       "      <td>145</td>\n",
       "      <td>22.6</td>\n",
       "      <td>4.0</td>\n",
       "    </tr>\n",
       "    <tr>\n",
       "      <td>1980</td>\n",
       "      <td>2019</td>\n",
       "      <td>109995</td>\n",
       "      <td>Semi-Auto</td>\n",
       "      <td>4688</td>\n",
       "      <td>150</td>\n",
       "      <td>31.7</td>\n",
       "      <td>4.0</td>\n",
       "    </tr>\n",
       "  </tbody>\n",
       "</table>\n",
       "</div>"
      ],
      "text/plain": [
       "       year   price transmission  mileage  tax   mpg  engineSize\n",
       "6199   2020  159999    Semi-Auto     1350  145  21.4         4.0\n",
       "10044  2020  154998    Automatic     3000  150  21.4         4.0\n",
       "5      2011  149948    Automatic     3000  570  21.4         6.2\n",
       "8737   2019  140319    Semi-Auto      785  150  22.1         4.0\n",
       "6386   2018  139995    Semi-Auto    13046  145  21.4         4.0\n",
       "8      2019  139948    Automatic    12000  145  21.4         4.0\n",
       "9133   2019  139559    Semi-Auto     1000  145  22.1         4.0\n",
       "8821   2020  138439    Semi-Auto     1000  145  22.1         4.0\n",
       "5902   2018  135771    Semi-Auto    19000  145  21.4         4.0\n",
       "7864   2018  135124    Semi-Auto    18234  150  21.4         4.0\n",
       "8673   2019  134219    Semi-Auto     1000  145  24.8         4.0\n",
       "6210   2019  129990    Automatic     1000  145  24.8         4.0\n",
       "4759   2019  126000    Automatic      250  145  24.6         4.0\n",
       "2647   2019  125796    Automatic      637  145  24.8         4.0\n",
       "6223   2019  124999    Automatic     1500  145  31.7         4.0\n",
       "4094   2019  124366    Semi-Auto      880  145  24.8         4.0\n",
       "2629   2019  123846    Semi-Auto     2951  145  22.1         4.0\n",
       "7134   2019  115359    Semi-Auto     1000  145  30.1         4.0\n",
       "9159   2019  114199    Semi-Auto      891  145  22.6         4.0\n",
       "1980   2019  109995    Semi-Auto     4688  150  31.7         4.0"
      ]
     },
     "execution_count": 127,
     "metadata": {},
     "output_type": "execute_result"
    }
   ],
   "source": [
    "#Şimdi tespit ettiğimiz aykırı değerlere daha yakından bakalım:\n",
    "#Çok pahalı arabaları sıralayalım (ilk 10 tânesi için):\n",
    "df.sort_values('price', ascending = False).head(20)"
   ]
  },
  {
   "cell_type": "code",
   "execution_count": 128,
   "metadata": {},
   "outputs": [
    {
     "data": {
      "text/html": [
       "<div>\n",
       "<style scoped>\n",
       "    .dataframe tbody tr th:only-of-type {\n",
       "        vertical-align: middle;\n",
       "    }\n",
       "\n",
       "    .dataframe tbody tr th {\n",
       "        vertical-align: top;\n",
       "    }\n",
       "\n",
       "    .dataframe thead th {\n",
       "        text-align: right;\n",
       "    }\n",
       "</style>\n",
       "<table border=\"1\" class=\"dataframe\">\n",
       "  <thead>\n",
       "    <tr style=\"text-align: right;\">\n",
       "      <th></th>\n",
       "      <th>year</th>\n",
       "      <th>price</th>\n",
       "      <th>transmission</th>\n",
       "      <th>mileage</th>\n",
       "      <th>tax</th>\n",
       "      <th>mpg</th>\n",
       "      <th>engineSize</th>\n",
       "    </tr>\n",
       "  </thead>\n",
       "  <tbody>\n",
       "    <tr>\n",
       "      <td>11816</td>\n",
       "      <td>2003</td>\n",
       "      <td>650</td>\n",
       "      <td>Manual</td>\n",
       "      <td>109090</td>\n",
       "      <td>235</td>\n",
       "      <td>40.0</td>\n",
       "      <td>1.4</td>\n",
       "    </tr>\n",
       "    <tr>\n",
       "      <td>12008</td>\n",
       "      <td>2010</td>\n",
       "      <td>1350</td>\n",
       "      <td>Manual</td>\n",
       "      <td>116126</td>\n",
       "      <td>145</td>\n",
       "      <td>54.3</td>\n",
       "      <td>2.0</td>\n",
       "    </tr>\n",
       "    <tr>\n",
       "      <td>11765</td>\n",
       "      <td>2000</td>\n",
       "      <td>1490</td>\n",
       "      <td>Automatic</td>\n",
       "      <td>87000</td>\n",
       "      <td>265</td>\n",
       "      <td>27.2</td>\n",
       "      <td>3.2</td>\n",
       "    </tr>\n",
       "    <tr>\n",
       "      <td>11549</td>\n",
       "      <td>2002</td>\n",
       "      <td>1495</td>\n",
       "      <td>Automatic</td>\n",
       "      <td>13800</td>\n",
       "      <td>305</td>\n",
       "      <td>39.8</td>\n",
       "      <td>2.7</td>\n",
       "    </tr>\n",
       "    <tr>\n",
       "      <td>12594</td>\n",
       "      <td>2004</td>\n",
       "      <td>1495</td>\n",
       "      <td>Manual</td>\n",
       "      <td>119000</td>\n",
       "      <td>300</td>\n",
       "      <td>34.5</td>\n",
       "      <td>1.8</td>\n",
       "    </tr>\n",
       "    <tr>\n",
       "      <td>11174</td>\n",
       "      <td>2001</td>\n",
       "      <td>1695</td>\n",
       "      <td>Automatic</td>\n",
       "      <td>108800</td>\n",
       "      <td>325</td>\n",
       "      <td>31.7</td>\n",
       "      <td>3.2</td>\n",
       "    </tr>\n",
       "    <tr>\n",
       "      <td>12710</td>\n",
       "      <td>2006</td>\n",
       "      <td>1695</td>\n",
       "      <td>Automatic</td>\n",
       "      <td>153000</td>\n",
       "      <td>300</td>\n",
       "      <td>33.6</td>\n",
       "      <td>1.8</td>\n",
       "    </tr>\n",
       "    <tr>\n",
       "      <td>12766</td>\n",
       "      <td>2004</td>\n",
       "      <td>1780</td>\n",
       "      <td>Automatic</td>\n",
       "      <td>118000</td>\n",
       "      <td>265</td>\n",
       "      <td>41.5</td>\n",
       "      <td>2.2</td>\n",
       "    </tr>\n",
       "    <tr>\n",
       "      <td>12009</td>\n",
       "      <td>2007</td>\n",
       "      <td>1800</td>\n",
       "      <td>Automatic</td>\n",
       "      <td>84000</td>\n",
       "      <td>200</td>\n",
       "      <td>42.8</td>\n",
       "      <td>1.5</td>\n",
       "    </tr>\n",
       "    <tr>\n",
       "      <td>11764</td>\n",
       "      <td>1998</td>\n",
       "      <td>1990</td>\n",
       "      <td>Automatic</td>\n",
       "      <td>99300</td>\n",
       "      <td>265</td>\n",
       "      <td>32.1</td>\n",
       "      <td>2.3</td>\n",
       "    </tr>\n",
       "    <tr>\n",
       "      <td>11808</td>\n",
       "      <td>1998</td>\n",
       "      <td>1990</td>\n",
       "      <td>Automatic</td>\n",
       "      <td>113557</td>\n",
       "      <td>265</td>\n",
       "      <td>32.1</td>\n",
       "      <td>2.3</td>\n",
       "    </tr>\n",
       "    <tr>\n",
       "      <td>11383</td>\n",
       "      <td>2005</td>\n",
       "      <td>1995</td>\n",
       "      <td>Automatic</td>\n",
       "      <td>105000</td>\n",
       "      <td>260</td>\n",
       "      <td>43.5</td>\n",
       "      <td>2.1</td>\n",
       "    </tr>\n",
       "    <tr>\n",
       "      <td>11378</td>\n",
       "      <td>2004</td>\n",
       "      <td>1995</td>\n",
       "      <td>Semi-Auto</td>\n",
       "      <td>165000</td>\n",
       "      <td>330</td>\n",
       "      <td>20.0</td>\n",
       "      <td>3.7</td>\n",
       "    </tr>\n",
       "    <tr>\n",
       "      <td>11857</td>\n",
       "      <td>2002</td>\n",
       "      <td>2140</td>\n",
       "      <td>Automatic</td>\n",
       "      <td>52700</td>\n",
       "      <td>325</td>\n",
       "      <td>31.4</td>\n",
       "      <td>2.0</td>\n",
       "    </tr>\n",
       "    <tr>\n",
       "      <td>11906</td>\n",
       "      <td>2007</td>\n",
       "      <td>2478</td>\n",
       "      <td>Automatic</td>\n",
       "      <td>81000</td>\n",
       "      <td>160</td>\n",
       "      <td>49.6</td>\n",
       "      <td>2.0</td>\n",
       "    </tr>\n",
       "    <tr>\n",
       "      <td>11795</td>\n",
       "      <td>2005</td>\n",
       "      <td>2490</td>\n",
       "      <td>Automatic</td>\n",
       "      <td>101980</td>\n",
       "      <td>200</td>\n",
       "      <td>47.9</td>\n",
       "      <td>2.0</td>\n",
       "    </tr>\n",
       "    <tr>\n",
       "      <td>12765</td>\n",
       "      <td>2004</td>\n",
       "      <td>2495</td>\n",
       "      <td>Automatic</td>\n",
       "      <td>104000</td>\n",
       "      <td>325</td>\n",
       "      <td>31.7</td>\n",
       "      <td>1.8</td>\n",
       "    </tr>\n",
       "    <tr>\n",
       "      <td>11943</td>\n",
       "      <td>2005</td>\n",
       "      <td>2690</td>\n",
       "      <td>Automatic</td>\n",
       "      <td>109000</td>\n",
       "      <td>325</td>\n",
       "      <td>32.1</td>\n",
       "      <td>1.8</td>\n",
       "    </tr>\n",
       "    <tr>\n",
       "      <td>11263</td>\n",
       "      <td>2007</td>\n",
       "      <td>2795</td>\n",
       "      <td>Manual</td>\n",
       "      <td>79485</td>\n",
       "      <td>200</td>\n",
       "      <td>45.6</td>\n",
       "      <td>1.5</td>\n",
       "    </tr>\n",
       "    <tr>\n",
       "      <td>49</td>\n",
       "      <td>2006</td>\n",
       "      <td>2880</td>\n",
       "      <td>Automatic</td>\n",
       "      <td>66000</td>\n",
       "      <td>160</td>\n",
       "      <td>52.3</td>\n",
       "      <td>2.0</td>\n",
       "    </tr>\n",
       "  </tbody>\n",
       "</table>\n",
       "</div>"
      ],
      "text/plain": [
       "       year  price transmission  mileage  tax   mpg  engineSize\n",
       "11816  2003    650       Manual   109090  235  40.0         1.4\n",
       "12008  2010   1350       Manual   116126  145  54.3         2.0\n",
       "11765  2000   1490    Automatic    87000  265  27.2         3.2\n",
       "11549  2002   1495    Automatic    13800  305  39.8         2.7\n",
       "12594  2004   1495       Manual   119000  300  34.5         1.8\n",
       "11174  2001   1695    Automatic   108800  325  31.7         3.2\n",
       "12710  2006   1695    Automatic   153000  300  33.6         1.8\n",
       "12766  2004   1780    Automatic   118000  265  41.5         2.2\n",
       "12009  2007   1800    Automatic    84000  200  42.8         1.5\n",
       "11764  1998   1990    Automatic    99300  265  32.1         2.3\n",
       "11808  1998   1990    Automatic   113557  265  32.1         2.3\n",
       "11383  2005   1995    Automatic   105000  260  43.5         2.1\n",
       "11378  2004   1995    Semi-Auto   165000  330  20.0         3.7\n",
       "11857  2002   2140    Automatic    52700  325  31.4         2.0\n",
       "11906  2007   2478    Automatic    81000  160  49.6         2.0\n",
       "11795  2005   2490    Automatic   101980  200  47.9         2.0\n",
       "12765  2004   2495    Automatic   104000  325  31.7         1.8\n",
       "11943  2005   2690    Automatic   109000  325  32.1         1.8\n",
       "11263  2007   2795       Manual    79485  200  45.6         1.5\n",
       "49     2006   2880    Automatic    66000  160  52.3         2.0"
      ]
     },
     "execution_count": 128,
     "metadata": {},
     "output_type": "execute_result"
    }
   ],
   "source": [
    "#Çok ucuz araçlara bakalım:\n",
    "df.sort_values('price', ascending = True).head(20)"
   ]
  },
  {
   "cell_type": "code",
   "execution_count": 129,
   "metadata": {},
   "outputs": [
    {
     "name": "stdout",
     "output_type": "stream",
     "text": [
      "En yüksek 131 araba çıkarıldı\n"
     ]
    }
   ],
   "source": [
    "#En yüksek arabaları atalım.\n",
    "\n",
    "#Burada çok yüksek fiyatlı arabalardan kaç tane olduğunu her 1000 pound'luk dilim için bakarak, kaç tânesini atmamız..\n",
    "#..gerektiği hakkında yorum yapabiliriz; bunu 'seaborn' ile de yapabiliriz; veyâ bunun için bir kod da yazabiliriz\n",
    "#Eğer kısa bir yol istiyorsak arabaların en yüksek %1'lik dilimini verilerden çıkarabiliriz:\n",
    "numberForExtracting = len(df) * 0.01\n",
    "df = df.sort_values(\"price\", ascending=False).iloc[int(numberForExtracting):]\n",
    "print(\"En yüksek \" + str(int(numberForExtracting)) + \" araba çıkarıldı\")"
   ]
  },
  {
   "cell_type": "code",
   "execution_count": 130,
   "metadata": {},
   "outputs": [
    {
     "data": {
      "text/plain": [
       "<matplotlib.axes._subplots.AxesSubplot at 0x1ba9c5a6188>"
      ]
     },
     "execution_count": 130,
     "metadata": {},
     "output_type": "execute_result"
    },
    {
     "data": {
      "image/png": "[encoded data removed]",
      "text/plain": [
       "<Figure size 864x504 with 1 Axes>"
      ]
     },
     "metadata": {
      "needs_background": "light"
     },
     "output_type": "display_data"
    }
   ],
   "source": [
    "#Şimdi dağılıma bakalım:\n",
    "plt.figure(figsize=(12,7))\n",
    "sbn.distplot(df[\"price\"])"
   ]
  },
  {
   "cell_type": "code",
   "execution_count": 131,
   "metadata": {},
   "outputs": [],
   "source": [
    "#Şimdi dağılım daha normal hâle geldi"
   ]
  },
  {
   "cell_type": "code",
   "execution_count": 132,
   "metadata": {},
   "outputs": [
    {
     "data": {
      "text/plain": [
       "<matplotlib.axes._subplots.AxesSubplot at 0x1ba9c89cac8>"
      ]
     },
     "execution_count": 132,
     "metadata": {},
     "output_type": "execute_result"
    },
    {
     "data": {
      "image/png": "[encoded data removed]",
      "text/plain": [
       "<Figure size 432x288 with 1 Axes>"
      ]
     },
     "metadata": {
      "needs_background": "light"
     },
     "output_type": "display_data"
    }
   ],
   "source": [
    "#Verileri bâzı sütunlara göre (korelasyon değeri yüksek olan sütunlar) gruplayıp, grupların ortalama fiyatlarına bakalım:\n",
    "grupYear = df.groupby(\"year\").mean()\n",
    "#Yıla göre grupladığımız için sütunlar içerisinde yıl yok; onu ekleyip, yıla göre dağılımlarına bakalım:\n",
    "dizi = grupYear.index.to_numpy()\n",
    "grupYear[\"yearR\"] = dizi\n",
    "sbn.scatterplot(x = \"yearR\", y = 'price', data = grupYear)"
   ]
  },
  {
   "cell_type": "code",
   "execution_count": 133,
   "metadata": {},
   "outputs": [
    {
     "data": {
      "text/html": [
       "<div>\n",
       "<style scoped>\n",
       "    .dataframe tbody tr th:only-of-type {\n",
       "        vertical-align: middle;\n",
       "    }\n",
       "\n",
       "    .dataframe tbody tr th {\n",
       "        vertical-align: top;\n",
       "    }\n",
       "\n",
       "    .dataframe thead th {\n",
       "        text-align: right;\n",
       "    }\n",
       "</style>\n",
       "<table border=\"1\" class=\"dataframe\">\n",
       "  <thead>\n",
       "    <tr style=\"text-align: right;\">\n",
       "      <th></th>\n",
       "      <th>price</th>\n",
       "      <th>mileage</th>\n",
       "      <th>tax</th>\n",
       "      <th>mpg</th>\n",
       "      <th>engineSize</th>\n",
       "      <th>yearR</th>\n",
       "    </tr>\n",
       "    <tr>\n",
       "      <th>year</th>\n",
       "      <th></th>\n",
       "      <th></th>\n",
       "      <th></th>\n",
       "      <th></th>\n",
       "      <th></th>\n",
       "      <th></th>\n",
       "    </tr>\n",
       "  </thead>\n",
       "  <tbody>\n",
       "    <tr>\n",
       "      <td>1970</td>\n",
       "      <td>24999.000000</td>\n",
       "      <td>14000.000000</td>\n",
       "      <td>305.000000</td>\n",
       "      <td>39.200000</td>\n",
       "      <td>0.000000</td>\n",
       "      <td>1970</td>\n",
       "    </tr>\n",
       "    <tr>\n",
       "      <td>1997</td>\n",
       "      <td>9995.000000</td>\n",
       "      <td>76000.000000</td>\n",
       "      <td>255.000000</td>\n",
       "      <td>28.200000</td>\n",
       "      <td>3.200000</td>\n",
       "      <td>1997</td>\n",
       "    </tr>\n",
       "    <tr>\n",
       "      <td>1998</td>\n",
       "      <td>8605.000000</td>\n",
       "      <td>76347.750000</td>\n",
       "      <td>262.500000</td>\n",
       "      <td>28.925000</td>\n",
       "      <td>3.450000</td>\n",
       "      <td>1998</td>\n",
       "    </tr>\n",
       "    <tr>\n",
       "      <td>1999</td>\n",
       "      <td>5995.000000</td>\n",
       "      <td>34000.000000</td>\n",
       "      <td>145.000000</td>\n",
       "      <td>24.600000</td>\n",
       "      <td>3.200000</td>\n",
       "      <td>1999</td>\n",
       "    </tr>\n",
       "    <tr>\n",
       "      <td>2000</td>\n",
       "      <td>5743.333333</td>\n",
       "      <td>89648.666667</td>\n",
       "      <td>268.333333</td>\n",
       "      <td>26.333333</td>\n",
       "      <td>3.200000</td>\n",
       "      <td>2000</td>\n",
       "    </tr>\n",
       "    <tr>\n",
       "      <td>2001</td>\n",
       "      <td>4957.900000</td>\n",
       "      <td>72955.100000</td>\n",
       "      <td>347.500000</td>\n",
       "      <td>28.140000</td>\n",
       "      <td>2.870000</td>\n",
       "      <td>2001</td>\n",
       "    </tr>\n",
       "    <tr>\n",
       "      <td>2002</td>\n",
       "      <td>5820.444444</td>\n",
       "      <td>57391.111111</td>\n",
       "      <td>350.555556</td>\n",
       "      <td>27.877778</td>\n",
       "      <td>3.522222</td>\n",
       "      <td>2002</td>\n",
       "    </tr>\n",
       "    <tr>\n",
       "      <td>2003</td>\n",
       "      <td>4878.000000</td>\n",
       "      <td>88777.714286</td>\n",
       "      <td>300.000000</td>\n",
       "      <td>29.485714</td>\n",
       "      <td>3.028571</td>\n",
       "      <td>2003</td>\n",
       "    </tr>\n",
       "    <tr>\n",
       "      <td>2004</td>\n",
       "      <td>4727.615385</td>\n",
       "      <td>94363.461538</td>\n",
       "      <td>312.307692</td>\n",
       "      <td>31.838462</td>\n",
       "      <td>2.530769</td>\n",
       "      <td>2004</td>\n",
       "    </tr>\n",
       "    <tr>\n",
       "      <td>2005</td>\n",
       "      <td>4426.111111</td>\n",
       "      <td>80651.333333</td>\n",
       "      <td>303.333333</td>\n",
       "      <td>35.344444</td>\n",
       "      <td>2.377778</td>\n",
       "      <td>2005</td>\n",
       "    </tr>\n",
       "    <tr>\n",
       "      <td>2006</td>\n",
       "      <td>4036.875000</td>\n",
       "      <td>94347.375000</td>\n",
       "      <td>412.500000</td>\n",
       "      <td>34.375000</td>\n",
       "      <td>2.812500</td>\n",
       "      <td>2006</td>\n",
       "    </tr>\n",
       "    <tr>\n",
       "      <td>2007</td>\n",
       "      <td>5136.045455</td>\n",
       "      <td>80309.000000</td>\n",
       "      <td>351.136364</td>\n",
       "      <td>36.363636</td>\n",
       "      <td>2.263636</td>\n",
       "      <td>2007</td>\n",
       "    </tr>\n",
       "    <tr>\n",
       "      <td>2008</td>\n",
       "      <td>6967.437500</td>\n",
       "      <td>81442.437500</td>\n",
       "      <td>342.812500</td>\n",
       "      <td>34.343750</td>\n",
       "      <td>2.662500</td>\n",
       "      <td>2008</td>\n",
       "    </tr>\n",
       "    <tr>\n",
       "      <td>2009</td>\n",
       "      <td>6166.764706</td>\n",
       "      <td>92207.941176</td>\n",
       "      <td>295.000000</td>\n",
       "      <td>38.147059</td>\n",
       "      <td>2.423529</td>\n",
       "      <td>2009</td>\n",
       "    </tr>\n",
       "    <tr>\n",
       "      <td>2010</td>\n",
       "      <td>8308.473684</td>\n",
       "      <td>83562.894737</td>\n",
       "      <td>317.763158</td>\n",
       "      <td>39.728947</td>\n",
       "      <td>2.507895</td>\n",
       "      <td>2010</td>\n",
       "    </tr>\n",
       "    <tr>\n",
       "      <td>2011</td>\n",
       "      <td>8913.459459</td>\n",
       "      <td>71788.081081</td>\n",
       "      <td>237.567568</td>\n",
       "      <td>44.824324</td>\n",
       "      <td>2.348649</td>\n",
       "      <td>2011</td>\n",
       "    </tr>\n",
       "    <tr>\n",
       "      <td>2012</td>\n",
       "      <td>10845.140351</td>\n",
       "      <td>64673.175439</td>\n",
       "      <td>175.087719</td>\n",
       "      <td>50.322807</td>\n",
       "      <td>2.185965</td>\n",
       "      <td>2012</td>\n",
       "    </tr>\n",
       "    <tr>\n",
       "      <td>2013</td>\n",
       "      <td>11939.842466</td>\n",
       "      <td>55377.958904</td>\n",
       "      <td>132.688356</td>\n",
       "      <td>54.534932</td>\n",
       "      <td>2.107877</td>\n",
       "      <td>2013</td>\n",
       "    </tr>\n",
       "    <tr>\n",
       "      <td>2014</td>\n",
       "      <td>14042.936864</td>\n",
       "      <td>48007.572301</td>\n",
       "      <td>99.511202</td>\n",
       "      <td>58.320570</td>\n",
       "      <td>2.082485</td>\n",
       "      <td>2014</td>\n",
       "    </tr>\n",
       "    <tr>\n",
       "      <td>2015</td>\n",
       "      <td>16647.822222</td>\n",
       "      <td>43133.233333</td>\n",
       "      <td>96.015152</td>\n",
       "      <td>59.311717</td>\n",
       "      <td>2.181313</td>\n",
       "      <td>2015</td>\n",
       "    </tr>\n",
       "    <tr>\n",
       "      <td>2016</td>\n",
       "      <td>19223.558943</td>\n",
       "      <td>34268.646341</td>\n",
       "      <td>88.475610</td>\n",
       "      <td>61.827083</td>\n",
       "      <td>2.119207</td>\n",
       "      <td>2016</td>\n",
       "    </tr>\n",
       "    <tr>\n",
       "      <td>2017</td>\n",
       "      <td>21356.280421</td>\n",
       "      <td>26484.200842</td>\n",
       "      <td>120.781053</td>\n",
       "      <td>60.068547</td>\n",
       "      <td>2.085811</td>\n",
       "      <td>2017</td>\n",
       "    </tr>\n",
       "    <tr>\n",
       "      <td>2018</td>\n",
       "      <td>24800.844506</td>\n",
       "      <td>15347.782308</td>\n",
       "      <td>147.277125</td>\n",
       "      <td>55.075536</td>\n",
       "      <td>2.031375</td>\n",
       "      <td>2018</td>\n",
       "    </tr>\n",
       "    <tr>\n",
       "      <td>2019</td>\n",
       "      <td>30289.524832</td>\n",
       "      <td>7076.013423</td>\n",
       "      <td>146.524609</td>\n",
       "      <td>51.453870</td>\n",
       "      <td>1.977494</td>\n",
       "      <td>2019</td>\n",
       "    </tr>\n",
       "    <tr>\n",
       "      <td>2020</td>\n",
       "      <td>34234.794872</td>\n",
       "      <td>2006.858974</td>\n",
       "      <td>145.655271</td>\n",
       "      <td>46.496866</td>\n",
       "      <td>1.862963</td>\n",
       "      <td>2020</td>\n",
       "    </tr>\n",
       "  </tbody>\n",
       "</table>\n",
       "</div>"
      ],
      "text/plain": [
       "             price       mileage         tax        mpg  engineSize  yearR\n",
       "year                                                                      \n",
       "1970  24999.000000  14000.000000  305.000000  39.200000    0.000000   1970\n",
       "1997   9995.000000  76000.000000  255.000000  28.200000    3.200000   1997\n",
       "1998   8605.000000  76347.750000  262.500000  28.925000    3.450000   1998\n",
       "1999   5995.000000  34000.000000  145.000000  24.600000    3.200000   1999\n",
       "2000   5743.333333  89648.666667  268.333333  26.333333    3.200000   2000\n",
       "2001   4957.900000  72955.100000  347.500000  28.140000    2.870000   2001\n",
       "2002   5820.444444  57391.111111  350.555556  27.877778    3.522222   2002\n",
       "2003   4878.000000  88777.714286  300.000000  29.485714    3.028571   2003\n",
       "2004   4727.615385  94363.461538  312.307692  31.838462    2.530769   2004\n",
       "2005   4426.111111  80651.333333  303.333333  35.344444    2.377778   2005\n",
       "2006   4036.875000  94347.375000  412.500000  34.375000    2.812500   2006\n",
       "2007   5136.045455  80309.000000  351.136364  36.363636    2.263636   2007\n",
       "2008   6967.437500  81442.437500  342.812500  34.343750    2.662500   2008\n",
       "2009   6166.764706  92207.941176  295.000000  38.147059    2.423529   2009\n",
       "2010   8308.473684  83562.894737  317.763158  39.728947    2.507895   2010\n",
       "2011   8913.459459  71788.081081  237.567568  44.824324    2.348649   2011\n",
       "2012  10845.140351  64673.175439  175.087719  50.322807    2.185965   2012\n",
       "2013  11939.842466  55377.958904  132.688356  54.534932    2.107877   2013\n",
       "2014  14042.936864  48007.572301   99.511202  58.320570    2.082485   2014\n",
       "2015  16647.822222  43133.233333   96.015152  59.311717    2.181313   2015\n",
       "2016  19223.558943  34268.646341   88.475610  61.827083    2.119207   2016\n",
       "2017  21356.280421  26484.200842  120.781053  60.068547    2.085811   2017\n",
       "2018  24800.844506  15347.782308  147.277125  55.075536    2.031375   2018\n",
       "2019  30289.524832   7076.013423  146.524609  51.453870    1.977494   2019\n",
       "2020  34234.794872   2006.858974  145.655271  46.496866    1.862963   2020"
      ]
     },
     "execution_count": 133,
     "metadata": {},
     "output_type": "execute_result"
    }
   ],
   "source": [
    "#Görüleceği üzere 2000'li yıllardan biraz öncesindeki arabaların fiyatları biraz yüksekmiş; seyreden yıllarda fiyatlar..\n",
    "#..düşerken takriben 2007 sonrasında fiyatlar yıl ile doğrusal bir ilişki içerisinde olmuş.\n",
    "#2000'li yıllardan biraz önceki arabaların pahalı olmasının belki bir sebebi vardır, fakat 1970 modelindeki bir arabanın..\n",
    "#..2019 model bir arabayla aynı fiyatta olması oldukça garip bir durum. O yüzden bu arabaya yakından bakalım:\n",
    "grupYear.sort_values(\"year\", ascending=True)"
   ]
  },
  {
   "cell_type": "code",
   "execution_count": 134,
   "metadata": {},
   "outputs": [
    {
     "data": {
      "text/plain": [
       "10815    0.0\n",
       "9621     0.0\n",
       "12072    0.0\n",
       "9650     0.0\n",
       "9654     0.0\n",
       "        ... \n",
       "11580    6.2\n",
       "11923    6.2\n",
       "12770    6.2\n",
       "3280     6.2\n",
       "11997    6.2\n",
       "Name: engineSize, Length: 12988, dtype: float64"
      ]
     },
     "execution_count": 134,
     "metadata": {},
     "output_type": "execute_result"
    }
   ],
   "source": [
    "#Görüldüğü üzere 1970 model arabanın fiyatının yüksek olmasının sebebi böyle bir araba olmaması olabilir; zîrâ arabanın..\n",
    "#motor büyüklüğü 0.0 gözüküyor\n",
    "#Böyle başka araba var mı, bakalım:\n",
    "df[\"engineSize\"].sort_values(ascending = True)"
   ]
  },
  {
   "cell_type": "code",
   "execution_count": 135,
   "metadata": {},
   "outputs": [],
   "source": [
    "zeroMotor = df[\"engineSize\"].sort_values(ascending = True).iloc[:20]\n",
    "zeroMotorIndex = zeroMotor[zeroMotor == 0.0].index"
   ]
  },
  {
   "cell_type": "code",
   "execution_count": 136,
   "metadata": {},
   "outputs": [
    {
     "name": "stdout",
     "output_type": "stream",
     "text": [
      "0.0 motor hacmine sâhip araçların veri setindeki sıra numaraları:\n",
      "10815\n",
      "9621\n",
      "12072\n",
      "9650\n",
      "9654\n",
      "11183\n",
      "9618\n",
      "9619\n",
      "10675\n",
      "10739\n",
      "11347\n",
      "10710\n",
      "0.0 motor hacmine sâhip toplam araç sayısı : 12\n"
     ]
    }
   ],
   "source": [
    "print(\"0.0 motor hacmine sâhip araçların veri setindeki sıra numaraları:\")\n",
    "for say in zeroMotorIndex:\n",
    "    print(say)\n",
    "print(\"0.0 motor hacmine sâhip toplam araç sayısı : \" + str(len(zeroMotorIndex)))"
   ]
  },
  {
   "cell_type": "code",
   "execution_count": 137,
   "metadata": {},
   "outputs": [],
   "source": [
    "df = df.iloc[[i for i in range(0, len(df)) if i not in(list(zeroMotorIndex))]]"
   ]
  },
  {
   "cell_type": "code",
   "execution_count": 138,
   "metadata": {},
   "outputs": [
    {
     "data": {
      "text/plain": [
       "12976"
      ]
     },
     "execution_count": 138,
     "metadata": {},
     "output_type": "execute_result"
    }
   ],
   "source": [
    "len(df)"
   ]
  },
  {
   "cell_type": "markdown",
   "metadata": {},
   "source": [
    "Görüldüğü üzere 12 tâne verimiz çıkartıldı"
   ]
  },
  {
   "cell_type": "code",
   "execution_count": 139,
   "metadata": {},
   "outputs": [
    {
     "name": "stdout",
     "output_type": "stream",
     "text": [
      "4 farklı vites tipi var\n"
     ]
    }
   ],
   "source": [
    "print(str(df[\"transmission\"].nunique()) + \" farklı vites tipi var\")"
   ]
  },
  {
   "cell_type": "markdown",
   "metadata": {},
   "source": [
    "Bu vites tiplerini 0 ve 1 olarak kodlayamayız; çünkü 4 çeşitler\n",
    "Bunları 0, 1, 2, 3 olarak kodlarsak modelimiz bu vites tipleri arasında büyüklük olduğunu düşünecek ve öyle değerlendirecek\n",
    "Her ne kadar otomatik vites, yarı otomatikten, yarı otomatik vites manuel vitesten daha konforlu olsa da bunların araç fiyatı üzerindeki etkisinin bu büyüklük sırasına göre olduğu hükmünü yalnız bu veriyle yapamayız"
   ]
  },
  {
   "cell_type": "markdown",
   "metadata": {},
   "source": [
    "Bunu yapan bir fonksiyon kısa sürede yazılabilir; fakat ben hızlı olmak için sklearn'ün fonksiyonunu kullanmak istiyorum:"
   ]
  },
  {
   "cell_type": "code",
   "execution_count": 140,
   "metadata": {},
   "outputs": [],
   "source": [
    "from sklearn.preprocessing import OneHotEncoder"
   ]
  },
  {
   "cell_type": "code",
   "execution_count": 141,
   "metadata": {},
   "outputs": [
    {
     "data": {
      "text/plain": [
       "2"
      ]
     },
     "execution_count": 141,
     "metadata": {},
     "output_type": "execute_result"
    }
   ],
   "source": [
    "indexOfTransmissionCol = -1\n",
    "for i in range(0, len(df.columns)):\n",
    "    if df.columns[i] == \"transmission\":\n",
    "        indexOfTransmissionCol = i\n",
    "indexOfTransmissionCol"
   ]
  },
  {
   "cell_type": "markdown",
   "metadata": {},
   "source": [
    "Vites tipi verisinin sütun numarası 2 imiş. Bu, 'iloc' özelliğini kullanarak veriyi alırken lazım"
   ]
  },
  {
   "cell_type": "code",
   "execution_count": 142,
   "metadata": {},
   "outputs": [],
   "source": [
    "col = df.iloc[:, [2]] # Sütun numarasını dizi olarak değil, sadece sayı olarak verdiğimizde dönüş tipi 'Series' oluyor"
   ]
  },
  {
   "cell_type": "code",
   "execution_count": 143,
   "metadata": {},
   "outputs": [
    {
     "data": {
      "text/plain": [
       "array([[0., 0., 0., 1.],\n",
       "       [0., 0., 0., 1.],\n",
       "       [0., 0., 0., 1.],\n",
       "       ...,\n",
       "       [1., 0., 0., 0.],\n",
       "       [0., 1., 0., 0.],\n",
       "       [0., 1., 0., 0.]])"
      ]
     },
     "execution_count": 143,
     "metadata": {},
     "output_type": "execute_result"
    }
   ],
   "source": [
    "oneHotEnc = OneHotEncoder()\n",
    "\n",
    "fitTransformValues = oneHotEnc.fit_transform(col).toarray()\n",
    "fitTransformValues"
   ]
  },
  {
   "cell_type": "code",
   "execution_count": 144,
   "metadata": {},
   "outputs": [],
   "source": [
    "# 'transmission' sütununu kaldırıp, 4 sütundan oluşan fitTransformValues'u ekleyelim\n",
    "values = df[\"transmission\"].sort_values().unique()\n",
    "dfWithTransmission = df.copy()\n",
    "dfWithTransmission.drop(\"transmission\", axis = 1, inplace = True)\n",
    "sayac = 0\n",
    "for i in values:\n",
    "    dfWithTransmission[str(i)] = fitTransformValues[:,sayac].tolist()\n",
    "    sayac += 1"
   ]
  },
  {
   "cell_type": "code",
   "execution_count": 145,
   "metadata": {},
   "outputs": [],
   "source": [
    "# Veriler otomatik olarak noktalı sayıya çevrildiğinden int'a çevirmeliyiz:\n",
    "typDict = dict()\n",
    "for i in values:\n",
    "    typDict[str(i)] = 'int32'\n",
    "dfWithTransmission = dfWithTransmission.astype(typDict)"
   ]
  },
  {
   "cell_type": "code",
   "execution_count": 146,
   "metadata": {},
   "outputs": [
    {
     "data": {
      "text/html": [
       "<div>\n",
       "<style scoped>\n",
       "    .dataframe tbody tr th:only-of-type {\n",
       "        vertical-align: middle;\n",
       "    }\n",
       "\n",
       "    .dataframe tbody tr th {\n",
       "        vertical-align: top;\n",
       "    }\n",
       "\n",
       "    .dataframe thead th {\n",
       "        text-align: right;\n",
       "    }\n",
       "</style>\n",
       "<table border=\"1\" class=\"dataframe\">\n",
       "  <thead>\n",
       "    <tr style=\"text-align: right;\">\n",
       "      <th></th>\n",
       "      <th>year</th>\n",
       "      <th>price</th>\n",
       "      <th>mileage</th>\n",
       "      <th>tax</th>\n",
       "      <th>mpg</th>\n",
       "      <th>engineSize</th>\n",
       "      <th>Automatic</th>\n",
       "      <th>Manual</th>\n",
       "      <th>Other</th>\n",
       "      <th>Semi-Auto</th>\n",
       "    </tr>\n",
       "  </thead>\n",
       "  <tbody>\n",
       "    <tr>\n",
       "      <td>year</td>\n",
       "      <td>1.000000</td>\n",
       "      <td>0.591262</td>\n",
       "      <td>-0.737680</td>\n",
       "      <td>0.013455</td>\n",
       "      <td>-0.084767</td>\n",
       "      <td>-0.176478</td>\n",
       "      <td>-0.166401</td>\n",
       "      <td>-0.134063</td>\n",
       "      <td>-0.009931</td>\n",
       "      <td>0.245182</td>\n",
       "    </tr>\n",
       "    <tr>\n",
       "      <td>price</td>\n",
       "      <td>0.591262</td>\n",
       "      <td>1.000000</td>\n",
       "      <td>-0.596356</td>\n",
       "      <td>0.295754</td>\n",
       "      <td>-0.417231</td>\n",
       "      <td>0.425449</td>\n",
       "      <td>-0.026381</td>\n",
       "      <td>-0.309773</td>\n",
       "      <td>-0.010362</td>\n",
       "      <td>0.220672</td>\n",
       "    </tr>\n",
       "    <tr>\n",
       "      <td>mileage</td>\n",
       "      <td>-0.737680</td>\n",
       "      <td>-0.596356</td>\n",
       "      <td>1.000000</td>\n",
       "      <td>-0.158589</td>\n",
       "      <td>0.191232</td>\n",
       "      <td>0.101793</td>\n",
       "      <td>0.144926</td>\n",
       "      <td>0.169988</td>\n",
       "      <td>0.007513</td>\n",
       "      <td>-0.247011</td>\n",
       "    </tr>\n",
       "    <tr>\n",
       "      <td>tax</td>\n",
       "      <td>0.013455</td>\n",
       "      <td>0.295754</td>\n",
       "      <td>-0.158589</td>\n",
       "      <td>1.000000</td>\n",
       "      <td>-0.517692</td>\n",
       "      <td>0.346224</td>\n",
       "      <td>0.087793</td>\n",
       "      <td>-0.211644</td>\n",
       "      <td>0.001485</td>\n",
       "      <td>0.048451</td>\n",
       "    </tr>\n",
       "    <tr>\n",
       "      <td>mpg</td>\n",
       "      <td>-0.084767</td>\n",
       "      <td>-0.417231</td>\n",
       "      <td>0.191232</td>\n",
       "      <td>-0.517692</td>\n",
       "      <td>1.000000</td>\n",
       "      <td>-0.299692</td>\n",
       "      <td>-0.021303</td>\n",
       "      <td>0.098078</td>\n",
       "      <td>0.000882</td>\n",
       "      <td>-0.041193</td>\n",
       "    </tr>\n",
       "    <tr>\n",
       "      <td>engineSize</td>\n",
       "      <td>-0.176478</td>\n",
       "      <td>0.425449</td>\n",
       "      <td>0.101793</td>\n",
       "      <td>0.346224</td>\n",
       "      <td>-0.299692</td>\n",
       "      <td>1.000000</td>\n",
       "      <td>0.125650</td>\n",
       "      <td>-0.219201</td>\n",
       "      <td>-0.023333</td>\n",
       "      <td>0.017295</td>\n",
       "    </tr>\n",
       "    <tr>\n",
       "      <td>Automatic</td>\n",
       "      <td>-0.166401</td>\n",
       "      <td>-0.026381</td>\n",
       "      <td>0.144926</td>\n",
       "      <td>0.087793</td>\n",
       "      <td>-0.021303</td>\n",
       "      <td>0.125650</td>\n",
       "      <td>1.000000</td>\n",
       "      <td>-0.269371</td>\n",
       "      <td>-0.009455</td>\n",
       "      <td>-0.795140</td>\n",
       "    </tr>\n",
       "    <tr>\n",
       "      <td>Manual</td>\n",
       "      <td>-0.134063</td>\n",
       "      <td>-0.309773</td>\n",
       "      <td>0.169988</td>\n",
       "      <td>-0.211644</td>\n",
       "      <td>0.098078</td>\n",
       "      <td>-0.219201</td>\n",
       "      <td>-0.269371</td>\n",
       "      <td>1.000000</td>\n",
       "      <td>-0.004392</td>\n",
       "      <td>-0.369331</td>\n",
       "    </tr>\n",
       "    <tr>\n",
       "      <td>Other</td>\n",
       "      <td>-0.009931</td>\n",
       "      <td>-0.010362</td>\n",
       "      <td>0.007513</td>\n",
       "      <td>0.001485</td>\n",
       "      <td>0.000882</td>\n",
       "      <td>-0.023333</td>\n",
       "      <td>-0.009455</td>\n",
       "      <td>-0.004392</td>\n",
       "      <td>1.000000</td>\n",
       "      <td>-0.012964</td>\n",
       "    </tr>\n",
       "    <tr>\n",
       "      <td>Semi-Auto</td>\n",
       "      <td>0.245182</td>\n",
       "      <td>0.220672</td>\n",
       "      <td>-0.247011</td>\n",
       "      <td>0.048451</td>\n",
       "      <td>-0.041193</td>\n",
       "      <td>0.017295</td>\n",
       "      <td>-0.795140</td>\n",
       "      <td>-0.369331</td>\n",
       "      <td>-0.012964</td>\n",
       "      <td>1.000000</td>\n",
       "    </tr>\n",
       "  </tbody>\n",
       "</table>\n",
       "</div>"
      ],
      "text/plain": [
       "                year     price   mileage       tax       mpg  engineSize  \\\n",
       "year        1.000000  0.591262 -0.737680  0.013455 -0.084767   -0.176478   \n",
       "price       0.591262  1.000000 -0.596356  0.295754 -0.417231    0.425449   \n",
       "mileage    -0.737680 -0.596356  1.000000 -0.158589  0.191232    0.101793   \n",
       "tax         0.013455  0.295754 -0.158589  1.000000 -0.517692    0.346224   \n",
       "mpg        -0.084767 -0.417231  0.191232 -0.517692  1.000000   -0.299692   \n",
       "engineSize -0.176478  0.425449  0.101793  0.346224 -0.299692    1.000000   \n",
       "Automatic  -0.166401 -0.026381  0.144926  0.087793 -0.021303    0.125650   \n",
       "Manual     -0.134063 -0.309773  0.169988 -0.211644  0.098078   -0.219201   \n",
       "Other      -0.009931 -0.010362  0.007513  0.001485  0.000882   -0.023333   \n",
       "Semi-Auto   0.245182  0.220672 -0.247011  0.048451 -0.041193    0.017295   \n",
       "\n",
       "            Automatic    Manual     Other  Semi-Auto  \n",
       "year        -0.166401 -0.134063 -0.009931   0.245182  \n",
       "price       -0.026381 -0.309773 -0.010362   0.220672  \n",
       "mileage      0.144926  0.169988  0.007513  -0.247011  \n",
       "tax          0.087793 -0.211644  0.001485   0.048451  \n",
       "mpg         -0.021303  0.098078  0.000882  -0.041193  \n",
       "engineSize   0.125650 -0.219201 -0.023333   0.017295  \n",
       "Automatic    1.000000 -0.269371 -0.009455  -0.795140  \n",
       "Manual      -0.269371  1.000000 -0.004392  -0.369331  \n",
       "Other       -0.009455 -0.004392  1.000000  -0.012964  \n",
       "Semi-Auto   -0.795140 -0.369331 -0.012964   1.000000  "
      ]
     },
     "execution_count": 146,
     "metadata": {},
     "output_type": "execute_result"
    }
   ],
   "source": [
    "dfWithTransmission.corr()"
   ]
  },
  {
   "cell_type": "markdown",
   "metadata": {},
   "source": [
    "Tahmîn edilebilirdi, arabanın 'manuel' vites olması arabanın değerini düşüren bir şeymiş ve arabanın vites tipinin 'manuel' olmasının fiyat üzerindeki etkisi ~-0.31. Bu, gerçekten yüksek bir korelasyon değeri; fakat otomatik vitesin fiyat ile arasındaki korelasyon değeri ~-0.03! Bu çok ilginç bir durum! Arabanın manuel vites olup, olmaması özelliğinin fiyat üzerindeki etkisi arabanın otomatik vites olup olmaması özelliğinden yaklaşık 10 kat daha etkili duruyor. Aracın vites tipinin yarı otomatik olmasının fiyat üzerindeki etkisi ise ~0.22. Bunun neden böyle olduğunu anlamak için daha yakından bakmam gerektiğini düşündüm. Önce bir dağılıma bakalım. Tahmînimce veriler yarı - otomatik ve manuel vites tipli araçlardan oluşuyor"
   ]
  },
  {
   "cell_type": "code",
   "execution_count": 150,
   "metadata": {},
   "outputs": [
    {
     "data": {
      "text/plain": [
       "<matplotlib.axes._subplots.AxesSubplot at 0x1ba9c718dc8>"
      ]
     },
     "execution_count": 150,
     "metadata": {},
     "output_type": "execute_result"
    },
    {
     "data": {
      "image/png": "[encoded data removed]",
      "text/plain": [
       "<Figure size 432x288 with 1 Axes>"
      ]
     },
     "metadata": {
      "needs_background": "light"
     },
     "output_type": "display_data"
    }
   ],
   "source": [
    "sbn.countplot(df[\"transmission\"])"
   ]
  },
  {
   "cell_type": "markdown",
   "metadata": {},
   "source": [
    "Yanılmışım! Evet, araçların önemli kısmı \"yarı - otomatik\" vitesli araçlar, fakat otomatik vitesli araç sayısı \"manuel\" vitesli araç sayısından daha fazla. Buraya anlam veremedim, ama yine de vites tipi sütunlarının hepsini birden çıkarmadan analiz yapmayı düşünüyorum. Belki en son korelasyon değeri düşük olan \"otomatik\" ve \"diğer\" vites tipini belirten sütunları çıkartıp, model başarısını yeniden ölçebilirim."
   ]
  },
  {
   "cell_type": "code",
   "execution_count": 151,
   "metadata": {},
   "outputs": [],
   "source": [
    "yValues = dfWithTransmission[\"price\"].values\n",
    "xValues = dfWithTransmission.drop(\"price\", axis = 1).values"
   ]
  },
  {
   "cell_type": "code",
   "execution_count": 152,
   "metadata": {},
   "outputs": [],
   "source": [
    "from sklearn.model_selection import train_test_split"
   ]
  },
  {
   "cell_type": "code",
   "execution_count": 153,
   "metadata": {},
   "outputs": [],
   "source": [
    "xTrain, xTest, yTrain, yTest = train_test_split(xValues,yValues, test_size=0.3, random_state=10) # random_state..\n",
    "# .. rastgelelik numarasıdır. Şöyle ki, bu kodları bir daha çalıştırırken aynı indislerin eğitim ve test olarak ayrılması..\n",
    "# .. nı sağlıyor"
   ]
  },
  {
   "cell_type": "code",
   "execution_count": 162,
   "metadata": {},
   "outputs": [
    {
     "name": "stdout",
     "output_type": "stream",
     "text": [
      "Eğitim veri setinde 9083 adet veri var.\n"
     ]
    }
   ],
   "source": [
    "print(\"Eğitim veri setinde \" + str(len(yTrain)) + \" adet veri var.\")"
   ]
  },
  {
   "cell_type": "code",
   "execution_count": 163,
   "metadata": {},
   "outputs": [
    {
     "name": "stdout",
     "output_type": "stream",
     "text": [
      "Test veri setinde 3893 adet veri var.\n"
     ]
    }
   ],
   "source": [
    "print(\"Test veri setinde \" + str(len(yTest)) + \" adet veri var.\")"
   ]
  },
  {
   "cell_type": "code",
   "execution_count": 164,
   "metadata": {},
   "outputs": [],
   "source": [
    "from sklearn.preprocessing import MinMaxScaler"
   ]
  },
  {
   "cell_type": "code",
   "execution_count": 165,
   "metadata": {},
   "outputs": [],
   "source": [
    "scaler = MinMaxScaler()\n",
    "\n",
    "xTrainTransformedValues = scaler.fit_transform(xTrain)\n",
    "xTestTransformedValues = scaler.transform(xTest)"
   ]
  },
  {
   "cell_type": "code",
   "execution_count": 166,
   "metadata": {},
   "outputs": [],
   "source": [
    "from tensorflow.keras.models import Sequential\n",
    "from tensorflow.keras.layers import Dense"
   ]
  },
  {
   "cell_type": "code",
   "execution_count": 167,
   "metadata": {},
   "outputs": [
    {
     "data": {
      "text/plain": [
       "(9083, 9)"
      ]
     },
     "execution_count": 167,
     "metadata": {},
     "output_type": "execute_result"
    }
   ],
   "source": [
    "xTrainTransformedValues.shape"
   ]
  },
  {
   "cell_type": "code",
   "execution_count": 168,
   "metadata": {},
   "outputs": [],
   "source": [
    "model = Sequential()\n",
    "\n",
    "model.add(Dense(15,activation=\"relu\"))\n",
    "model.add(Dense(15,activation=\"relu\"))\n",
    "model.add(Dense(15,activation=\"relu\"))\n",
    "model.add(Dense(15,activation=\"relu\"))\n",
    "model.add(Dense(1))\n",
    "\n",
    "model.compile(optimizer=\"adam\",loss=\"mse\")"
   ]
  },
  {
   "cell_type": "code",
   "execution_count": 169,
   "metadata": {},
   "outputs": [
    {
     "name": "stdout",
     "output_type": "stream",
     "text": [
      "Train on 9083 samples, validate on 3893 samples\n",
      "Epoch 1/250\n",
      "9083/9083 [==============================] - 2s 261us/sample - loss: 673454062.0606 - val_loss: 686085046.8759\n",
      "Epoch 2/250\n",
      "9083/9083 [==============================] - 0s 38us/sample - loss: 673052447.1228 - val_loss: 685162192.7028\n",
      "Epoch 3/250\n",
      "9083/9083 [==============================] - 0s 37us/sample - loss: 670628055.1536 - val_loss: 680014623.5479\n",
      "Epoch 4/250\n",
      "9083/9083 [==============================] - 0s 35us/sample - loss: 659396927.0276 - val_loss: 658965415.2582\n",
      "Epoch 5/250\n",
      "9083/9083 [==============================] - 0s 35us/sample - loss: 621718295.0197 - val_loss: 597639134.1341\n",
      "Epoch 6/250\n",
      "9083/9083 [==============================] - 0s 38us/sample - loss: 529235527.4548 - val_loss: 465679663.6589\n",
      "Epoch 7/250\n",
      "9083/9083 [==============================] - 0s 40us/sample - loss: 365637354.8827 - val_loss: 273873350.3293\n",
      "Epoch 8/250\n",
      "9083/9083 [==============================] - 0s 41us/sample - loss: 188294656.6165 - val_loss: 129264830.4506\n",
      "Epoch 9/250\n",
      "9083/9083 [==============================] - 0s 38us/sample - loss: 104424146.0099 - val_loss: 96001142.0827\n",
      "Epoch 10/250\n",
      "9083/9083 [==============================] - 0s 38us/sample - loss: 92246711.5394 - val_loss: 92312690.4516\n",
      "Epoch 11/250\n",
      "9083/9083 [==============================] - 0s 40us/sample - loss: 89810354.3389 - val_loss: 90206964.8538\n",
      "Epoch 12/250\n",
      "9083/9083 [==============================] - 0s 39us/sample - loss: 87982611.9326 - val_loss: 88514981.1580\n",
      "Epoch 13/250\n",
      "9083/9083 [==============================] - 0s 38us/sample - loss: 86463090.2565 - val_loss: 87054078.6663\n",
      "Epoch 14/250\n",
      "9083/9083 [==============================] - 0s 37us/sample - loss: 85142814.1447 - val_loss: 85725633.3624\n",
      "Epoch 15/250\n",
      "9083/9083 [==============================] - 0s 46us/sample - loss: 83940988.7702 - val_loss: 84592390.8184\n",
      "Epoch 16/250\n",
      "9083/9083 [==============================] - 0s 35us/sample - loss: 82852435.1804 - val_loss: 83532346.6406\n",
      "Epoch 17/250\n",
      "9083/9083 [==============================] - 0s 40us/sample - loss: 81888784.5813 - val_loss: 82570718.7547\n",
      "Epoch 18/250\n",
      "9083/9083 [==============================] - 0s 34us/sample - loss: 81011078.2261 - val_loss: 81710794.1495\n",
      "Epoch 19/250\n",
      "9083/9083 [==============================] - 0s 37us/sample - loss: 80184939.4566 - val_loss: 80899150.3396\n",
      "Epoch 20/250\n",
      "9083/9083 [==============================] - 0s 36us/sample - loss: 79426556.2360 - val_loss: 80159793.2515\n",
      "Epoch 21/250\n",
      "9083/9083 [==============================] - 0s 36us/sample - loss: 78705733.4872 - val_loss: 79440690.4865\n",
      "Epoch 22/250\n",
      "9083/9083 [==============================] - 0s 43us/sample - loss: 78023543.9278 - val_loss: 78756351.5027\n",
      "Epoch 23/250\n",
      "9083/9083 [==============================] - 0s 41us/sample - loss: 77382445.7038 - val_loss: 78069308.7634\n",
      "Epoch 24/250\n",
      "9083/9083 [==============================] - 0s 35us/sample - loss: 76731400.0220 - val_loss: 77489600.6083\n",
      "Epoch 25/250\n",
      "9083/9083 [==============================] - 0s 36us/sample - loss: 76137765.6942 - val_loss: 76873859.8818\n",
      "Epoch 26/250\n",
      "9083/9083 [==============================] - 0s 38us/sample - loss: 75527674.9215 - val_loss: 76252382.3005\n",
      "Epoch 27/250\n",
      "9083/9083 [==============================] - 0s 39us/sample - loss: 74931086.8673 - val_loss: 75691650.5091\n",
      "Epoch 28/250\n",
      "9083/9083 [==============================] - 0s 39us/sample - loss: 74329764.0048 - val_loss: 75061588.5620\n",
      "Epoch 29/250\n",
      "9083/9083 [==============================] - 0s 38us/sample - loss: 73754257.7316 - val_loss: 74483351.6383\n",
      "Epoch 30/250\n",
      "9083/9083 [==============================] - 0s 38us/sample - loss: 73174710.5146 - val_loss: 73882719.1020\n",
      "Epoch 31/250\n",
      "9083/9083 [==============================] - 0s 41us/sample - loss: 72592577.1741 - val_loss: 73291783.3362\n",
      "Epoch 32/250\n",
      "9083/9083 [==============================] - 0s 46us/sample - loss: 71995726.2922 - val_loss: 72723151.8788\n",
      "Epoch 33/250\n",
      "9083/9083 [==============================] - 0s 35us/sample - loss: 71411114.6022 - val_loss: 72147524.9114\n",
      "Epoch 34/250\n",
      "9083/9083 [==============================] - 0s 34us/sample - loss: 70816509.1780 - val_loss: 71508098.7331\n",
      "Epoch 35/250\n",
      "9083/9083 [==============================] - 0s 35us/sample - loss: 70196861.1842 - val_loss: 70911706.5831\n",
      "Epoch 36/250\n",
      "9083/9083 [==============================] - 0s 34us/sample - loss: 69578497.7060 - val_loss: 70246982.2738\n",
      "Epoch 37/250\n",
      "9083/9083 [==============================] - 0s 33us/sample - loss: 69014883.4579 - val_loss: 69618002.8441\n",
      "Epoch 38/250\n",
      "9083/9083 [==============================] - 0s 33us/sample - loss: 68375132.3836 - val_loss: 68962217.8947\n",
      "Epoch 39/250\n",
      "9083/9083 [==============================] - 0s 34us/sample - loss: 67714093.8386 - val_loss: 68307247.0794\n",
      "Epoch 40/250\n",
      "9083/9083 [==============================] - 0s 34us/sample - loss: 67043558.5591 - val_loss: 67705563.1174\n",
      "Epoch 41/250\n",
      "9083/9083 [==============================] - 0s 34us/sample - loss: 66330327.6961 - val_loss: 67015487.8993\n",
      "Epoch 42/250\n",
      "9083/9083 [==============================] - 0s 34us/sample - loss: 65643035.0109 - val_loss: 66323240.2548\n",
      "Epoch 43/250\n",
      "9083/9083 [==============================] - 0s 34us/sample - loss: 64947727.6829 - val_loss: 65683600.0966\n",
      "Epoch 44/250\n",
      "9083/9083 [==============================] - 0s 41us/sample - loss: 64255965.6334 - val_loss: 64940237.8978\n",
      "Epoch 45/250\n",
      "9083/9083 [==============================] - 0s 41us/sample - loss: 63507183.1694 - val_loss: 64120469.4005\n",
      "Epoch 46/250\n",
      "9083/9083 [==============================] - 0s 35us/sample - loss: 62750219.4500 - val_loss: 63296839.8901\n",
      "Epoch 47/250\n",
      "9083/9083 [==============================] - 0s 36us/sample - loss: 61927722.6665 - val_loss: 62535808.4634\n",
      "Epoch 48/250\n",
      "9083/9083 [==============================] - 0s 37us/sample - loss: 61116567.3416 - val_loss: 61712937.2124\n",
      "Epoch 49/250\n",
      "9083/9083 [==============================] - 0s 35us/sample - loss: 60281354.5089 - val_loss: 60872523.3034\n",
      "Epoch 50/250\n",
      "9083/9083 [==============================] - 0s 34us/sample - loss: 59353581.9971 - val_loss: 60013512.4983\n",
      "Epoch 51/250\n",
      "9083/9083 [==============================] - 0s 34us/sample - loss: 58229890.4741 - val_loss: 58638429.0337\n",
      "Epoch 52/250\n",
      "9083/9083 [==============================] - 0s 48us/sample - loss: 57040256.0502 - val_loss: 57396121.4200\n",
      "Epoch 53/250\n",
      "9083/9083 [==============================] - 1s 93us/sample - loss: 55788606.3389 - val_loss: 56189090.8585\n",
      "Epoch 54/250\n",
      "9083/9083 [==============================] - 0s 34us/sample - loss: 54480760.3435 - val_loss: 54907439.2386\n",
      "Epoch 55/250\n",
      "9083/9083 [==============================] - 0s 33us/sample - loss: 53178685.5321 - val_loss: 53675514.5143\n",
      "Epoch 56/250\n",
      "9083/9083 [==============================] - 0s 33us/sample - loss: 51846778.5472 - val_loss: 52227882.9725\n",
      "Epoch 57/250\n",
      "9083/9083 [==============================] - 0s 32us/sample - loss: 50443431.2289 - val_loss: 50851215.6476\n",
      "Epoch 58/250\n",
      "9083/9083 [==============================] - 0s 32us/sample - loss: 49051610.2389 - val_loss: 49511733.6882\n",
      "Epoch 59/250\n",
      "9083/9083 [==============================] - 0s 43us/sample - loss: 47581952.1264 - val_loss: 48041205.8546\n",
      "Epoch 60/250\n",
      "9083/9083 [==============================] - 0s 54us/sample - loss: 46176592.6346 - val_loss: 46593185.8947\n",
      "Epoch 61/250\n",
      "9083/9083 [==============================] - 1s 69us/sample - loss: 44696475.9903 - val_loss: 45252167.6044\n",
      "Epoch 62/250\n",
      "9083/9083 [==============================] - 1s 66us/sample - loss: 43197869.8179 - val_loss: 43743478.1464\n",
      "Epoch 63/250\n",
      "9083/9083 [==============================] - 0s 51us/sample - loss: 41783295.9408 - val_loss: 42348078.7680\n",
      "Epoch 64/250\n",
      "9083/9083 [==============================] - 1s 76us/sample - loss: 40384147.0968 - val_loss: 41093726.3273\n",
      "Epoch 65/250\n",
      "9083/9083 [==============================] - 0s 55us/sample - loss: 39007678.2772 - val_loss: 39713132.5677\n",
      "Epoch 66/250\n",
      "9083/9083 [==============================] - 1s 65us/sample - loss: 37746765.0864 - val_loss: 38487991.5633\n",
      "Epoch 67/250\n",
      "9083/9083 [==============================] - 0s 50us/sample - loss: 36493596.3941 - val_loss: 37338984.9663\n",
      "Epoch 68/250\n",
      "9083/9083 [==============================] - 0s 54us/sample - loss: 35338324.3358 - val_loss: 36307643.3815\n",
      "Epoch 69/250\n",
      "9083/9083 [==============================] - 0s 50us/sample - loss: 34243722.8832 - val_loss: 35234378.5276\n",
      "Epoch 70/250\n",
      "9083/9083 [==============================] - 1s 56us/sample - loss: 33216278.6599 - val_loss: 34233579.7688\n",
      "Epoch 71/250\n",
      "9083/9083 [==============================] - 0s 51us/sample - loss: 32236248.2259 - val_loss: 33332456.3257\n",
      "Epoch 72/250\n",
      "9083/9083 [==============================] - 0s 49us/sample - loss: 31366963.5737 - val_loss: 32549950.6052\n",
      "Epoch 73/250\n",
      "9083/9083 [==============================] - 0s 47us/sample - loss: 30479291.5931 - val_loss: 31818756.3324\n",
      "Epoch 74/250\n",
      "9083/9083 [==============================] - 0s 54us/sample - loss: 29728509.3912 - val_loss: 31222511.5171\n",
      "Epoch 75/250\n",
      "9083/9083 [==============================] - 0s 52us/sample - loss: 29037071.8309 - val_loss: 30251497.5787\n",
      "Epoch 76/250\n",
      "9083/9083 [==============================] - 1s 55us/sample - loss: 28351564.9164 - val_loss: 29601152.4685\n",
      "Epoch 77/250\n",
      "9083/9083 [==============================] - 0s 52us/sample - loss: 27710590.8096 - val_loss: 29074389.3059\n",
      "Epoch 78/250\n",
      "9083/9083 [==============================] - 0s 52us/sample - loss: 27192007.0946 - val_loss: 28527738.5343\n",
      "Epoch 79/250\n",
      "9083/9083 [==============================] - 0s 50us/sample - loss: 26652182.4377 - val_loss: 28273006.4264\n",
      "Epoch 80/250\n",
      "9083/9083 [==============================] - 0s 53us/sample - loss: 26265129.8593 - val_loss: 27654349.6543\n",
      "Epoch 81/250\n",
      "9083/9083 [==============================] - 0s 51us/sample - loss: 25809312.1282 - val_loss: 27283911.7950\n",
      "Epoch 82/250\n",
      "9083/9083 [==============================] - 0s 52us/sample - loss: 25423871.7684 - val_loss: 26902405.4390\n",
      "Epoch 83/250\n",
      "9083/9083 [==============================] - 0s 51us/sample - loss: 25063165.7001 - val_loss: 26558988.5071\n",
      "Epoch 84/250\n",
      "9083/9083 [==============================] - 0s 54us/sample - loss: 24764757.9300 - val_loss: 26287098.4449\n",
      "Epoch 85/250\n",
      "9083/9083 [==============================] - 0s 53us/sample - loss: 24482364.7940 - val_loss: 25992318.7295\n",
      "Epoch 86/250\n",
      "9083/9083 [==============================] - 0s 54us/sample - loss: 24191392.2539 - val_loss: 25726631.7138\n",
      "Epoch 87/250\n",
      "9083/9083 [==============================] - 1s 75us/sample - loss: 23941822.3162 - val_loss: 25505324.2358\n",
      "Epoch 88/250\n",
      "9083/9083 [==============================] - 1s 67us/sample - loss: 23718540.2706 - val_loss: 25291098.9638\n",
      "Epoch 89/250\n",
      "9083/9083 [==============================] - 1s 59us/sample - loss: 23512140.2026 - val_loss: 25201151.4863\n",
      "Epoch 90/250\n",
      "9083/9083 [==============================] - 1s 60us/sample - loss: 23325320.8834 - val_loss: 24949567.9324\n",
      "Epoch 91/250\n",
      "9083/9083 [==============================] - 1s 59us/sample - loss: 23145665.0699 - val_loss: 24790717.4030\n",
      "Epoch 92/250\n",
      "9083/9083 [==============================] - 1s 56us/sample - loss: 22996609.8027 - val_loss: 24812231.7447\n",
      "Epoch 93/250\n",
      "9083/9083 [==============================] - 1s 70us/sample - loss: 22868487.2614 - val_loss: 24529516.4786\n",
      "Epoch 94/250\n",
      "9083/9083 [==============================] - 1s 57us/sample - loss: 22757592.9683 - val_loss: 24412931.4495\n",
      "Epoch 95/250\n",
      "9083/9083 [==============================] - 1s 55us/sample - loss: 22631146.3131 - val_loss: 24317498.7203\n",
      "Epoch 96/250\n",
      "9083/9083 [==============================] - 0s 54us/sample - loss: 22564088.5359 - val_loss: 24215417.4557\n",
      "Epoch 97/250\n",
      "9083/9083 [==============================] - 1s 55us/sample - loss: 22429254.4292 - val_loss: 24137822.4768\n",
      "Epoch 98/250\n",
      "9083/9083 [==============================] - 0s 54us/sample - loss: 22333844.6342 - val_loss: 24019255.8934\n",
      "Epoch 99/250\n",
      "9083/9083 [==============================] - 1s 58us/sample - loss: 22263051.5387 - val_loss: 23943954.1898\n",
      "Epoch 100/250\n",
      "9083/9083 [==============================] - 0s 54us/sample - loss: 22180194.1717 - val_loss: 23894825.8055\n",
      "Epoch 101/250\n",
      "9083/9083 [==============================] - 0s 55us/sample - loss: 22117277.7177 - val_loss: 23794638.6453\n",
      "Epoch 102/250\n",
      "9083/9083 [==============================] - 1s 56us/sample - loss: 22067300.8612 - val_loss: 23739430.0670\n",
      "Epoch 103/250\n",
      "9083/9083 [==============================] - 1s 56us/sample - loss: 21967451.4394 - val_loss: 23680457.7801\n",
      "Epoch 104/250\n",
      "9083/9083 [==============================] - 0s 55us/sample - loss: 21942928.4915 - val_loss: 23640932.2456\n",
      "Epoch 105/250\n",
      "9083/9083 [==============================] - 1s 61us/sample - loss: 21839205.4022 - val_loss: 23581387.7339\n",
      "Epoch 106/250\n",
      "9083/9083 [==============================] - 1s 74us/sample - loss: 21804106.0070 - val_loss: 23537106.6902\n",
      "Epoch 107/250\n",
      "9083/9083 [==============================] - 1s 124us/sample - loss: 21750695.2881 - val_loss: 23514701.7537\n",
      "Epoch 108/250\n",
      "9083/9083 [==============================] - 2s 181us/sample - loss: 21737810.5553 - val_loss: 23463847.9807\n",
      "Epoch 109/250\n",
      "9083/9083 [==============================] - 1s 105us/sample - loss: 21697799.5684 - val_loss: 23407885.8531\n",
      "Epoch 110/250\n",
      "9083/9083 [==============================] - 1s 57us/sample - loss: 21633490.8275 - val_loss: 23386233.7593\n",
      "Epoch 111/250\n",
      "9083/9083 [==============================] - 1s 78us/sample - loss: 21567078.8372 - val_loss: 23326439.5577\n",
      "Epoch 112/250\n",
      "9083/9083 [==============================] - 1s 99us/sample - loss: 21533863.3973 - val_loss: 23400224.2109\n",
      "Epoch 113/250\n",
      "9083/9083 [==============================] - 1s 75us/sample - loss: 21492906.2048 - val_loss: 23282367.2610\n",
      "Epoch 114/250\n",
      "9083/9083 [==============================] - 1s 59us/sample - loss: 21457342.9913 - val_loss: 23351968.7113\n",
      "Epoch 115/250\n",
      "9083/9083 [==============================] - 0s 55us/sample - loss: 21453053.7387 - val_loss: 23210569.6989\n",
      "Epoch 116/250\n",
      "9083/9083 [==============================] - 0s 54us/sample - loss: 21424604.4474 - val_loss: 23212530.7832\n",
      "Epoch 117/250\n",
      "9083/9083 [==============================] - 1s 60us/sample - loss: 21369660.9338 - val_loss: 23168106.9622\n",
      "Epoch 118/250\n",
      "9083/9083 [==============================] - 0s 36us/sample - loss: 21321437.5726 - val_loss: 23145516.8544\n",
      "Epoch 119/250\n",
      "9083/9083 [==============================] - 0s 36us/sample - loss: 21336982.0247 - val_loss: 23106467.5931\n",
      "Epoch 120/250\n",
      "9083/9083 [==============================] - 0s 35us/sample - loss: 21268376.4611 - val_loss: 23082472.9255\n",
      "Epoch 121/250\n",
      "9083/9083 [==============================] - 0s 36us/sample - loss: 21217085.8879 - val_loss: 23100726.9363\n",
      "Epoch 122/250\n",
      "9083/9083 [==============================] - 0s 35us/sample - loss: 21223752.1193 - val_loss: 23024630.8030\n",
      "Epoch 123/250\n",
      "9083/9083 [==============================] - 0s 34us/sample - loss: 21182077.1095 - val_loss: 23019164.6560\n",
      "Epoch 124/250\n",
      "9083/9083 [==============================] - 0s 37us/sample - loss: 21158514.3999 - val_loss: 22981732.9872\n",
      "Epoch 125/250\n",
      "9083/9083 [==============================] - 0s 36us/sample - loss: 21127088.3241 - val_loss: 23006131.5893\n",
      "Epoch 126/250\n",
      "9083/9083 [==============================] - 1s 124us/sample - loss: 21121880.0738 - val_loss: 23048897.7701\n",
      "Epoch 127/250\n",
      "9083/9083 [==============================] - 0s 48us/sample - loss: 21134312.4666 - val_loss: 22922154.7894\n",
      "Epoch 128/250\n",
      "9083/9083 [==============================] - 0s 50us/sample - loss: 21043225.2867 - val_loss: 22922477.8140\n",
      "Epoch 129/250\n",
      "9083/9083 [==============================] - 1s 79us/sample - loss: 21023232.4908 - val_loss: 22981746.3093\n",
      "Epoch 130/250\n",
      "9083/9083 [==============================] - 1s 61us/sample - loss: 20995547.2694 - val_loss: 22929721.4508\n",
      "Epoch 131/250\n",
      "9083/9083 [==============================] - 1s 59us/sample - loss: 20983299.2971 - val_loss: 22814188.7054\n",
      "Epoch 132/250\n",
      "9083/9083 [==============================] - 1s 65us/sample - loss: 20965228.4741 - val_loss: 22802277.1770\n",
      "Epoch 133/250\n",
      "9083/9083 [==============================] - 1s 85us/sample - loss: 20923719.0880 - val_loss: 22808517.6584\n",
      "Epoch 134/250\n",
      "9083/9083 [==============================] - 1s 75us/sample - loss: 20910405.5647 - val_loss: 22751421.1644\n",
      "Epoch 135/250\n"
     ]
    },
    {
     "name": "stdout",
     "output_type": "stream",
     "text": [
      "9083/9083 [==============================] - 1s 80us/sample - loss: 20882525.3348 - val_loss: 22749884.7128\n",
      "Epoch 136/250\n",
      "9083/9083 [==============================] - 1s 83us/sample - loss: 20894510.4203 - val_loss: 22697691.3165\n",
      "Epoch 137/250\n",
      "9083/9083 [==============================] - 0s 53us/sample - loss: 20880098.6855 - val_loss: 22677943.5959\n",
      "Epoch 138/250\n",
      "9083/9083 [==============================] - 1s 63us/sample - loss: 20861106.2873 - val_loss: 22681435.4526\n",
      "Epoch 139/250\n",
      "9083/9083 [==============================] - 1s 82us/sample - loss: 20792812.4496 - val_loss: 22629252.9430\n",
      "Epoch 140/250\n",
      "9083/9083 [==============================] - 1s 78us/sample - loss: 20786836.1544 - val_loss: 22614806.4791\n",
      "Epoch 141/250\n",
      "9083/9083 [==============================] - 1s 118us/sample - loss: 20775256.8374 - val_loss: 22614723.6715\n",
      "Epoch 142/250\n",
      "9083/9083 [==============================] - 1s 119us/sample - loss: 20751401.9852 - val_loss: 22543025.1757\n",
      "Epoch 143/250\n",
      "9083/9083 [==============================] - 1s 63us/sample - loss: 20704933.3434 - val_loss: 22518758.0989\n",
      "Epoch 144/250\n",
      "9083/9083 [==============================] - 1s 68us/sample - loss: 20672365.6072 - val_loss: 22496481.4580\n",
      "Epoch 145/250\n",
      "9083/9083 [==============================] - 1s 69us/sample - loss: 20700618.8593 - val_loss: 22667992.1736\n",
      "Epoch 146/250\n",
      "9083/9083 [==============================] - 0s 42us/sample - loss: 20698144.6724 - val_loss: 22471594.2237\n",
      "Epoch 147/250\n",
      "9083/9083 [==============================] - 1s 70us/sample - loss: 20603414.7843 - val_loss: 22430291.0064\n",
      "Epoch 148/250\n",
      "9083/9083 [==============================] - 1s 55us/sample - loss: 20644158.2977 - val_loss: 22489508.8459\n",
      "Epoch 149/250\n",
      "9083/9083 [==============================] - 1s 56us/sample - loss: 20590305.8721 - val_loss: 22407372.5076\n",
      "Epoch 150/250\n",
      "9083/9083 [==============================] - 0s 45us/sample - loss: 20538876.9957 - val_loss: 22357074.0298\n",
      "Epoch 151/250\n",
      "9083/9083 [==============================] - 0s 41us/sample - loss: 20531392.7191 - val_loss: 22352385.0103\n",
      "Epoch 152/250\n",
      "9083/9083 [==============================] - 0s 39us/sample - loss: 20519450.0729 - val_loss: 22319398.5898\n",
      "Epoch 153/250\n",
      "9083/9083 [==============================] - 0s 36us/sample - loss: 20471058.7845 - val_loss: 22295819.5292\n",
      "Epoch 154/250\n",
      "9083/9083 [==============================] - 1s 58us/sample - loss: 20474688.2054 - val_loss: 22277537.7388\n",
      "Epoch 155/250\n",
      "9083/9083 [==============================] - 0s 35us/sample - loss: 20446033.1400 - val_loss: 22298475.0077\n",
      "Epoch 156/250\n",
      "9083/9083 [==============================] - 0s 37us/sample - loss: 20437341.9573 - val_loss: 22219865.5083\n",
      "Epoch 157/250\n",
      "9083/9083 [==============================] - 0s 36us/sample - loss: 20388267.0025 - val_loss: 22243823.5320\n",
      "Epoch 158/250\n",
      "9083/9083 [==============================] - 0s 37us/sample - loss: 20337986.9043 - val_loss: 22241185.7069\n",
      "Epoch 159/250\n",
      "9083/9083 [==============================] - 0s 33us/sample - loss: 20349398.2865 - val_loss: 22135584.4071\n",
      "Epoch 160/250\n",
      "9083/9083 [==============================] - 0s 32us/sample - loss: 20316420.0460 - val_loss: 22181284.4793\n",
      "Epoch 161/250\n",
      "9083/9083 [==============================] - 0s 36us/sample - loss: 20312227.9051 - val_loss: 22097022.2841\n",
      "Epoch 162/250\n",
      "9083/9083 [==============================] - 0s 32us/sample - loss: 20331379.4224 - val_loss: 22103609.6707\n",
      "Epoch 163/250\n",
      "9083/9083 [==============================] - 0s 32us/sample - loss: 20235629.2401 - val_loss: 22112414.9841\n",
      "Epoch 164/250\n",
      "9083/9083 [==============================] - 0s 34us/sample - loss: 20214413.0851 - val_loss: 22040155.1338\n",
      "Epoch 165/250\n",
      "9083/9083 [==============================] - 0s 35us/sample - loss: 20224155.9387 - val_loss: 22073247.1038\n",
      "Epoch 166/250\n",
      "9083/9083 [==============================] - 0s 38us/sample - loss: 20223560.1408 - val_loss: 22006294.9001\n",
      "Epoch 167/250\n",
      "9083/9083 [==============================] - 0s 40us/sample - loss: 20180310.5533 - val_loss: 21973982.3681\n",
      "Epoch 168/250\n",
      "9083/9083 [==============================] - 0s 36us/sample - loss: 20151078.6102 - val_loss: 21923224.2176\n",
      "Epoch 169/250\n",
      "9083/9083 [==============================] - 0s 38us/sample - loss: 20116197.3536 - val_loss: 21902382.6622\n",
      "Epoch 170/250\n",
      "9083/9083 [==============================] - 1s 82us/sample - loss: 20093607.4246 - val_loss: 21882557.1983\n",
      "Epoch 171/250\n",
      "9083/9083 [==============================] - 1s 124us/sample - loss: 20074845.5479 - val_loss: 21838381.7149\n",
      "Epoch 172/250\n",
      "9083/9083 [==============================] - 1s 91us/sample - loss: 20052373.4326 - val_loss: 21860339.5502\n",
      "Epoch 173/250\n",
      "9083/9083 [==============================] - 1s 86us/sample - loss: 20040715.3209 - val_loss: 21824216.9106\n",
      "Epoch 174/250\n",
      "9083/9083 [==============================] - 1s 73us/sample - loss: 20004195.2731 - val_loss: 21772075.7745\n",
      "Epoch 175/250\n",
      "9083/9083 [==============================] - 1s 106us/sample - loss: 19984673.7967 - val_loss: 21755901.8315: 0s - los\n",
      "Epoch 176/250\n",
      "9083/9083 [==============================] - 1s 103us/sample - loss: 19949585.6728 - val_loss: 21745758.3388\n",
      "Epoch 177/250\n",
      "9083/9083 [==============================] - 1s 84us/sample - loss: 19948980.0760 - val_loss: 21716801.4685\n",
      "Epoch 178/250\n",
      "9083/9083 [==============================] - 1s 58us/sample - loss: 19943505.2994 - val_loss: 21697724.1909\n",
      "Epoch 179/250\n",
      "9083/9083 [==============================] - 0s 54us/sample - loss: 19930181.3029 - val_loss: 21664084.1254\n",
      "Epoch 180/250\n",
      "9083/9083 [==============================] - 1s 57us/sample - loss: 19896018.5529 - val_loss: 21694112.3856\n",
      "Epoch 181/250\n",
      "9083/9083 [==============================] - 1s 59us/sample - loss: 19888142.5287 - val_loss: 21626313.2124\n",
      "Epoch 182/250\n",
      "9083/9083 [==============================] - 0s 54us/sample - loss: 19896850.8360 - val_loss: 21611981.5749\n",
      "Epoch 183/250\n",
      "9083/9083 [==============================] - 0s 36us/sample - loss: 19869382.9991 - val_loss: 21609176.6137\n",
      "Epoch 184/250\n",
      "9083/9083 [==============================] - 0s 36us/sample - loss: 19844059.2670 - val_loss: 21554545.4202\n",
      "Epoch 185/250\n",
      "9083/9083 [==============================] - 0s 36us/sample - loss: 19798263.1278 - val_loss: 21550023.0568\n",
      "Epoch 186/250\n",
      "9083/9083 [==============================] - 0s 34us/sample - loss: 19765875.0582 - val_loss: 21559315.1269\n",
      "Epoch 187/250\n",
      "9083/9083 [==============================] - 0s 45us/sample - loss: 19789045.0446 - val_loss: 21565676.6370\n",
      "Epoch 188/250\n",
      "9083/9083 [==============================] - 0s 45us/sample - loss: 19771762.6029 - val_loss: 21488344.0190\n",
      "Epoch 189/250\n",
      "9083/9083 [==============================] - 1s 59us/sample - loss: 19711549.9392 - val_loss: 21513500.0018\n",
      "Epoch 190/250\n",
      "9083/9083 [==============================] - 0s 34us/sample - loss: 19722007.5233 - val_loss: 21548382.1688\n",
      "Epoch 191/250\n",
      "9083/9083 [==============================] - 0s 47us/sample - loss: 19677220.0972 - val_loss: 21444273.2281\n",
      "Epoch 192/250\n",
      "9083/9083 [==============================] - 1s 64us/sample - loss: 19660909.9665 - val_loss: 21482064.5718\n",
      "Epoch 193/250\n",
      "9083/9083 [==============================] - 0s 41us/sample - loss: 19661870.6601 - val_loss: 21515712.3961\n",
      "Epoch 194/250\n",
      "9083/9083 [==============================] - 0s 42us/sample - loss: 19670735.1437 - val_loss: 21366057.6974\n",
      "Epoch 195/250\n",
      "9083/9083 [==============================] - 0s 34us/sample - loss: 19622235.0061 - val_loss: 21394762.7357\n",
      "Epoch 196/250\n",
      "9083/9083 [==============================] - 0s 41us/sample - loss: 19602258.4212 - val_loss: 21349050.4642\n",
      "Epoch 197/250\n",
      "9083/9083 [==============================] - 0s 49us/sample - loss: 19564649.3391 - val_loss: 21336610.8413\n",
      "Epoch 198/250\n",
      "9083/9083 [==============================] - 1s 56us/sample - loss: 19577905.1589 - val_loss: 21393352.9348\n",
      "Epoch 199/250\n",
      "9083/9083 [==============================] - 1s 110us/sample - loss: 19610133.3104 - val_loss: 21442704.2910\n",
      "Epoch 200/250\n",
      "9083/9083 [==============================] - 0s 55us/sample - loss: 19567339.5792 - val_loss: 21313843.0655\n",
      "Epoch 201/250\n",
      "9083/9083 [==============================] - 1s 78us/sample - loss: 19533678.1546 - val_loss: 21315969.1379\n",
      "Epoch 202/250\n",
      "9083/9083 [==============================] - 1s 89us/sample - loss: 19495844.8226 - val_loss: 21262525.5669\n",
      "Epoch 203/250\n",
      "9083/9083 [==============================] - 1s 67us/sample - loss: 19483462.8786 - val_loss: 21286711.6268\n",
      "Epoch 204/250\n",
      "9083/9083 [==============================] - 1s 70us/sample - loss: 19453832.0588 - val_loss: 21226199.4981\n",
      "Epoch 205/250\n",
      "9083/9083 [==============================] - 1s 59us/sample - loss: 19448304.6938 - val_loss: 21216665.8102\n",
      "Epoch 206/250\n",
      "9083/9083 [==============================] - 1s 78us/sample - loss: 19430447.3824 - val_loss: 21208742.1379\n",
      "Epoch 207/250\n",
      "9083/9083 [==============================] - 1s 62us/sample - loss: 19413041.3760 - val_loss: 21161582.4462\n",
      "Epoch 208/250\n",
      "9083/9083 [==============================] - 1s 66us/sample - loss: 19400563.2344 - val_loss: 21138512.2281\n",
      "Epoch 209/250\n",
      "9083/9083 [==============================] - 0s 54us/sample - loss: 19371171.4150 - val_loss: 21142436.3229\n",
      "Epoch 210/250\n",
      "9083/9083 [==============================] - 0s 53us/sample - loss: 19394350.0308 - val_loss: 21127661.3034\n",
      "Epoch 211/250\n",
      "9083/9083 [==============================] - ETA: 0s - loss: 19303141.42 - 1s 57us/sample - loss: 19355526.0033 - val_loss: 21110999.8741\n",
      "Epoch 212/250\n",
      "9083/9083 [==============================] - 1s 60us/sample - loss: 19329219.0116 - val_loss: 21106055.8343\n",
      "Epoch 213/250\n",
      "9083/9083 [==============================] - 0s 53us/sample - loss: 19351707.5869 - val_loss: 21083099.0337\n",
      "Epoch 214/250\n",
      "9083/9083 [==============================] - 0s 54us/sample - loss: 19301376.1744 - val_loss: 21053216.0483\n",
      "Epoch 215/250\n",
      "9083/9083 [==============================] - 0s 53us/sample - loss: 19324564.1359 - val_loss: 21047416.2368\n",
      "Epoch 216/250\n",
      "9083/9083 [==============================] - 0s 53us/sample - loss: 19282591.4103 - val_loss: 21103908.9471\n",
      "Epoch 217/250\n",
      "9083/9083 [==============================] - 0s 51us/sample - loss: 19251676.4393 - val_loss: 21007713.1485\n",
      "Epoch 218/250\n",
      "9083/9083 [==============================] - 0s 53us/sample - loss: 19220139.3420 - val_loss: 20991599.9026\n",
      "Epoch 219/250\n",
      "9083/9083 [==============================] - 0s 54us/sample - loss: 19250163.0924 - val_loss: 20967408.8916\n",
      "Epoch 220/250\n",
      "9083/9083 [==============================] - 0s 52us/sample - loss: 19199864.0337 - val_loss: 21040994.7025\n",
      "Epoch 221/250\n",
      "9083/9083 [==============================] - 1s 61us/sample - loss: 19204275.0770 - val_loss: 20964341.5908\n",
      "Epoch 222/250\n",
      "9083/9083 [==============================] - 1s 69us/sample - loss: 19200417.9509 - val_loss: 20918665.6501\n",
      "Epoch 223/250\n",
      "9083/9083 [==============================] - 0s 53us/sample - loss: 19182626.9149 - val_loss: 20952153.7108\n",
      "Epoch 224/250\n",
      "9083/9083 [==============================] - 0s 53us/sample - loss: 19161478.3525 - val_loss: 20890602.3183\n",
      "Epoch 225/250\n",
      "9083/9083 [==============================] - 1s 57us/sample - loss: 19130197.8658 - val_loss: 21020648.7169\n",
      "Epoch 226/250\n",
      "9083/9083 [==============================] - 0s 53us/sample - loss: 19133029.0179 - val_loss: 20904408.7221\n",
      "Epoch 227/250\n",
      "9083/9083 [==============================] - 1s 57us/sample - loss: 19123697.0201 - val_loss: 20862057.6656\n",
      "Epoch 228/250\n",
      "9083/9083 [==============================] - 0s 54us/sample - loss: 19146388.9010 - val_loss: 21000988.2697\n",
      "Epoch 229/250\n",
      "9083/9083 [==============================] - 0s 53us/sample - loss: 19104344.4801 - val_loss: 20812874.0136\n",
      "Epoch 230/250\n",
      "9083/9083 [==============================] - 0s 54us/sample - loss: 19076358.8196 - val_loss: 20835879.2394\n",
      "Epoch 231/250\n",
      "9083/9083 [==============================] - 1s 68us/sample - loss: 19043923.7155 - val_loss: 20799144.9401\n",
      "Epoch 232/250\n",
      "9083/9083 [==============================] - 0s 53us/sample - loss: 19012211.5389 - val_loss: 20824419.4069\n",
      "Epoch 233/250\n",
      "9083/9083 [==============================] - 0s 53us/sample - loss: 19019086.9994 - val_loss: 20748173.6946\n",
      "Epoch 234/250\n",
      "9083/9083 [==============================] - 0s 53us/sample - loss: 18975726.8462 - val_loss: 20773749.2127\n",
      "Epoch 235/250\n",
      "9083/9083 [==============================] - 1s 56us/sample - loss: 18979185.4469 - val_loss: 20725957.0044\n",
      "Epoch 236/250\n",
      "9083/9083 [==============================] - 0s 53us/sample - loss: 18967557.2488 - val_loss: 20725468.5150\n",
      "Epoch 237/250\n",
      "9083/9083 [==============================] - 0s 54us/sample - loss: 18955860.7989 - val_loss: 20752006.8764\n",
      "Epoch 238/250\n",
      "9083/9083 [==============================] - 0s 53us/sample - loss: 18922193.4535 - val_loss: 20667000.2024\n",
      "Epoch 239/250\n",
      "9083/9083 [==============================] - 0s 52us/sample - loss: 18900996.3720 - val_loss: 20627205.1210\n",
      "Epoch 240/250\n",
      "9083/9083 [==============================] - 0s 52us/sample - loss: 18874133.0473 - val_loss: 20669291.4986\n",
      "Epoch 241/250\n",
      "9083/9083 [==============================] - 1s 65us/sample - loss: 18906062.4131 - val_loss: 20659110.0758\n",
      "Epoch 242/250\n",
      "9083/9083 [==============================] - 1s 56us/sample - loss: 18849499.9405 - val_loss: 20581155.1474\n",
      "Epoch 243/250\n",
      "9083/9083 [==============================] - 0s 52us/sample - loss: 18833668.0057 - val_loss: 20642566.2556\n",
      "Epoch 244/250\n",
      "9083/9083 [==============================] - 0s 53us/sample - loss: 18848961.9105 - val_loss: 20690106.7141\n",
      "Epoch 245/250\n",
      "9083/9083 [==============================] - 1s 58us/sample - loss: 18838789.2698 - val_loss: 20585370.5302\n",
      "Epoch 246/250\n",
      "9083/9083 [==============================] - 0s 53us/sample - loss: 18838753.8818 - val_loss: 20549921.5764\n",
      "Epoch 247/250\n",
      "9083/9083 [==============================] - 1s 57us/sample - loss: 18814046.5430 - val_loss: 20548093.1608\n",
      "Epoch 248/250\n",
      "9083/9083 [==============================] - 0s 52us/sample - loss: 18780452.7462 - val_loss: 20590235.2014\n",
      "Epoch 249/250\n",
      "9083/9083 [==============================] - 0s 53us/sample - loss: 18759883.7186 - val_loss: 20540453.7781\n",
      "Epoch 250/250\n",
      "9083/9083 [==============================] - 0s 53us/sample - loss: 18755983.7831 - val_loss: 20557310.0863\n"
     ]
    },
    {
     "data": {
      "text/plain": [
       "<tensorflow.python.keras.callbacks.History at 0x1baa3be9088>"
      ]
     },
     "execution_count": 169,
     "metadata": {},
     "output_type": "execute_result"
    }
   ],
   "source": [
    "model.fit(x = xTrainTransformedValues, y = yTrain, epochs = 250, validation_data = (xTestTransformedValues, yTest), batch_size = 180)"
   ]
  },
  {
   "cell_type": "code",
   "execution_count": 170,
   "metadata": {},
   "outputs": [],
   "source": [
    "dfLosses = pa.DataFrame(model.history.history)"
   ]
  },
  {
   "cell_type": "code",
   "execution_count": 172,
   "metadata": {},
   "outputs": [
    {
     "data": {
      "text/html": [
       "<div>\n",
       "<style scoped>\n",
       "    .dataframe tbody tr th:only-of-type {\n",
       "        vertical-align: middle;\n",
       "    }\n",
       "\n",
       "    .dataframe tbody tr th {\n",
       "        vertical-align: top;\n",
       "    }\n",
       "\n",
       "    .dataframe thead th {\n",
       "        text-align: right;\n",
       "    }\n",
       "</style>\n",
       "<table border=\"1\" class=\"dataframe\">\n",
       "  <thead>\n",
       "    <tr style=\"text-align: right;\">\n",
       "      <th></th>\n",
       "      <th>loss</th>\n",
       "      <th>val_loss</th>\n",
       "    </tr>\n",
       "  </thead>\n",
       "  <tbody>\n",
       "    <tr>\n",
       "      <td>0</td>\n",
       "      <td>6.734541e+08</td>\n",
       "      <td>6.860850e+08</td>\n",
       "    </tr>\n",
       "    <tr>\n",
       "      <td>1</td>\n",
       "      <td>6.730524e+08</td>\n",
       "      <td>6.851622e+08</td>\n",
       "    </tr>\n",
       "    <tr>\n",
       "      <td>2</td>\n",
       "      <td>6.706281e+08</td>\n",
       "      <td>6.800146e+08</td>\n",
       "    </tr>\n",
       "    <tr>\n",
       "      <td>3</td>\n",
       "      <td>6.593969e+08</td>\n",
       "      <td>6.589654e+08</td>\n",
       "    </tr>\n",
       "    <tr>\n",
       "      <td>4</td>\n",
       "      <td>6.217183e+08</td>\n",
       "      <td>5.976391e+08</td>\n",
       "    </tr>\n",
       "    <tr>\n",
       "      <td>...</td>\n",
       "      <td>...</td>\n",
       "      <td>...</td>\n",
       "    </tr>\n",
       "    <tr>\n",
       "      <td>245</td>\n",
       "      <td>1.883875e+07</td>\n",
       "      <td>2.054992e+07</td>\n",
       "    </tr>\n",
       "    <tr>\n",
       "      <td>246</td>\n",
       "      <td>1.881405e+07</td>\n",
       "      <td>2.054809e+07</td>\n",
       "    </tr>\n",
       "    <tr>\n",
       "      <td>247</td>\n",
       "      <td>1.878045e+07</td>\n",
       "      <td>2.059024e+07</td>\n",
       "    </tr>\n",
       "    <tr>\n",
       "      <td>248</td>\n",
       "      <td>1.875988e+07</td>\n",
       "      <td>2.054045e+07</td>\n",
       "    </tr>\n",
       "    <tr>\n",
       "      <td>249</td>\n",
       "      <td>1.875598e+07</td>\n",
       "      <td>2.055731e+07</td>\n",
       "    </tr>\n",
       "  </tbody>\n",
       "</table>\n",
       "<p>250 rows × 2 columns</p>\n",
       "</div>"
      ],
      "text/plain": [
       "             loss      val_loss\n",
       "0    6.734541e+08  6.860850e+08\n",
       "1    6.730524e+08  6.851622e+08\n",
       "2    6.706281e+08  6.800146e+08\n",
       "3    6.593969e+08  6.589654e+08\n",
       "4    6.217183e+08  5.976391e+08\n",
       "..            ...           ...\n",
       "245  1.883875e+07  2.054992e+07\n",
       "246  1.881405e+07  2.054809e+07\n",
       "247  1.878045e+07  2.059024e+07\n",
       "248  1.875988e+07  2.054045e+07\n",
       "249  1.875598e+07  2.055731e+07\n",
       "\n",
       "[250 rows x 2 columns]"
      ]
     },
     "execution_count": 172,
     "metadata": {},
     "output_type": "execute_result"
    }
   ],
   "source": [
    "dfLosses"
   ]
  },
  {
   "cell_type": "markdown",
   "metadata": {},
   "source": [
    "Bunu grafiğe dökmeliyiz:"
   ]
  },
  {
   "cell_type": "code",
   "execution_count": 178,
   "metadata": {},
   "outputs": [
    {
     "data": {
      "text/plain": [
       "<matplotlib.axes._subplots.AxesSubplot at 0x1baa5705a08>"
      ]
     },
     "execution_count": 178,
     "metadata": {},
     "output_type": "execute_result"
    },
    {
     "data": {
      "image/png": "[encoded data removed]",
      "text/plain": [
       "<Figure size 1152x432 with 1 Axes>"
      ]
     },
     "metadata": {
      "needs_background": "light"
     },
     "output_type": "display_data"
    }
   ],
   "source": [
    "dfLosses.plot(figsize = (16, 6))"
   ]
  },
  {
   "cell_type": "markdown",
   "metadata": {},
   "source": [
    "Kayıp ve doğrulama kaybı berâber hareket ediyorlar ve belli bir yerden sonra birbirlerine çok yakınlar. Bu da modelin \"ezberleme\" olarak isimlendirilen, ağırlıkların yalnızca mevcut veri setini en iyileyecek şekilde ayarlanması gibi bir sıkıntının olmadığını gösteriyor."
   ]
  },
  {
   "cell_type": "markdown",
   "metadata": {},
   "source": [
    "Ama \"epoch\" sayısı çok olmuş gibi görünüyor. "
   ]
  },
  {
   "cell_type": "code",
   "execution_count": 180,
   "metadata": {},
   "outputs": [],
   "source": [
    "from sklearn.metrics import mean_squared_error, mean_absolute_error"
   ]
  },
  {
   "cell_type": "code",
   "execution_count": 181,
   "metadata": {},
   "outputs": [],
   "source": [
    "predicts = model.predict(xTestTransformedValues)"
   ]
  },
  {
   "cell_type": "code",
   "execution_count": 182,
   "metadata": {},
   "outputs": [
    {
     "data": {
      "text/plain": [
       "array([[16252.649],\n",
       "       [26646.736],\n",
       "       [16387.451],\n",
       "       ...,\n",
       "       [25755.361],\n",
       "       [21672.266],\n",
       "       [18027.281]], dtype=float32)"
      ]
     },
     "execution_count": 182,
     "metadata": {},
     "output_type": "execute_result"
    }
   ],
   "source": [
    "predicts"
   ]
  },
  {
   "cell_type": "code",
   "execution_count": 189,
   "metadata": {},
   "outputs": [
    {
     "name": "stdout",
     "output_type": "stream",
     "text": [
      "Ortalama mutlak hatâ : 3261.0222398751566\n"
     ]
    }
   ],
   "source": [
    "err = mean_absolute_error(yTest,predicts)\n",
    "print(\"Ortalama mutlak hatâ : \" + str(err))"
   ]
  },
  {
   "cell_type": "markdown",
   "metadata": {},
   "source": [
    "Modelimizin tahmîn başarısı aslında düşük; daha doğru tahmînler için belki bâzı sütunları çıkarmalıyız, belki bâzı verileri çıkarmalıyız. Ama artık bu çalışmayı bitirmek istiyorum.\n",
    "Ortalama fiyatımıza ve yaptığımız tahmin hatâsının ortalama fiyata oranına bakalım:"
   ]
  },
  {
   "cell_type": "code",
   "execution_count": 194,
   "metadata": {},
   "outputs": [
    {
     "name": "stdout",
     "output_type": "stream",
     "text": [
      "Araçların ortalama fiyatı (pound) : 24082.33\n",
      "Fiyat tahmînindeki sapma miktarı (pound) : 3261.0222398751566\n",
      "Sapma miktarının yüzde cinsinden değeri : 13.54\n"
     ]
    }
   ],
   "source": [
    "meanPrice = dfWithTransmission.mean()[\"price\"]\n",
    "\n",
    "print(\"Araçların ortalama fiyatı (pound) : \" + str(round(meanPrice, 2)))\n",
    "print(\"Fiyat tahmînindeki sapma miktarı (pound) : \" + str(err))\n",
    "print(\"Sapma miktarının yüzde cinsinden değeri : \" + str(round((err / meanPrice) * 100, 2)))"
   ]
  },
  {
   "cell_type": "code",
   "execution_count": 188,
   "metadata": {},
   "outputs": [
    {
     "data": {
      "text/plain": [
       "[<matplotlib.lines.Line2D at 0x1baa6109e08>]"
      ]
     },
     "execution_count": 188,
     "metadata": {},
     "output_type": "execute_result"
    },
    {
     "data": {
      "image/png": "[encoded data removed]",
      "text/plain": [
       "<Figure size 864x288 with 1 Axes>"
      ]
     },
     "metadata": {
      "needs_background": "light"
     },
     "output_type": "display_data"
    }
   ],
   "source": [
    "plt.figure(figsize = (12, 4))\n",
    "plt.scatter(yTest,predicts)\n",
    "plt.plot(yTest,yTest,\"g-.\")"
   ]
  },
  {
   "cell_type": "code",
   "execution_count": null,
   "metadata": {},
   "outputs": [],
   "source": []
  },
  {
   "cell_type": "code",
   "execution_count": null,
   "metadata": {},
   "outputs": [],
   "source": []
  },
  {
   "cell_type": "code",
   "execution_count": null,
   "metadata": {},
   "outputs": [],
   "source": []
  },
  {
   "cell_type": "code",
   "execution_count": null,
   "metadata": {},
   "outputs": [],
   "source": []
  },
  {
   "cell_type": "code",
   "execution_count": null,
   "metadata": {},
   "outputs": [],
   "source": []
  }
 ],
 "metadata": {
  "kernelspec": {
   "display_name": "Python 3",
   "language": "python",
   "name": "python3"
  },
  "language_info": {
   "codemirror_mode": {
    "name": "ipython",
    "version": 3
   },
   "file_extension": ".py",
   "mimetype": "text/x-python",
   "name": "python",
   "nbconvert_exporter": "python",
   "pygments_lexer": "ipython3",
   "version": "3.7.4"
  }
 },
 "nbformat": 4,
 "nbformat_minor": 2
}
