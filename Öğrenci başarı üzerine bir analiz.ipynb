{
 "cells": [
  {
   "cell_type": "markdown",
   "metadata": {},
   "source": [
    "## ÖDEV - 1, ANALİZ"
   ]
  },
  {
   "cell_type": "code",
   "execution_count": 1,
   "metadata": {},
   "outputs": [],
   "source": [
    "#Kütüphâneleri ekleme:\n",
    "import numpy as nm\n",
    "import pandas as pa\n",
    "import matplotlib.pyplot as py\n",
    "import seaborn as sb"
   ]
  },
  {
   "cell_type": "code",
   "execution_count": 2,
   "metadata": {},
   "outputs": [],
   "source": [
    "#Veri setini yükleme:\n",
    "data = pa.read_csv(\"exams-dataset-final.csv\")"
   ]
  },
  {
   "cell_type": "code",
   "execution_count": 478,
   "metadata": {
    "scrolled": false
   },
   "outputs": [
    {
     "name": "stdout",
     "output_type": "stream",
     "text": [
      "Veri büyüklüğü : 1000\n"
     ]
    },
    {
     "data": {
      "text/html": [
       "<div>\n",
       "<style scoped>\n",
       "    .dataframe tbody tr th:only-of-type {\n",
       "        vertical-align: middle;\n",
       "    }\n",
       "\n",
       "    .dataframe tbody tr th {\n",
       "        vertical-align: top;\n",
       "    }\n",
       "\n",
       "    .dataframe thead th {\n",
       "        text-align: right;\n",
       "    }\n",
       "</style>\n",
       "<table border=\"1\" class=\"dataframe\">\n",
       "  <thead>\n",
       "    <tr style=\"text-align: right;\">\n",
       "      <th></th>\n",
       "      <th>gender</th>\n",
       "      <th>race/ethnicity</th>\n",
       "      <th>parental level of education</th>\n",
       "      <th>lunch</th>\n",
       "      <th>test preparation course</th>\n",
       "      <th>math score</th>\n",
       "      <th>reading score</th>\n",
       "      <th>writing score</th>\n",
       "    </tr>\n",
       "  </thead>\n",
       "  <tbody>\n",
       "    <tr>\n",
       "      <td>0</td>\n",
       "      <td>female</td>\n",
       "      <td>group B</td>\n",
       "      <td>bachelor's degree</td>\n",
       "      <td>standard</td>\n",
       "      <td>none</td>\n",
       "      <td>72</td>\n",
       "      <td>72</td>\n",
       "      <td>74</td>\n",
       "    </tr>\n",
       "    <tr>\n",
       "      <td>1</td>\n",
       "      <td>female</td>\n",
       "      <td>group C</td>\n",
       "      <td>some college</td>\n",
       "      <td>standard</td>\n",
       "      <td>completed</td>\n",
       "      <td>69</td>\n",
       "      <td>90</td>\n",
       "      <td>88</td>\n",
       "    </tr>\n",
       "    <tr>\n",
       "      <td>2</td>\n",
       "      <td>female</td>\n",
       "      <td>group B</td>\n",
       "      <td>master's degree</td>\n",
       "      <td>standard</td>\n",
       "      <td>none</td>\n",
       "      <td>90</td>\n",
       "      <td>95</td>\n",
       "      <td>93</td>\n",
       "    </tr>\n",
       "    <tr>\n",
       "      <td>3</td>\n",
       "      <td>male</td>\n",
       "      <td>group A</td>\n",
       "      <td>associate's degree</td>\n",
       "      <td>free/reduced</td>\n",
       "      <td>none</td>\n",
       "      <td>47</td>\n",
       "      <td>57</td>\n",
       "      <td>44</td>\n",
       "    </tr>\n",
       "    <tr>\n",
       "      <td>4</td>\n",
       "      <td>male</td>\n",
       "      <td>group C</td>\n",
       "      <td>some college</td>\n",
       "      <td>standard</td>\n",
       "      <td>none</td>\n",
       "      <td>76</td>\n",
       "      <td>78</td>\n",
       "      <td>75</td>\n",
       "    </tr>\n",
       "  </tbody>\n",
       "</table>\n",
       "</div>"
      ],
      "text/plain": [
       "   gender race/ethnicity parental level of education         lunch  \\\n",
       "0  female        group B           bachelor's degree      standard   \n",
       "1  female        group C                some college      standard   \n",
       "2  female        group B             master's degree      standard   \n",
       "3    male        group A          associate's degree  free/reduced   \n",
       "4    male        group C                some college      standard   \n",
       "\n",
       "  test preparation course  math score  reading score  writing score  \n",
       "0                    none          72             72             74  \n",
       "1               completed          69             90             88  \n",
       "2                    none          90             95             93  \n",
       "3                    none          47             57             44  \n",
       "4                    none          76             78             75  "
      ]
     },
     "execution_count": 478,
     "metadata": {},
     "output_type": "execute_result"
    }
   ],
   "source": [
    "#Veriye önbakış:\n",
    "size = len(data)\n",
    "print('Veri büyüklüğü : ' + (str(size)))\n",
    "data.head(5)"
   ]
  },
  {
   "cell_type": "markdown",
   "metadata": {},
   "source": [
    "Veri üzerinde yapılması gereken ön işlemlerin tespiti:\n",
    "• Veride boş satır veyâ sütun varsa, tespit edilmesi; satır yâ dâ sütun sayısı az ise çıkarılması, çok ise ortalama değerle doldurulması\n",
    "• Verilerin merkezî eğilim ölçülerine bakılmalı\n",
    "• Verilerin dağılımı kontrol edilmeli\n",
    "• Verilerin önemli bir kısmı kategorik veri. İki kategoriden oluşan verileri 0 ve 1 olarak; 2'den fazla kategoriden oluşan verileri 'tek nokta matrisi' ('One Hot Vector') olarak kodlayabiliriz\n",
    "• "
   ]
  },
  {
   "cell_type": "code",
   "execution_count": 479,
   "metadata": {
    "scrolled": true
   },
   "outputs": [
    {
     "name": "stdout",
     "output_type": "stream",
     "text": [
      "Veri setindeki sütunların içerdiği boş hücre sayıları:\n"
     ]
    },
    {
     "data": {
      "text/plain": [
       "gender                         0\n",
       "race/ethnicity                 0\n",
       "parental level of education    0\n",
       "lunch                          0\n",
       "test preparation course        0\n",
       "math score                     0\n",
       "reading score                  0\n",
       "writing score                  0\n",
       "dtype: int64"
      ]
     },
     "execution_count": 479,
     "metadata": {},
     "output_type": "execute_result"
    }
   ],
   "source": [
    "#Boş verilerin tespiti:\n",
    "print('Veri setindeki sütunların içerdiği boş hücre sayıları:')\n",
    "data.isnull().sum()"
   ]
  },
  {
   "cell_type": "code",
   "execution_count": 480,
   "metadata": {
    "scrolled": true
   },
   "outputs": [
    {
     "data": {
      "text/html": [
       "<div>\n",
       "<style scoped>\n",
       "    .dataframe tbody tr th:only-of-type {\n",
       "        vertical-align: middle;\n",
       "    }\n",
       "\n",
       "    .dataframe tbody tr th {\n",
       "        vertical-align: top;\n",
       "    }\n",
       "\n",
       "    .dataframe thead th {\n",
       "        text-align: right;\n",
       "    }\n",
       "</style>\n",
       "<table border=\"1\" class=\"dataframe\">\n",
       "  <thead>\n",
       "    <tr style=\"text-align: right;\">\n",
       "      <th></th>\n",
       "      <th>math score</th>\n",
       "      <th>reading score</th>\n",
       "      <th>writing score</th>\n",
       "    </tr>\n",
       "  </thead>\n",
       "  <tbody>\n",
       "    <tr>\n",
       "      <td>count</td>\n",
       "      <td>1000.00000</td>\n",
       "      <td>1000.000000</td>\n",
       "      <td>1000.000000</td>\n",
       "    </tr>\n",
       "    <tr>\n",
       "      <td>mean</td>\n",
       "      <td>66.08900</td>\n",
       "      <td>69.169000</td>\n",
       "      <td>68.054000</td>\n",
       "    </tr>\n",
       "    <tr>\n",
       "      <td>std</td>\n",
       "      <td>15.16308</td>\n",
       "      <td>14.600192</td>\n",
       "      <td>15.195657</td>\n",
       "    </tr>\n",
       "    <tr>\n",
       "      <td>min</td>\n",
       "      <td>0.00000</td>\n",
       "      <td>17.000000</td>\n",
       "      <td>10.000000</td>\n",
       "    </tr>\n",
       "    <tr>\n",
       "      <td>25%</td>\n",
       "      <td>57.00000</td>\n",
       "      <td>59.000000</td>\n",
       "      <td>57.750000</td>\n",
       "    </tr>\n",
       "    <tr>\n",
       "      <td>50%</td>\n",
       "      <td>66.00000</td>\n",
       "      <td>70.000000</td>\n",
       "      <td>69.000000</td>\n",
       "    </tr>\n",
       "    <tr>\n",
       "      <td>75%</td>\n",
       "      <td>77.00000</td>\n",
       "      <td>79.000000</td>\n",
       "      <td>79.000000</td>\n",
       "    </tr>\n",
       "    <tr>\n",
       "      <td>max</td>\n",
       "      <td>100.00000</td>\n",
       "      <td>100.000000</td>\n",
       "      <td>100.000000</td>\n",
       "    </tr>\n",
       "  </tbody>\n",
       "</table>\n",
       "</div>"
      ],
      "text/plain": [
       "       math score  reading score  writing score\n",
       "count  1000.00000    1000.000000    1000.000000\n",
       "mean     66.08900      69.169000      68.054000\n",
       "std      15.16308      14.600192      15.195657\n",
       "min       0.00000      17.000000      10.000000\n",
       "25%      57.00000      59.000000      57.750000\n",
       "50%      66.00000      70.000000      69.000000\n",
       "75%      77.00000      79.000000      79.000000\n",
       "max     100.00000     100.000000     100.000000"
      ]
     },
     "execution_count": 480,
     "metadata": {},
     "output_type": "execute_result"
    }
   ],
   "source": [
    "#Verinin dağılımını incelemek , 1. Maddenin büyük kısmı:\n",
    "data.describe()"
   ]
  },
  {
   "cell_type": "code",
   "execution_count": 481,
   "metadata": {
    "scrolled": true
   },
   "outputs": [
    {
     "data": {
      "text/plain": [
       "Text(0.5, 1.0, 'Not dağılımları')"
      ]
     },
     "execution_count": 481,
     "metadata": {},
     "output_type": "execute_result"
    },
    {
     "data": {
      "image/png": "[encoded data removed]",
      "text/plain": [
       "<Figure size 648x432 with 1 Axes>"
      ]
     },
     "metadata": {
      "needs_background": "light"
     },
     "output_type": "display_data"
    }
   ],
   "source": [
    "#Verideki not dağılımına grafik olarak bakarak, çeşitliliği görmek:\n",
    "py.figure(figsize = (9,6))\n",
    "sb.distplot(data['math score'], label = 'Matematik')\n",
    "sb.distplot(data['reading score'], label = 'Okuma')\n",
    "sb.distplot(data['writing score'], label = 'Yazma')\n",
    "py.legend()\n",
    "py.title(\"Not dağılımları\")"
   ]
  },
  {
   "cell_type": "markdown",
   "metadata": {},
   "source": [
    "NOT - 1 : Her not düzeyinden alan öğrencilerin olması verilerin çeşitliliğine işâret ettiğinden veri setinin analiz için uygun olabileceğini düşünebiliriz."
   ]
  },
  {
   "cell_type": "code",
   "execution_count": 482,
   "metadata": {},
   "outputs": [
    {
     "name": "stdout",
     "output_type": "stream",
     "text": [
      "gender sütunundaki farklı değer sayısı : 2\n",
      "race/ethnicity sütunundaki farklı değer sayısı : 5\n",
      "parental level of education sütunundaki farklı değer sayısı : 6\n",
      "lunch sütunundaki farklı değer sayısı : 2\n",
      "test preparation course sütunundaki farklı değer sayısı : 2\n",
      "math score sütunundaki farklı değer sayısı : 81\n",
      "reading score sütunundaki farklı değer sayısı : 72\n",
      "writing score sütunundaki farklı değer sayısı : 77\n"
     ]
    }
   ],
   "source": [
    "#Çift değerli - çok değerli sütunları keşfedelim:\n",
    "for colName in data.columns[:]:\n",
    "    print(colName + \" sütunundaki farklı değer sayısı : \" + str(data[colName].nunique()))"
   ]
  },
  {
   "cell_type": "markdown",
   "metadata": {},
   "source": [
    "\"gender\", \"lunch\", \"test preparation course\" alanlarını 'bool' veri tipine çevirmeli;\n",
    "\"race/ethnicity\" ve \"parental level of education\" alanlarını ise 'tek nokta vektörü'ne veyâ sıralı değere çevirebiliriz.\n",
    "Ebeveynlerin eğitim düzeyi sıralı değere çevirmeye müsâittir; çünkü eğitim düzeyi yüksek olan kişi yüksek sayıyla ifâde..\n",
    ".. edildiğinde sayısal olarak da büyük olması anlamlı olur."
   ]
  },
  {
   "cell_type": "code",
   "execution_count": 483,
   "metadata": {},
   "outputs": [],
   "source": [
    "#Diğer dağılımlara bakmadan evvel kategorik verileri sayısala çevirmeliyim.\n",
    "#man = [\"male\" for i in data.loc[:,\"gender\"] if == \"male\"]\n",
    "#genders = [0 for i in data.loc[:,'gender'] if i == \"male\" elif i == \"female\"]\n",
    "sayac = 0\n",
    "genders = [i for i in range(len(data))]\n",
    "for i in data.loc[:, \"gender\"]:\n",
    "    if i == \"male\":\n",
    "        genders[sayac] = 1\n",
    "    else:\n",
    "        genders[sayac] = 0\n",
    "    sayac += 1"
   ]
  },
  {
   "cell_type": "code",
   "execution_count": 484,
   "metadata": {},
   "outputs": [],
   "source": [
    "#lunch, standard = 1, free/reduced = 0\n",
    "sayac = 0\n",
    "lunchs = [i for i in range(len(data))]\n",
    "for i in data.loc[:, \"lunch\"]:\n",
    "    if i == \"standard\":\n",
    "        lunchs[sayac] = 1\n",
    "    else:\n",
    "        lunchs[sayac] = 0\n",
    "    sayac += 1"
   ]
  },
  {
   "cell_type": "code",
   "execution_count": 485,
   "metadata": {},
   "outputs": [],
   "source": [
    "#test preparation course, completed = 1, none = 0\n",
    "sayac = 0\n",
    "preCourses = [i for i in range(len(data))]\n",
    "for i in data.loc[:, \"test preparation course\"]:\n",
    "    if i == \"completed\":\n",
    "        preCourses[sayac] = 1\n",
    "    else:\n",
    "        preCourses[sayac] = 0\n",
    "    sayac += 1"
   ]
  },
  {
   "cell_type": "code",
   "execution_count": 486,
   "metadata": {},
   "outputs": [],
   "source": [
    "mergedData = data.copy()\n",
    "mergedData[\"gender\"] = genders\n",
    "mergedData[\"lunch\"] = lunchs\n",
    "mergedData[\"test preparation course\"] = preCourses"
   ]
  },
  {
   "cell_type": "code",
   "execution_count": 1196,
   "metadata": {},
   "outputs": [
    {
     "data": {
      "image/png": "[encoded data removed]",
      "text/plain": [
       "<Figure size 504x288 with 1 Axes>"
      ]
     },
     "metadata": {},
     "output_type": "display_data"
    }
   ],
   "source": [
    "# 2. Madde:\n",
    "\n",
    "numberOfMales = len(data.loc[data[\"gender\"] == 'male'])\n",
    "numberOfFemales = len(data) - numberOfMales\n",
    "\n",
    "py.figure(figsize = (7,4))\n",
    "py.pie([numberOfMales, numberOfFemales], labels = [\"Erkek öğrenciler\", \"Kız öğrenciler\"])\n",
    "py.savefig(\"Kız - erkek dağılımı\", dpi = 220)\n",
    "py.show()"
   ]
  },
  {
   "cell_type": "code",
   "execution_count": 1238,
   "metadata": {},
   "outputs": [
    {
     "data": {
      "image/png": "[encoded data removed]",
      "text/plain": [
       "<Figure size 648x432 with 1 Axes>"
      ]
     },
     "metadata": {
      "needs_background": "light"
     },
     "output_type": "display_data"
    }
   ],
   "source": [
    "py.figure(figsize = (9, 6))\n",
    "py.hist(data[\"writing score\"])\n",
    "py.xlabel(\"Puan\")\n",
    "py.ylabel(\"Öğrenci sayısı\")\n",
    "py.title(label = \"Yazma dersi puan dağılımı\")\n",
    "py.savefig(\"Yazma puan dağılımı\", dpi = 220)\n",
    "py.show()"
   ]
  },
  {
   "cell_type": "code",
   "execution_count": 3,
   "metadata": {
    "scrolled": true
   },
   "outputs": [
    {
     "data": {
      "image/png": "[encoded data removed]",
      "text/plain": [
       "<Figure size 432x288 with 1 Axes>"
      ]
     },
     "metadata": {
      "needs_background": "light"
     },
     "output_type": "display_data"
    }
   ],
   "source": [
    "# 3. Madde:\n",
    "levels = [\"yüksek lisans\", \"lisans\", \"önlisans\", \"üniversite terk\", \"lise\", \"lise terk\"]\n",
    "eduSeries = data.groupby(\"parental level of education\").count().iloc[:][\"gender\"]\n",
    "edu = [i for i in range(0,6)]\n",
    "edu[0] = eduSeries.loc[\"master's degree\"]#yüksek lisans\n",
    "edu[1] = eduSeries.loc[\"bachelor's degree\"]#lisans\n",
    "edu[2] = eduSeries.loc[\"associate's degree\"]#önlisans\n",
    "edu[3] = eduSeries.loc[\"some college\"]#üniversite terk\n",
    "edu[4] = eduSeries.loc[\"high school\"]#lise\n",
    "edu[5] = eduSeries.loc[\"some high school\"]#lise terk\n",
    "\n",
    "figEdu = py.figure()\n",
    "ax1 = figEdu.add_axes([0.1, 0.1, 0.9, 0.9])\n",
    "\n",
    "ax1.set_xlabel(\"Eğitim seviyeleri\")\n",
    "ax1.set_ylabel(\"Kişi sayısı\")\n",
    "ax1.set_title(\"Eğitim seviyeleri dağılımı\")\n",
    "\n",
    "#ax1.plot(levels, edu, \"*:b\", mfc = \"purple\")\n",
    "ax1.bar(levels, edu, color = \"#822E2E\", edgecolor = \"purple\")\n",
    "figEdu.savefig(\"Ebeveyn eğitim düzeyleri\", dpi = 200)"
   ]
  },
  {
   "cell_type": "code",
   "execution_count": 5,
   "metadata": {},
   "outputs": [
    {
     "data": {
      "image/png": "[encoded data removed]",
      "text/plain": [
       "<Figure size 432x288 with 1 Axes>"
      ]
     },
     "metadata": {
      "needs_background": "light"
     },
     "output_type": "display_data"
    }
   ],
   "source": [
    "levels = [\"master's degree\", \"bachelor's degree\", \"associate's degree\", \"some college\", \"high school\", \"some high school\"]\n",
    "eduSeries = data.groupby(\"parental level of education\").count().iloc[:][\"gender\"]\n",
    "edu = [i for i in range(0,6)]\n",
    "edu[0] = eduSeries.loc[\"master's degree\"]#yüksek lisans\n",
    "edu[1] = eduSeries.loc[\"bachelor's degree\"]#lisans\n",
    "edu[2] = eduSeries.loc[\"associate's degree\"]#önlisans\n",
    "edu[3] = eduSeries.loc[\"some college\"]#üniversite terk\n",
    "edu[4] = eduSeries.loc[\"high school\"]#lise\n",
    "edu[5] = eduSeries.loc[\"some high school\"]#lise terk\n",
    "\n",
    "figEdu = py.figure()\n",
    "ax1 = figEdu.add_axes([0.1, 0.1, 0.9, 0.9])\n",
    "\n",
    "ax1.set_xlabel(\"Education levels\")\n",
    "ax1.set_ylabel(\"Number of people\")\n",
    "ax1.set_title(\"Distribution of education levels\")\n",
    "\n",
    "#ax1.plot(levels, edu, \"*:b\", mfc = \"purple\")\n",
    "ax1.bar(levels, edu, color = \"#822E2E\", edgecolor = \"purple\")\n",
    "figEdu.savefig(\"Ebeveyn eğitim düzeyleri - İNGİLİZCE\", dpi = 200)"
   ]
  },
  {
   "cell_type": "code",
   "execution_count": 1352,
   "metadata": {},
   "outputs": [
    {
     "data": {
      "image/png": "[encoded data removed]",
      "text/plain": [
       "<Figure size 432x288 with 1 Axes>"
      ]
     },
     "metadata": {
      "needs_background": "light"
     },
     "output_type": "display_data"
    }
   ],
   "source": [
    "# 4. Madde:\n",
    "finished = data.loc[data[\"test preparation course\"] == 'completed'].count()[0]\n",
    "notFinished = data.loc[data[\"test preparation course\"] == 'none'].count()[0]\n",
    "courseCompleteRate = round ((finished / len(data))* 100, 3)\n",
    "\n",
    "figCourse = py.figure()\n",
    "courseAx1 = figCourse.add_axes([0.1, 0.1, 0.8, 0.9])\n",
    "courseAx1.set_xlabel(\"Kurs tamâmlama durumu\")\n",
    "courseAx1.set_ylabel(\"Kişi sayısı\")\n",
    "courseAx1.set_title(\"Kurs tamâmlama oranı (\" + str(courseCompleteRate) + \")\")\n",
    "\n",
    "\n",
    "courseAx1.bar([\"Tamâmladı\", \"Tamâmlamadı\"], [finished, notFinished], color = \"#82AEAE\", edgecolor = \"blue\")\n",
    "figCourse.savefig(\"Kurs tamâmlama oranları\", dpi = 200)"
   ]
  },
  {
   "cell_type": "code",
   "execution_count": 487,
   "metadata": {},
   "outputs": [
    {
     "data": {
      "text/plain": [
       "array([\"bachelor's degree\", 'some college', \"master's degree\",\n",
       "       \"associate's degree\", 'high school', 'some high school'],\n",
       "      dtype=object)"
      ]
     },
     "execution_count": 487,
     "metadata": {},
     "output_type": "execute_result"
    }
   ],
   "source": [
    "#Ebeveynlerin eğitim seviyeleri kaç farklı değerden oluşuyor?\n",
    "mergedData[\"parental level of education\"].unique()"
   ]
  },
  {
   "cell_type": "code",
   "execution_count": 488,
   "metadata": {},
   "outputs": [],
   "source": [
    "#Eğitim seviyesini sıralı vektöre çevirelim:\n",
    "#master's degree = yüksek lisans = 6\n",
    "#bachelor's degree = lisans = 5\n",
    "#associate's degree = önlisans = 4\n",
    "#some college = bir üniversite veyâ üniversitenin bir kısmı = 3\n",
    "#high school = lise = 2\n",
    "#some high school = lisenin bir kısmı = 1\n",
    "switch = {\n",
    "    \"master's degree\" : 6,\n",
    "    \"bachelor's degree\" : 5,\n",
    "    \"associate's degree\" : 4,\n",
    "    \"some college\" : 3,\n",
    "    \"high school\" : 2,\n",
    "    \"some high school\" : 1,\n",
    "}\n",
    "sayac = 0\n",
    "educationLevels = [i for i in range(len(data))]\n",
    "for i in data.loc[:,\"parental level of education\"]:\n",
    "    educationLevels[sayac] = switch.get(i)\n",
    "    sayac += 1"
   ]
  },
  {
   "cell_type": "code",
   "execution_count": 489,
   "metadata": {},
   "outputs": [],
   "source": [
    "mergedData[\"parental level of education\"] = educationLevels"
   ]
  },
  {
   "cell_type": "code",
   "execution_count": 490,
   "metadata": {},
   "outputs": [
    {
     "data": {
      "text/html": [
       "<div>\n",
       "<style scoped>\n",
       "    .dataframe tbody tr th:only-of-type {\n",
       "        vertical-align: middle;\n",
       "    }\n",
       "\n",
       "    .dataframe tbody tr th {\n",
       "        vertical-align: top;\n",
       "    }\n",
       "\n",
       "    .dataframe thead th {\n",
       "        text-align: right;\n",
       "    }\n",
       "</style>\n",
       "<table border=\"1\" class=\"dataframe\">\n",
       "  <thead>\n",
       "    <tr style=\"text-align: right;\">\n",
       "      <th></th>\n",
       "      <th>gender</th>\n",
       "      <th>parental level of education</th>\n",
       "      <th>lunch</th>\n",
       "      <th>test preparation course</th>\n",
       "      <th>math score</th>\n",
       "      <th>reading score</th>\n",
       "      <th>writing score</th>\n",
       "    </tr>\n",
       "  </thead>\n",
       "  <tbody>\n",
       "    <tr>\n",
       "      <td>gender</td>\n",
       "      <td>1.000000</td>\n",
       "      <td>-0.043934</td>\n",
       "      <td>0.021372</td>\n",
       "      <td>0.006028</td>\n",
       "      <td>0.167982</td>\n",
       "      <td>-0.244313</td>\n",
       "      <td>-0.301225</td>\n",
       "    </tr>\n",
       "    <tr>\n",
       "      <td>parental level of education</td>\n",
       "      <td>-0.043934</td>\n",
       "      <td>1.000000</td>\n",
       "      <td>-0.023259</td>\n",
       "      <td>-0.007143</td>\n",
       "      <td>0.159432</td>\n",
       "      <td>0.190908</td>\n",
       "      <td>0.236715</td>\n",
       "    </tr>\n",
       "    <tr>\n",
       "      <td>lunch</td>\n",
       "      <td>0.021372</td>\n",
       "      <td>-0.023259</td>\n",
       "      <td>1.000000</td>\n",
       "      <td>-0.017044</td>\n",
       "      <td>0.350877</td>\n",
       "      <td>0.229560</td>\n",
       "      <td>0.245769</td>\n",
       "    </tr>\n",
       "    <tr>\n",
       "      <td>test preparation course</td>\n",
       "      <td>0.006028</td>\n",
       "      <td>-0.007143</td>\n",
       "      <td>-0.017044</td>\n",
       "      <td>1.000000</td>\n",
       "      <td>0.177702</td>\n",
       "      <td>0.241780</td>\n",
       "      <td>0.312946</td>\n",
       "    </tr>\n",
       "    <tr>\n",
       "      <td>math score</td>\n",
       "      <td>0.167982</td>\n",
       "      <td>0.159432</td>\n",
       "      <td>0.350877</td>\n",
       "      <td>0.177702</td>\n",
       "      <td>1.000000</td>\n",
       "      <td>0.817580</td>\n",
       "      <td>0.802642</td>\n",
       "    </tr>\n",
       "    <tr>\n",
       "      <td>reading score</td>\n",
       "      <td>-0.244313</td>\n",
       "      <td>0.190908</td>\n",
       "      <td>0.229560</td>\n",
       "      <td>0.241780</td>\n",
       "      <td>0.817580</td>\n",
       "      <td>1.000000</td>\n",
       "      <td>0.954598</td>\n",
       "    </tr>\n",
       "    <tr>\n",
       "      <td>writing score</td>\n",
       "      <td>-0.301225</td>\n",
       "      <td>0.236715</td>\n",
       "      <td>0.245769</td>\n",
       "      <td>0.312946</td>\n",
       "      <td>0.802642</td>\n",
       "      <td>0.954598</td>\n",
       "      <td>1.000000</td>\n",
       "    </tr>\n",
       "  </tbody>\n",
       "</table>\n",
       "</div>"
      ],
      "text/plain": [
       "                               gender  parental level of education     lunch  \\\n",
       "gender                       1.000000                    -0.043934  0.021372   \n",
       "parental level of education -0.043934                     1.000000 -0.023259   \n",
       "lunch                        0.021372                    -0.023259  1.000000   \n",
       "test preparation course      0.006028                    -0.007143 -0.017044   \n",
       "math score                   0.167982                     0.159432  0.350877   \n",
       "reading score               -0.244313                     0.190908  0.229560   \n",
       "writing score               -0.301225                     0.236715  0.245769   \n",
       "\n",
       "                             test preparation course  math score  \\\n",
       "gender                                      0.006028    0.167982   \n",
       "parental level of education                -0.007143    0.159432   \n",
       "lunch                                      -0.017044    0.350877   \n",
       "test preparation course                     1.000000    0.177702   \n",
       "math score                                  0.177702    1.000000   \n",
       "reading score                               0.241780    0.817580   \n",
       "writing score                               0.312946    0.802642   \n",
       "\n",
       "                             reading score  writing score  \n",
       "gender                           -0.244313      -0.301225  \n",
       "parental level of education       0.190908       0.236715  \n",
       "lunch                             0.229560       0.245769  \n",
       "test preparation course           0.241780       0.312946  \n",
       "math score                        0.817580       0.802642  \n",
       "reading score                     1.000000       0.954598  \n",
       "writing score                     0.954598       1.000000  "
      ]
     },
     "execution_count": 490,
     "metadata": {},
     "output_type": "execute_result"
    }
   ],
   "source": [
    "mergedData.corr()"
   ]
  },
  {
   "cell_type": "markdown",
   "metadata": {},
   "source": [
    "Korelasyon sonuçlarından \"hazırlık kursu\" okumanın başarıyı yaklaşık %20 - %30 olarak arttırıldığı görülüyor; bilhassa..\n",
    "okul öncesi eğitim almanın yâ dâ hâzırlık kursu almanın 'yazma' dersine etkisi daha fazla, beklenildiği gibi...\n",
    "\n",
    "Daha yakından bakmak için öğrencileri ebeveynlerinin eğitim seviyesine göre gruplandıralım."
   ]
  },
  {
   "cell_type": "code",
   "execution_count": 491,
   "metadata": {},
   "outputs": [],
   "source": [
    "master = [i for i in range(0,7)]\n",
    "for i in range(1,7):\n",
    "    master[i] = mergedData.loc[mergedData.loc[:,\"parental level of education\"] == i]"
   ]
  },
  {
   "cell_type": "markdown",
   "metadata": {},
   "source": [
    "Ebeveynlerin eğitim seviyelerine göre frekanslara bakalım:"
   ]
  },
  {
   "cell_type": "code",
   "execution_count": 492,
   "metadata": {},
   "outputs": [
    {
     "data": {
      "text/html": [
       "<div>\n",
       "<style scoped>\n",
       "    .dataframe tbody tr th:only-of-type {\n",
       "        vertical-align: middle;\n",
       "    }\n",
       "\n",
       "    .dataframe tbody tr th {\n",
       "        vertical-align: top;\n",
       "    }\n",
       "\n",
       "    .dataframe thead th {\n",
       "        text-align: right;\n",
       "    }\n",
       "</style>\n",
       "<table border=\"1\" class=\"dataframe\">\n",
       "  <thead>\n",
       "    <tr style=\"text-align: right;\">\n",
       "      <th></th>\n",
       "      <th>Velisi olunan toplam öğrenci sayısı</th>\n",
       "    </tr>\n",
       "  </thead>\n",
       "  <tbody>\n",
       "    <tr>\n",
       "      <td>yüksek lisans</td>\n",
       "      <td>59</td>\n",
       "    </tr>\n",
       "    <tr>\n",
       "      <td>lisans</td>\n",
       "      <td>118</td>\n",
       "    </tr>\n",
       "    <tr>\n",
       "      <td>önlisans</td>\n",
       "      <td>222</td>\n",
       "    </tr>\n",
       "    <tr>\n",
       "      <td>üniversite terk</td>\n",
       "      <td>226</td>\n",
       "    </tr>\n",
       "    <tr>\n",
       "      <td>lise</td>\n",
       "      <td>196</td>\n",
       "    </tr>\n",
       "    <tr>\n",
       "      <td>lise terk</td>\n",
       "      <td>179</td>\n",
       "    </tr>\n",
       "  </tbody>\n",
       "</table>\n",
       "</div>"
      ],
      "text/plain": [
       "                 Velisi olunan toplam öğrenci sayısı\n",
       "yüksek lisans                                     59\n",
       "lisans                                           118\n",
       "önlisans                                         222\n",
       "üniversite terk                                  226\n",
       "lise                                             196\n",
       "lise terk                                        179"
      ]
     },
     "execution_count": 492,
     "metadata": {},
     "output_type": "execute_result"
    }
   ],
   "source": [
    "indexes = [\"yüksek lisans\", \"lisans\", \"önlisans\", \"üniversite terk\", \"lise\", \"lise terk\"]\n",
    "colNames = [\"Velisi olunan toplam öğrenci sayısı\"]\n",
    "col1Data = [i for i in range(0,6)]\n",
    "sayac = 5\n",
    "for i in master[1:]:\n",
    "    col1Data[sayac] = len(i)\n",
    "    sayac -= 1\n",
    "parentFrq = pa.DataFrame(data = col1Data, index = indexes, columns = colNames)\n",
    "parentFrq"
   ]
  },
  {
   "cell_type": "markdown",
   "metadata": {},
   "source": [
    "Şimdi de öğrencilerin notlarını kümeleyelim ve her velî grubunun çocuklarının her ders için başarı seviyelerine bakalım:\n",
    "\n",
    "Küme sayımızı belirlemek için bir işlem yapmaya girişmeyelim ve ülkemizdekine benzer şekilde 5 kümeye (çok zayıf, zayıf, orta, iyi, pekiyi) ayıralım ve bunları da mergedData'ya yeni sütun olarak ekleyelim; ardından frekanslarını hesâplayıp, 'parentFrq' tablosuna eklemeliyiz:\n",
    "0 - 24 : Çok zayıf (too bad mark)\n",
    "25 - 44 : Zayıf (bad mark)\n",
    "45 - 69 : Orta (medium)\n",
    "70 - 84 : İyi (good)\n",
    "85 - 100 : Pekiyi (very good)"
   ]
  },
  {
   "cell_type": "code",
   "execution_count": 493,
   "metadata": {},
   "outputs": [],
   "source": [
    "successLevelityOfMath = [i for i in range(0,len(mergedData))]\n",
    "successLevelityOfReading = [i for i in range(0,len(mergedData))]\n",
    "successLevelityOfWriting = [i for i in range(0,len(mergedData))]\n",
    "\n",
    "mathScoresLevel = mergedData[\"math score\"]\n",
    "readingScoresLevel = mergedData[\"reading score\"]\n",
    "writingScoresLevel = mergedData[\"writing score\"]\n",
    "\n",
    "sayac = 0\n",
    "for i in mathScoresLevel:\n",
    "    if i < 25:\n",
    "        successLevelityOfMath[sayac] = \"too bad mark\"\n",
    "    elif i < 45:\n",
    "        successLevelityOfMath[sayac] = \"bad mark\"\n",
    "    elif i < 70:\n",
    "        successLevelityOfMath[sayac] = \"medium\"\n",
    "    elif i < 85:\n",
    "        successLevelityOfMath[sayac] = \"good\"\n",
    "    elif i <= 100:\n",
    "        successLevelityOfMath[sayac] = \"very good\"\n",
    "    sayac += 1\n",
    "\n",
    "sayac = 0\n",
    "for i in readingScoresLevel:\n",
    "    if i < 25:\n",
    "        successLevelityOfReading[sayac] = \"too bad mark\"\n",
    "    elif i < 45:\n",
    "        successLevelityOfReading[sayac] = \"bad mark\"\n",
    "    elif i < 70:\n",
    "        successLevelityOfReading[sayac] = \"medium\"\n",
    "    elif i < 85:\n",
    "        successLevelityOfReading[sayac] = \"good\"\n",
    "    elif i <= 100:\n",
    "        successLevelityOfReading[sayac] = \"very good\"\n",
    "    sayac += 1\n",
    "\n",
    "sayac = 0\n",
    "for i in writingScoresLevel:\n",
    "    if i < 25:\n",
    "        successLevelityOfWriting[sayac] = \"too bad mark\"\n",
    "    elif i < 45:\n",
    "        successLevelityOfWriting[sayac] = \"bad mark\"\n",
    "    elif i < 70:\n",
    "        successLevelityOfWriting[sayac] = \"medium\"\n",
    "    elif i < 85:\n",
    "        successLevelityOfWriting[sayac] = \"good\"\n",
    "    elif i <= 100:\n",
    "        successLevelityOfWriting[sayac] = \"very good\"\n",
    "    sayac += 1\n",
    "\n",
    "mergedData[\"math success level\"] = successLevelityOfMath\n",
    "mergedData[\"reading success level\"] = successLevelityOfReading\n",
    "mergedData[\"writing success level\"] = successLevelityOfWriting"
   ]
  },
  {
   "cell_type": "code",
   "execution_count": 494,
   "metadata": {},
   "outputs": [],
   "source": [
    "#'Yüksek lisans mezunu velîlerin öğrencilerinin %80'i matematik dersinden çok iyi not alıyor' gibi istatistikler çıkarmalıyım"
   ]
  },
  {
   "cell_type": "code",
   "execution_count": 495,
   "metadata": {},
   "outputs": [],
   "source": [
    "#Her ders için notları 'iyi' ve 'pekiyi' olan öğrencileri 'başarılı' olarak kabûl edelim; bu 'başarı'ya göre sınıflama yapalım:\n",
    "successfulStudentsOnMath = mergedData.loc[mergedData[\"math success level\"] == \"good\"]\n",
    "successfulStudentsOnMath2 = mergedData.loc[mergedData[\"math success level\"] == \"very good\"]\n",
    "successfulStudentsOnMath = pa.concat([successfulStudentsOnMath, successfulStudentsOnMath2], axis = 0)\n",
    "\n",
    "\n",
    "successfulStudentsOnReading = mergedData.loc[mergedData[\"reading success level\"] == \"good\"]\n",
    "successfulStudentsOnReading2 = mergedData.loc[mergedData[\"reading success level\"] == \"very good\"]\n",
    "successfulStudentsOnReading = pa.concat([successfulStudentsOnReading, successfulStudentsOnReading2], axis = 0)\n",
    "\n",
    "\n",
    "successfulStudentsOnWriting = mergedData.loc[mergedData[\"writing success level\"] == \"good\"]\n",
    "successfulStudentsOnWriting2 = mergedData.loc[mergedData[\"writing success level\"] == \"very good\"]\n",
    "successfulStudentsOnWriting = pa.concat([successfulStudentsOnWriting, successfulStudentsOnWriting2], axis = 0)\n"
   ]
  },
  {
   "cell_type": "code",
   "execution_count": 496,
   "metadata": {
    "scrolled": true
   },
   "outputs": [
    {
     "data": {
      "text/html": [
       "<div>\n",
       "<style scoped>\n",
       "    .dataframe tbody tr th:only-of-type {\n",
       "        vertical-align: middle;\n",
       "    }\n",
       "\n",
       "    .dataframe tbody tr th {\n",
       "        vertical-align: top;\n",
       "    }\n",
       "\n",
       "    .dataframe thead th {\n",
       "        text-align: right;\n",
       "    }\n",
       "</style>\n",
       "<table border=\"1\" class=\"dataframe\">\n",
       "  <thead>\n",
       "    <tr style=\"text-align: right;\">\n",
       "      <th></th>\n",
       "      <th>Velisi olunan toplam öğrenci sayısı</th>\n",
       "      <th>Matematikte başarılı öğrenci sayısı</th>\n",
       "      <th>Okumada başarılı öğrenci sayısı</th>\n",
       "      <th>Yazmada başarılı öğrenci sayısı</th>\n",
       "    </tr>\n",
       "  </thead>\n",
       "  <tbody>\n",
       "    <tr>\n",
       "      <td>yüksek lisans</td>\n",
       "      <td>59</td>\n",
       "      <td>33</td>\n",
       "      <td>38</td>\n",
       "      <td>39</td>\n",
       "    </tr>\n",
       "    <tr>\n",
       "      <td>lisans</td>\n",
       "      <td>118</td>\n",
       "      <td>56</td>\n",
       "      <td>72</td>\n",
       "      <td>74</td>\n",
       "    </tr>\n",
       "    <tr>\n",
       "      <td>önlisans</td>\n",
       "      <td>222</td>\n",
       "      <td>98</td>\n",
       "      <td>126</td>\n",
       "      <td>118</td>\n",
       "    </tr>\n",
       "    <tr>\n",
       "      <td>üniversite terk</td>\n",
       "      <td>226</td>\n",
       "      <td>93</td>\n",
       "      <td>118</td>\n",
       "      <td>118</td>\n",
       "    </tr>\n",
       "    <tr>\n",
       "      <td>lise</td>\n",
       "      <td>196</td>\n",
       "      <td>63</td>\n",
       "      <td>79</td>\n",
       "      <td>65</td>\n",
       "    </tr>\n",
       "    <tr>\n",
       "      <td>lise terk</td>\n",
       "      <td>179</td>\n",
       "      <td>66</td>\n",
       "      <td>80</td>\n",
       "      <td>75</td>\n",
       "    </tr>\n",
       "  </tbody>\n",
       "</table>\n",
       "</div>"
      ],
      "text/plain": [
       "                 Velisi olunan toplam öğrenci sayısı  \\\n",
       "yüksek lisans                                     59   \n",
       "lisans                                           118   \n",
       "önlisans                                         222   \n",
       "üniversite terk                                  226   \n",
       "lise                                             196   \n",
       "lise terk                                        179   \n",
       "\n",
       "                 Matematikte başarılı öğrenci sayısı  \\\n",
       "yüksek lisans                                     33   \n",
       "lisans                                            56   \n",
       "önlisans                                          98   \n",
       "üniversite terk                                   93   \n",
       "lise                                              63   \n",
       "lise terk                                         66   \n",
       "\n",
       "                 Okumada başarılı öğrenci sayısı  \\\n",
       "yüksek lisans                                 38   \n",
       "lisans                                        72   \n",
       "önlisans                                     126   \n",
       "üniversite terk                              118   \n",
       "lise                                          79   \n",
       "lise terk                                     80   \n",
       "\n",
       "                 Yazmada başarılı öğrenci sayısı  \n",
       "yüksek lisans                                 39  \n",
       "lisans                                        74  \n",
       "önlisans                                     118  \n",
       "üniversite terk                              118  \n",
       "lise                                          65  \n",
       "lise terk                                     75  "
      ]
     },
     "execution_count": 496,
     "metadata": {},
     "output_type": "execute_result"
    }
   ],
   "source": [
    "#Başarılı öğrencileri velîlerinin eğitim seviyesine göre sınıflandıralım ve bunu velî sınıflandırma tablosuna sütun olarak..\n",
    "#.. ekleyelim:\n",
    "classifiedMath = successfulStudentsOnMath.groupby(\"parental level of education\").count().reset_index()\n",
    "classifiedReading = successfulStudentsOnReading.groupby(\"parental level of education\").count().reset_index()\n",
    "classifiedWriting = successfulStudentsOnWriting.groupby(\"parental level of education\").count().reset_index()\n",
    "\n",
    "mathSuccessCount = [i for i in range(0,6)]\n",
    "readingSuccessCount = [i for i in range(0,6)]\n",
    "writingSuccessCount = [i for i in range(0,6)]\n",
    "\n",
    "for i in range(0,6):\n",
    "    mathSuccessCount[5 - i] = classifiedMath.loc[i][\"math score\"]\n",
    "    readingSuccessCount[5 - i] = classifiedReading.loc[i][\"math score\"]\n",
    "    writingSuccessCount[5 - i] = classifiedWriting.loc[i][\"math score\"]\n",
    "\n",
    "#Tabloya ekleyelim:\n",
    "parentFrq[\"Matematikte başarılı öğrenci sayısı\"] = mathSuccessCount\n",
    "parentFrq[\"Okumada başarılı öğrenci sayısı\"] = readingSuccessCount\n",
    "parentFrq[\"Yazmada başarılı öğrenci sayısı\"] = writingSuccessCount\n",
    "parentFrq"
   ]
  },
  {
   "cell_type": "code",
   "execution_count": 497,
   "metadata": {},
   "outputs": [
    {
     "data": {
      "text/html": [
       "<div>\n",
       "<style scoped>\n",
       "    .dataframe tbody tr th:only-of-type {\n",
       "        vertical-align: middle;\n",
       "    }\n",
       "\n",
       "    .dataframe tbody tr th {\n",
       "        vertical-align: top;\n",
       "    }\n",
       "\n",
       "    .dataframe thead th {\n",
       "        text-align: right;\n",
       "    }\n",
       "</style>\n",
       "<table border=\"1\" class=\"dataframe\">\n",
       "  <thead>\n",
       "    <tr style=\"text-align: right;\">\n",
       "      <th></th>\n",
       "      <th>Velisi olunan toplam öğrenci sayısı</th>\n",
       "      <th>Matematikte başarılı öğrenci sayısı</th>\n",
       "      <th>Okumada başarılı öğrenci sayısı</th>\n",
       "      <th>Yazmada başarılı öğrenci sayısı</th>\n",
       "      <th>Ortalama matematik başarısı</th>\n",
       "      <th>Ortalama okuma başarısı</th>\n",
       "      <th>Ortalama yazma başarısı</th>\n",
       "    </tr>\n",
       "  </thead>\n",
       "  <tbody>\n",
       "    <tr>\n",
       "      <td>yüksek lisans</td>\n",
       "      <td>59</td>\n",
       "      <td>33</td>\n",
       "      <td>38</td>\n",
       "      <td>39</td>\n",
       "      <td>55.93</td>\n",
       "      <td>64.41</td>\n",
       "      <td>66.10</td>\n",
       "    </tr>\n",
       "    <tr>\n",
       "      <td>lisans</td>\n",
       "      <td>118</td>\n",
       "      <td>56</td>\n",
       "      <td>72</td>\n",
       "      <td>74</td>\n",
       "      <td>47.46</td>\n",
       "      <td>61.02</td>\n",
       "      <td>62.71</td>\n",
       "    </tr>\n",
       "    <tr>\n",
       "      <td>önlisans</td>\n",
       "      <td>222</td>\n",
       "      <td>98</td>\n",
       "      <td>126</td>\n",
       "      <td>118</td>\n",
       "      <td>44.14</td>\n",
       "      <td>56.76</td>\n",
       "      <td>53.15</td>\n",
       "    </tr>\n",
       "    <tr>\n",
       "      <td>üniversite terk</td>\n",
       "      <td>226</td>\n",
       "      <td>93</td>\n",
       "      <td>118</td>\n",
       "      <td>118</td>\n",
       "      <td>41.15</td>\n",
       "      <td>52.21</td>\n",
       "      <td>52.21</td>\n",
       "    </tr>\n",
       "    <tr>\n",
       "      <td>lise</td>\n",
       "      <td>196</td>\n",
       "      <td>63</td>\n",
       "      <td>79</td>\n",
       "      <td>65</td>\n",
       "      <td>32.14</td>\n",
       "      <td>40.31</td>\n",
       "      <td>33.16</td>\n",
       "    </tr>\n",
       "    <tr>\n",
       "      <td>lise terk</td>\n",
       "      <td>179</td>\n",
       "      <td>66</td>\n",
       "      <td>80</td>\n",
       "      <td>75</td>\n",
       "      <td>36.87</td>\n",
       "      <td>44.69</td>\n",
       "      <td>41.90</td>\n",
       "    </tr>\n",
       "  </tbody>\n",
       "</table>\n",
       "</div>"
      ],
      "text/plain": [
       "                 Velisi olunan toplam öğrenci sayısı  \\\n",
       "yüksek lisans                                     59   \n",
       "lisans                                           118   \n",
       "önlisans                                         222   \n",
       "üniversite terk                                  226   \n",
       "lise                                             196   \n",
       "lise terk                                        179   \n",
       "\n",
       "                 Matematikte başarılı öğrenci sayısı  \\\n",
       "yüksek lisans                                     33   \n",
       "lisans                                            56   \n",
       "önlisans                                          98   \n",
       "üniversite terk                                   93   \n",
       "lise                                              63   \n",
       "lise terk                                         66   \n",
       "\n",
       "                 Okumada başarılı öğrenci sayısı  \\\n",
       "yüksek lisans                                 38   \n",
       "lisans                                        72   \n",
       "önlisans                                     126   \n",
       "üniversite terk                              118   \n",
       "lise                                          79   \n",
       "lise terk                                     80   \n",
       "\n",
       "                 Yazmada başarılı öğrenci sayısı  Ortalama matematik başarısı  \\\n",
       "yüksek lisans                                 39                        55.93   \n",
       "lisans                                        74                        47.46   \n",
       "önlisans                                     118                        44.14   \n",
       "üniversite terk                              118                        41.15   \n",
       "lise                                          65                        32.14   \n",
       "lise terk                                     75                        36.87   \n",
       "\n",
       "                 Ortalama okuma başarısı  Ortalama yazma başarısı  \n",
       "yüksek lisans                      64.41                    66.10  \n",
       "lisans                             61.02                    62.71  \n",
       "önlisans                           56.76                    53.15  \n",
       "üniversite terk                    52.21                    52.21  \n",
       "lise                               40.31                    33.16  \n",
       "lise terk                          44.69                    41.90  "
      ]
     },
     "execution_count": 497,
     "metadata": {},
     "output_type": "execute_result"
    }
   ],
   "source": [
    "#Toplam öğrenci sayısına göre oranlanırsa;:.\n",
    "totalStudents = parentFrq[\"Velisi olunan toplam öğrenci sayısı\"]\n",
    "mathSuccessAsPerParentEducation = [i for i in range(0,6)]\n",
    "readingSuccessAsPerParentEducation = [i for i in range(0,6)]\n",
    "writingSuccessAsPerParentEducation = [i for i in range(0,6)]\n",
    "for i in range(0,6):\n",
    "    mathSuccessAsPerParentEducation[i] = mathSuccessCount[i] / totalStudents[i]\n",
    "    readingSuccessAsPerParentEducation[i] = readingSuccessCount[i] / totalStudents[i]\n",
    "    writingSuccessAsPerParentEducation[i] = writingSuccessCount[i] / totalStudents[i]\n",
    "mathSuccessAsPerParentEducation[0]\n",
    "\n",
    "#Yüzdeye çevirelim:\n",
    "func = lambda x: round((x * 100),2)\n",
    "mathSuccessAsPerParentEducation = [func(i) for i in mathSuccessAsPerParentEducation]\n",
    "readingSuccessAsPerParentEducation = [func(i) for i in readingSuccessAsPerParentEducation]\n",
    "writingSuccessAsPerParentEducation = [func(i) for i in writingSuccessAsPerParentEducation]\n",
    "#Bunu da sütun olarak ekleyelim:\n",
    "parentFrq[\"Ortalama matematik başarısı\"] = mathSuccessAsPerParentEducation\n",
    "parentFrq[\"Ortalama okuma başarısı\"] = readingSuccessAsPerParentEducation\n",
    "parentFrq[\"Ortalama yazma başarısı\"] = writingSuccessAsPerParentEducation\n",
    "parentFrq"
   ]
  },
  {
   "cell_type": "code",
   "execution_count": 1098,
   "metadata": {},
   "outputs": [
    {
     "data": {
      "image/png": "[encoded data removed]",
      "text/plain": [
       "<Figure size 864x504 with 1 Axes>"
      ]
     },
     "metadata": {
      "needs_background": "light"
     },
     "output_type": "display_data"
    }
   ],
   "source": [
    "#Grafik üzerinde bakmalıyım:\n",
    "py.figure(figsize=(12,7))\n",
    "py.plot(parentFrq.index, parentFrq[\"Ortalama matematik başarısı\"], \"--g\", label = \"Matematik\")\n",
    "py.plot(parentFrq.index, parentFrq[\"Ortalama okuma başarısı\"], \"--b\", label = \"Okuma\")\n",
    "py.plot(parentFrq.index, parentFrq[\"Ortalama yazma başarısı\"], \"--r\", label = \"Yazma\")\n",
    "py.title(\"Ebeveyn eğitim seviyesine göre öğrencilerin başarı ortalamaları\")\n",
    "py.legend()\n",
    "py.savefig(\"Ebeveyn eğitim seviyesine göre öğrencilerin başarıları\", dpi = 220)"
   ]
  },
  {
   "cell_type": "code",
   "execution_count": 499,
   "metadata": {
    "scrolled": true
   },
   "outputs": [],
   "source": [
    "#Görüldüğü üzere ebeveynlerin eğitim seviyesine göre öğrencilerin başarılarına baktığımızda ebeveyn eğitim seviyesinin öğrenci..\n",
    "#.. başarısı üzerinde müsbet bir etkisi var. Onun dışında eğitim seviyesinin her ders için başarıyı birbirlerine yakın oranda..\n",
    "#.. etkilediği görülüyor.\n",
    "#Öğrencilerin en başarısız olduğu dersin matematik olduğu görülüyor."
   ]
  },
  {
   "cell_type": "markdown",
   "metadata": {},
   "source": [
    "Şimdi de öğle yemeği yemenin dersler üzerindeki etkisini ve hangi dersi daha çok etkilediğini araştıralım:"
   ]
  },
  {
   "cell_type": "code",
   "execution_count": 500,
   "metadata": {},
   "outputs": [
    {
     "name": "stdout",
     "output_type": "stream",
     "text": [
      "Standart menü yemek yiyen öğrenci sayısı : 645\n",
      "Ücretsiz / indirimli menü yemek yiyen öğrenci sayısı : 355\n"
     ]
    },
    {
     "data": {
      "text/html": [
       "<div>\n",
       "<style scoped>\n",
       "    .dataframe tbody tr th:only-of-type {\n",
       "        vertical-align: middle;\n",
       "    }\n",
       "\n",
       "    .dataframe tbody tr th {\n",
       "        vertical-align: top;\n",
       "    }\n",
       "\n",
       "    .dataframe thead th {\n",
       "        text-align: right;\n",
       "    }\n",
       "</style>\n",
       "<table border=\"1\" class=\"dataframe\">\n",
       "  <thead>\n",
       "    <tr style=\"text-align: right;\">\n",
       "      <th></th>\n",
       "      <th>Öğrenci sayısı</th>\n",
       "      <th>Matematik başarı seviyesi</th>\n",
       "      <th>Okuma başarı seviyesi</th>\n",
       "      <th>Yazma başarı seviyesi</th>\n",
       "    </tr>\n",
       "  </thead>\n",
       "  <tbody>\n",
       "    <tr>\n",
       "      <td>Standart</td>\n",
       "      <td>645</td>\n",
       "      <td>49.92</td>\n",
       "      <td>58.29</td>\n",
       "      <td>55.97</td>\n",
       "    </tr>\n",
       "    <tr>\n",
       "      <td>Ücretsiz / indirimli</td>\n",
       "      <td>355</td>\n",
       "      <td>24.51</td>\n",
       "      <td>38.59</td>\n",
       "      <td>36.06</td>\n",
       "    </tr>\n",
       "  </tbody>\n",
       "</table>\n",
       "</div>"
      ],
      "text/plain": [
       "                      Öğrenci sayısı  Matematik başarı seviyesi  \\\n",
       "Standart                         645                      49.92   \n",
       "Ücretsiz / indirimli             355                      24.51   \n",
       "\n",
       "                      Okuma başarı seviyesi  Yazma başarı seviyesi  \n",
       "Standart                              58.29                  55.97  \n",
       "Ücretsiz / indirimli                  38.59                  36.06  "
      ]
     },
     "execution_count": 500,
     "metadata": {},
     "output_type": "execute_result"
    }
   ],
   "source": [
    "standardLunch = mergedData.loc[mergedData[\"lunch\"] == 1]\n",
    "reducedLunch = mergedData.loc[mergedData[\"lunch\"] == 0]\n",
    "\n",
    "print(\"Standart menü yemek yiyen öğrenci sayısı : \" + str(standardLunch.count()[0]))\n",
    "print(\"Ücretsiz / indirimli menü yemek yiyen öğrenci sayısı : \" + str(reducedLunch.count()[0]))\n",
    "\n",
    "#Öğrenci başarısı oranına bakalım:\n",
    "\n",
    "standardLunchSuccessMath = ((len(standardLunch[standardLunch[\"math success level\"] == \"good\"]) + len(standardLunch[standardLunch[\"math success level\"] == \"very good\"]))) / len(standardLunch)\n",
    "reducedLunchSuccessMath = (len(reducedLunch[reducedLunch[\"math success level\"] == \"good\"]) + len(reducedLunch[reducedLunch[\"math success level\"] == \"very good\"])) / len(reducedLunch)\n",
    "\n",
    "standardLunchSuccessReading = (len(standardLunch[standardLunch[\"reading success level\"] == \"good\"]) + len(standardLunch[standardLunch[\"reading success level\"] == \"very good\"])) / len(standardLunch)\n",
    "reducedLunchSuccessReading = (len(reducedLunch[reducedLunch[\"reading success level\"] == \"good\"]) + len(reducedLunch[reducedLunch[\"reading success level\"] == \"very good\"])) / len(reducedLunch)\n",
    "\n",
    "standardLunchSuccessWriting = (len(standardLunch[standardLunch[\"writing success level\"] == \"good\"]) + len(standardLunch[standardLunch[\"writing success level\"] == \"very good\"])) / len(standardLunch)\n",
    "reducedLunchSuccessWriting = (len(reducedLunch[reducedLunch[\"writing success level\"] == \"good\"]) + len(reducedLunch[reducedLunch[\"writing success level\"] == \"very good\"])) / len(reducedLunch)\n",
    "\n",
    "\n",
    "standardLunchSuccessMath = func(standardLunchSuccessMath)\n",
    "standardLunchSuccessReading = func(standardLunchSuccessReading)\n",
    "standardLunchSuccessWriting = func(standardLunchSuccessWriting)\n",
    "\n",
    "reducedLunchSuccessMath = func(reducedLunchSuccessMath)\n",
    "reducedLunchSuccessReading = func(reducedLunchSuccessReading)\n",
    "reducedLunchSuccessWriting = func(reducedLunchSuccessWriting)\n",
    "\n",
    "\n",
    "fCols = [\"Öğrenci sayısı\", \"Matematik başarı seviyesi\", \"Okuma başarı seviyesi\", \"Yazma başarı seviyesi\"]\n",
    "lunchFrq = pa.DataFrame(data = [[len(standardLunch), standardLunchSuccessMath, standardLunchSuccessReading, standardLunchSuccessWriting],\n",
    "                                [len(reducedLunch), reducedLunchSuccessMath, reducedLunchSuccessReading, reducedLunchSuccessWriting]],\n",
    "index = [\"Standart\", \"Ücretsiz / indirimli\"], columns = fCols)\n",
    "lunchFrq"
   ]
  },
  {
   "cell_type": "markdown",
   "metadata": {},
   "source": [
    "Görülebileceği üzere standart yemek yiyen öğrenciler, indirimli - ücretsiz yemek yiyen öğrencilerden çok daha başarılı.\n",
    "Öğle yemeği menüsünün öğrencilerin hangi derslerinde daha etkili olabileceğine göz atalım:"
   ]
  },
  {
   "cell_type": "code",
   "execution_count": 501,
   "metadata": {},
   "outputs": [
    {
     "name": "stdout",
     "output_type": "stream",
     "text": [
      "Standart menü yemek yiyen öğrenciler matematik dersinde 2.04 kat daha başarılı\n",
      "Standart menü yemek yiyen öğrenciler okuma dersinde 1.51 kat daha başarılı\n",
      "Standart menü yemek yiyen öğrenciler yazma dersinde 1.55 kat daha başarılı\n",
      "1.35\n",
      "1.32\n",
      "Öğle yemeği menüsünün standart menü olması, matematik dersini diğer derslerden yaklaşık 1.3 kat daha fazla etkiliyor olabilir\n"
     ]
    }
   ],
   "source": [
    "coeffOnMath = (lunchFrq[\"Matematik başarı seviyesi\"][0] / lunchFrq[\"Matematik başarı seviyesi\"][1]).round(2)\n",
    "coeffOnReading = (lunchFrq[\"Okuma başarı seviyesi\"][0] / lunchFrq[\"Okuma başarı seviyesi\"][1]).round(2)\n",
    "coeffOnWriting = (lunchFrq[\"Yazma başarı seviyesi\"][0] / lunchFrq[\"Yazma başarı seviyesi\"][1]).round(2)\n",
    "print(\"Standart menü yemek yiyen öğrenciler matematik dersinde \" + str(coeffOnMath) + \" kat daha başarılı\")\n",
    "print(\"Standart menü yemek yiyen öğrenciler okuma dersinde \" + str(coeffOnReading) + \" kat daha başarılı\")\n",
    "print(\"Standart menü yemek yiyen öğrenciler yazma dersinde \" + str(coeffOnWriting) + \" kat daha başarılı\")\n",
    "\n",
    "print((coeffOnMath / coeffOnReading).round(2))\n",
    "print((coeffOnMath / coeffOnWriting).round(2))\n",
    "print(\"Öğle yemeği menüsünün standart menü olması, matematik dersini diğer derslerden yaklaşık 1.3 kat daha fazla etkiliyor olabilir\")"
   ]
  },
  {
   "cell_type": "markdown",
   "metadata": {},
   "source": [
    "Şimdi ırklara göre öğrenci başarılarına bakmaya çalışalım inşâAllâh:"
   ]
  },
  {
   "cell_type": "code",
   "execution_count": 502,
   "metadata": {},
   "outputs": [
    {
     "name": "stdout",
     "output_type": "stream",
     "text": [
      "5 etnik grup / ırk var\n"
     ]
    },
    {
     "data": {
      "text/html": [
       "<div>\n",
       "<style scoped>\n",
       "    .dataframe tbody tr th:only-of-type {\n",
       "        vertical-align: middle;\n",
       "    }\n",
       "\n",
       "    .dataframe tbody tr th {\n",
       "        vertical-align: top;\n",
       "    }\n",
       "\n",
       "    .dataframe thead th {\n",
       "        text-align: right;\n",
       "    }\n",
       "</style>\n",
       "<table border=\"1\" class=\"dataframe\">\n",
       "  <thead>\n",
       "    <tr style=\"text-align: right;\">\n",
       "      <th></th>\n",
       "      <th>Öğrenci sayısı</th>\n",
       "      <th>Matematik başarı seviyesi</th>\n",
       "      <th>Okuma başarı seviyesi</th>\n",
       "      <th>Yazma başarı seviyesi</th>\n",
       "    </tr>\n",
       "  </thead>\n",
       "  <tbody>\n",
       "    <tr>\n",
       "      <td>group E</td>\n",
       "      <td>140</td>\n",
       "      <td>64.29</td>\n",
       "      <td>63.57</td>\n",
       "      <td>60.71</td>\n",
       "    </tr>\n",
       "    <tr>\n",
       "      <td>group D</td>\n",
       "      <td>262</td>\n",
       "      <td>45.04</td>\n",
       "      <td>54.58</td>\n",
       "      <td>54.58</td>\n",
       "    </tr>\n",
       "    <tr>\n",
       "      <td>group C</td>\n",
       "      <td>319</td>\n",
       "      <td>34.80</td>\n",
       "      <td>51.10</td>\n",
       "      <td>47.65</td>\n",
       "    </tr>\n",
       "    <tr>\n",
       "      <td>group B</td>\n",
       "      <td>190</td>\n",
       "      <td>34.21</td>\n",
       "      <td>44.74</td>\n",
       "      <td>42.63</td>\n",
       "    </tr>\n",
       "    <tr>\n",
       "      <td>group A</td>\n",
       "      <td>89</td>\n",
       "      <td>28.09</td>\n",
       "      <td>37.08</td>\n",
       "      <td>31.46</td>\n",
       "    </tr>\n",
       "  </tbody>\n",
       "</table>\n",
       "</div>"
      ],
      "text/plain": [
       "         Öğrenci sayısı  Matematik başarı seviyesi  Okuma başarı seviyesi  \\\n",
       "group E             140                      64.29                  63.57   \n",
       "group D             262                      45.04                  54.58   \n",
       "group C             319                      34.80                  51.10   \n",
       "group B             190                      34.21                  44.74   \n",
       "group A              89                      28.09                  37.08   \n",
       "\n",
       "         Yazma başarı seviyesi  \n",
       "group E                  60.71  \n",
       "group D                  54.58  \n",
       "group C                  47.65  \n",
       "group B                  42.63  \n",
       "group A                  31.46  "
      ]
     },
     "execution_count": 502,
     "metadata": {},
     "output_type": "execute_result"
    }
   ],
   "source": [
    "ethnicities = mergedData[\"race/ethnicity\"].unique()\n",
    "ethnicNumber = len(ethnicities)\n",
    "dfEthnics = [i for i in range(0, ethnicNumber)]\n",
    "print(str(ethnicNumber) + \" etnik grup / ırk var\")\n",
    "\n",
    "for i in range(0, ethnicNumber):\n",
    "    dfEthnics[i] = mergedData.loc[:][mergedData[\"race/ethnicity\"] == ethnicities[i]]\n",
    "\n",
    "col1Data = [dfEthnics[i].count()[0] for i in range(0, ethnicNumber)]\n",
    "\n",
    "successOnMath = [i for i in range(0, ethnicNumber)]\n",
    "successReading = [i for i in range(0, ethnicNumber)]\n",
    "successWriting = [i for i in range(0, ethnicNumber)]\n",
    "for i in range(0, 5):\n",
    "    success = len(dfEthnics[i][dfEthnics[i][\"math success level\"] == 'good']) + len(dfEthnics[i][dfEthnics[i][\"math success level\"] == 'very good'])\n",
    "    total = len(dfEthnics[i])\n",
    "    successOnMath[i] = round((success / total)*100, 2)\n",
    "    success = len(dfEthnics[i][dfEthnics[i][\"reading success level\"] == 'good']) + len(dfEthnics[i][dfEthnics[i][\"reading success level\"] == 'very good'])\n",
    "    total = len(dfEthnics[i])\n",
    "    successReading[i] = round((success / total)*100, 2) \n",
    "    success = len(dfEthnics[i][dfEthnics[i][\"writing success level\"] == 'good']) + len(dfEthnics[i][dfEthnics[i][\"writing success level\"] == 'very good'])\n",
    "    total = len(dfEthnics[i])\n",
    "    successWriting[i] = round((success / total)*100, 2)\n",
    "\n",
    "col1Data = [dfEthnics[i].count()[0] for i in range(0, ethnicNumber)]\n",
    "frqEthnics = pa.DataFrame(index = ethnicities, data = col1Data, columns=[\"Öğrenci sayısı\"])\n",
    "frqEthnics[\"Matematik başarı seviyesi\"] = successOnMath\n",
    "frqEthnics[\"Okuma başarı seviyesi\"] = successReading\n",
    "frqEthnics[\"Yazma başarı seviyesi\"] = successWriting\n",
    "frqEthnics.sort_values(\"Matematik başarı seviyesi\", ascending = False)"
   ]
  },
  {
   "cell_type": "code",
   "execution_count": 503,
   "metadata": {},
   "outputs": [],
   "source": [
    "#'race/ethnicity' sütununu sayısal veriye çevirmemişiz; onu sayısala çevirmeliyiz\n",
    "#Ebeveynlerin eğitim seviyesi arasındaki ilişki sayısal büyüklük olarak da ifâde edilebileceğinden dolayı..\n",
    "#'parental level of education' sütununu 'tek nokta vektörü' ('One Hot Vector') olarak çevirmedim.\n",
    "# Ama ırk sütununu tek nokta vektörü olarak çevirmeliyiz.\n",
    "# Bunun için sklearn'ün hâzır yöntemini kullanalım:\n",
    "from sklearn.preprocessing import OneHotEncoder\n",
    "\n",
    "col = mergedData.iloc[:, [1]].values\n",
    "\n",
    "ohe = OneHotEncoder()\n",
    "\n",
    "fitTransformValues = ohe.fit_transform(col).toarray()\n",
    "\n",
    "# Bu yöntem grupları sıralandırırken alfabetik düzen kullanıyor; bu, daha sonra tahmîn edilen verinin ilgili sütununun değerini\n",
    "# bilmek için önemli.\n",
    "#OneHotVector sırası:: 'group A', 'group B', 'group C', 'group D', 'group E'"
   ]
  },
  {
   "cell_type": "code",
   "execution_count": 504,
   "metadata": {},
   "outputs": [],
   "source": [
    "# 'race/ethnicity' sütununu kaldırıp, 5 sütundan oluşan fitTransformValues'u eklememiz gerekiyor\n",
    "values = mergedData[\"race/ethnicity\"].sort_values().unique()\n",
    "mergedData.drop(\"race/ethnicity\", axis = 1, inplace = True)\n",
    "sayac = 0\n",
    "ty = pa.DataFrame()\n",
    "for i in values:\n",
    "    mergedData[str(i)] = fitTransformValues[:,sayac].tolist()\n",
    "    sayac += 1"
   ]
  },
  {
   "cell_type": "code",
   "execution_count": 505,
   "metadata": {
    "scrolled": true
   },
   "outputs": [],
   "source": [
    "# Veriler noktalı sayıya çevrilmiş durumda; bunu int'a çevirmeliyiz:\n",
    "typDict = dict()\n",
    "for i in values:\n",
    "    typDict[str(i)] = 'int32'\n",
    "mergedData = mergedData.astype(typDict)"
   ]
  },
  {
   "cell_type": "markdown",
   "metadata": {},
   "source": [
    "Her ırkta düşük not alan da, yüksek not alan da var; lâkin ırklar arasında başarı oranlarında fark var; ayrıca bir ırk matematik dersinde başarılı, diğer ırk okuma dersinde başarılı gibi ders bazında bir üstünlük yok; hemen hepsinde görülen şudur ki, başarılı olan ırk tüm derslerde diğer ırktan daha başarılı"
   ]
  },
  {
   "cell_type": "markdown",
   "metadata": {},
   "source": [
    "### ŞİMDİ SINAVA HÂZIRLIK KURSU ALMANIN BAŞARI ÜZERİNDEKİ ETKİSİNİ ARAŞTIRALIM:"
   ]
  },
  {
   "cell_type": "code",
   "execution_count": 1335,
   "metadata": {},
   "outputs": [
    {
     "data": {
      "text/html": [
       "<div>\n",
       "<style scoped>\n",
       "    .dataframe tbody tr th:only-of-type {\n",
       "        vertical-align: middle;\n",
       "    }\n",
       "\n",
       "    .dataframe tbody tr th {\n",
       "        vertical-align: top;\n",
       "    }\n",
       "\n",
       "    .dataframe thead th {\n",
       "        text-align: right;\n",
       "    }\n",
       "</style>\n",
       "<table border=\"1\" class=\"dataframe\">\n",
       "  <thead>\n",
       "    <tr style=\"text-align: right;\">\n",
       "      <th></th>\n",
       "      <th>Öğrenci sayısı</th>\n",
       "      <th>Matematik başarı seviyesi</th>\n",
       "      <th>Okuma başarı seviyesi</th>\n",
       "      <th>Yazma başarı seviyesi</th>\n",
       "    </tr>\n",
       "  </thead>\n",
       "  <tbody>\n",
       "    <tr>\n",
       "      <td>S.H. kursunu tamâmlayanlar</td>\n",
       "      <td>358</td>\n",
       "      <td>49.16</td>\n",
       "      <td>65.36</td>\n",
       "      <td>66.48</td>\n",
       "    </tr>\n",
       "    <tr>\n",
       "      <td>S.H. kursunu almayanlar</td>\n",
       "      <td>642</td>\n",
       "      <td>36.29</td>\n",
       "      <td>43.46</td>\n",
       "      <td>39.10</td>\n",
       "    </tr>\n",
       "  </tbody>\n",
       "</table>\n",
       "</div>"
      ],
      "text/plain": [
       "                            Öğrenci sayısı  Matematik başarı seviyesi  \\\n",
       "S.H. kursunu tamâmlayanlar             358                      49.16   \n",
       "S.H. kursunu almayanlar                642                      36.29   \n",
       "\n",
       "                            Okuma başarı seviyesi  Yazma başarı seviyesi  \n",
       "S.H. kursunu tamâmlayanlar                  65.36                  66.48  \n",
       "S.H. kursunu almayanlar                     43.46                  39.10  "
      ]
     },
     "execution_count": 1335,
     "metadata": {},
     "output_type": "execute_result"
    }
   ],
   "source": [
    "yes = mergedData.loc[mergedData[\"test preparation course\"] == 1]\n",
    "no = mergedData.loc[mergedData[\"test preparation course\"] == 0]\n",
    "\n",
    "rowNames = [\"S.H. kursunu tamâmlayanlar\", \"S.H. kursunu almayanlar\"]\n",
    "col1Data = [yes.count()[0], no.count()[0]]\n",
    "dfExamCourse = pa.DataFrame(data = col1Data, index = rowNames, columns = [\"Öğrenci sayısı\"])\n",
    "\n",
    "yesCols = [i for i in range(0,3)]\n",
    "noCols = [i for i in range(0,3)]\n",
    "\n",
    "success = len(yes[yes[\"math success level\"] == 'good']) + len(yes[yes[\"math success level\"] == 'very good'])\n",
    "total = len(yes)\n",
    "yesCols[0] = round((success / total)*100, 2)\n",
    "success = len(yes[yes[\"reading success level\"] == 'good']) + len(yes[yes[\"reading success level\"] == 'very good'])\n",
    "total = len(yes)\n",
    "yesCols[1] = round((success / total)*100, 2)\n",
    "success = len(yes[yes[\"writing success level\"] == 'good']) + len(yes[yes[\"writing success level\"] == 'very good'])\n",
    "total = len(yes)\n",
    "yesCols[2] = round((success / total)*100, 2)\n",
    "    \n",
    "    \n",
    "success = len(no[no[\"math success level\"] == 'good']) + len(no[no[\"math success level\"] == 'very good'])\n",
    "total = len(no)\n",
    "noCols[0] = round((success / total)*100, 2)\n",
    "success = len(no[no[\"reading success level\"] == 'good']) + len(no[no[\"reading success level\"] == 'very good'])\n",
    "total = len(no)\n",
    "noCols[1] = round((success / total)*100, 2)\n",
    "success = len(no[no[\"writing success level\"] == 'good']) + len(no[no[\"writing success level\"] == 'very good'])\n",
    "total = len(no)\n",
    "noCols[2] = round((success / total)*100, 2)\n",
    "\n",
    "dfExamCourse[\"Matematik başarı seviyesi\"] = [yesCols[0], noCols[0]]\n",
    "dfExamCourse[\"Okuma başarı seviyesi\"] = [yesCols[1], noCols[1]]\n",
    "dfExamCourse[\"Yazma başarı seviyesi\"] = [yesCols[2], noCols[2]]\n",
    "\n",
    "dfExamCourse"
   ]
  },
  {
   "cell_type": "code",
   "execution_count": 507,
   "metadata": {},
   "outputs": [
    {
     "name": "stdout",
     "output_type": "stream",
     "text": [
      "'Sınava hâzırlık kursu' alanlar, almayanlardan;\n",
      "Matematik dersinde 1.35 kat,\n",
      "Okuma dersinde 1.5 kat,\n",
      "Yazma dersinde 1.7 kat daha başarılı\n"
     ]
    }
   ],
   "source": [
    "coEffOnMath = dfExamCourse[\"Matematik başarı seviyesi\"][0] / dfExamCourse[\"Matematik başarı seviyesi\"][1]\n",
    "coEffOnMath = round(coEffOnMath, 2)\n",
    "\n",
    "coEffOnReading = dfExamCourse[\"Okuma başarı seviyesi\"][0] / dfExamCourse[\"Okuma başarı seviyesi\"][1]\n",
    "coEffOnReading = round(coEffOnReading, 2)\n",
    "\n",
    "coEffOnWriting = dfExamCourse[\"Yazma başarı seviyesi\"][0] / dfExamCourse[\"Yazma başarı seviyesi\"][1]\n",
    "coEffOnWriting = round(coEffOnWriting, 2)\n",
    "print('\\'Sınava hâzırlık kursu\\' alanlar, almayanlardan;\\nMatematik dersinde ' + str(coEffOnMath) + \" kat,\\nOkuma dersinde \" + str(coEffOnReading) + \" kat,\\nYazma dersinde \" + str(coEffOnWriting) + \" kat daha başarılı\")"
   ]
  },
  {
   "cell_type": "code",
   "execution_count": 508,
   "metadata": {},
   "outputs": [
    {
     "data": {
      "text/plain": [
       "63.41"
      ]
     },
     "execution_count": 508,
     "metadata": {},
     "output_type": "execute_result"
    }
   ],
   "source": [
    "lunchCoeff = (yes.loc[yes[\"lunch\"] == 1].count()[0] / yes.count()[0])\n",
    "round(lunchCoeff * 100, 2)"
   ]
  },
  {
   "cell_type": "markdown",
   "metadata": {},
   "source": [
    "'Sınava hâzırlık kursu alanların yaklaşık 63.41'i öğle yemeğinde standart menü yemek yiyor. Sınava hâzırlık kursu alıp, öğle yemeğinde standart menü yemek yiyenlerin başarı oranının sınava hâzırlık kursu almayıp, öğle yemeğinde standart menü yemek yiyenlerin başarı oranına oranının ne olduğu ve aynı şekilde sınava hâzırlık kursu alıp, öğle yemeğinde indirimli menü yemek yiyen öğrencilerin başarı oranının sınava hâzırlık kursu almayıp, öğle yemeğinde indirimli menü yemek yiyen öğrencilerin başarı oranına oranının ne olduğuna bakarak, sınava hâzırlık kursu almanın başarı üzerindeki etkisinin gerçekten bu kadar olup, olmadığını anlamaya çalışabiliriz"
   ]
  },
  {
   "cell_type": "code",
   "execution_count": 509,
   "metadata": {},
   "outputs": [
    {
     "data": {
      "text/plain": [
       "58.15"
      ]
     },
     "execution_count": 509,
     "metadata": {},
     "output_type": "execute_result"
    }
   ],
   "source": [
    "yesStandardSuccessful = yes.loc[yes[\"lunch\"] == 1].loc[yes[\"math success level\"] == 'very good'].count()[0] + yes.loc[yes[\"lunch\"] == 1].loc[yes[\"math success level\"] == 'good'].count()[0]\n",
    "\n",
    "ySSRate = round((yesStandardSuccessful / yes.loc[yes[\"lunch\"] == 1].count()[0])*100,2)\n",
    "ySSRate"
   ]
  },
  {
   "cell_type": "markdown",
   "metadata": {},
   "source": [
    "Sınava hâzırlık kursu alıp, öğle yemeğinde standart menü yemek yiyenlerin matematik başarı oranı = yaklaşık % 58.15"
   ]
  },
  {
   "cell_type": "code",
   "execution_count": 510,
   "metadata": {},
   "outputs": [
    {
     "data": {
      "text/plain": [
       "45.45"
      ]
     },
     "execution_count": 510,
     "metadata": {},
     "output_type": "execute_result"
    }
   ],
   "source": [
    "noStandardSuccessful = no.loc[no[\"lunch\"] == 1].loc[no[\"math success level\"] == 'very good'].count()[0] + no.loc[no[\"lunch\"] == 1].loc[no[\"math success level\"] == 'good'].count()[0]\n",
    "\n",
    "nSSRate = round((noStandardSuccessful / no.loc[no[\"lunch\"] == 1].count()[0])*100,2)\n",
    "nSSRate"
   ]
  },
  {
   "cell_type": "markdown",
   "metadata": {},
   "source": [
    "Sınava hâzırlık kursu almayıp, öğle yemeğinde standart menü yemek yiyenlerin matematik başarı oranı = yaklaşık % 45.15"
   ]
  },
  {
   "cell_type": "markdown",
   "metadata": {},
   "source": [
    "Sınava hâzırlık kursu almak öğle yemeğinde standart menü yemek yiyenlerin matematik başarısını %12.7 daha fazla arttırıyor gibi görünüyor"
   ]
  },
  {
   "cell_type": "markdown",
   "metadata": {},
   "source": [
    "Benzer oran indirimli menü yemek yiyenlerde ne kadar, sorgulayalım:"
   ]
  },
  {
   "cell_type": "code",
   "execution_count": 511,
   "metadata": {},
   "outputs": [
    {
     "name": "stdout",
     "output_type": "stream",
     "text": [
      "Sınava hâzırlık kursu alıp, öğlenleyin indirimli menü yemek yiyenlerin matematik başarı oranı : 33.59\n",
      "Sınava hâzırlık kursu almayıp, öğlenleyin indirimli menü yemek yiyenlerin matematik başarı oranı : 19.2\n"
     ]
    }
   ],
   "source": [
    "yesReducedSuccessful = yes.loc[yes[\"lunch\"] == 0].loc[yes[\"math success level\"] == 'very good'].count()[0] + yes.loc[yes[\"lunch\"] == 0].loc[yes[\"math success level\"] == 'good'].count()[0]\n",
    "\n",
    "yRSRate = round((yesReducedSuccessful / yes.loc[yes[\"lunch\"] == 0].count()[0])*100,2)\n",
    "\n",
    "\n",
    "noReducedSuccessful = no.loc[no[\"lunch\"] == 0].loc[no[\"math success level\"] == 'very good'].count()[0] + no.loc[no[\"lunch\"] == 0].loc[no[\"math success level\"] == 'good'].count()[0]\n",
    "\n",
    "nRSRate = round((noReducedSuccessful / no.loc[no[\"lunch\"] == 0].count()[0])*100,2)\n",
    "\n",
    "print(\"Sınava hâzırlık kursu alıp, öğlenleyin indirimli menü yemek yiyenlerin matematik başarı oranı : \" + str(yRSRate))\n",
    "print(\"Sınava hâzırlık kursu almayıp, öğlenleyin indirimli menü yemek yiyenlerin matematik başarı oranı : \" + str(nRSRate))"
   ]
  },
  {
   "cell_type": "markdown",
   "metadata": {},
   "source": [
    "Sınava hâzırlık kursu almak, öğlen yemeğinde indirimli menü yemek yiyenlerde matematik başarısını yaklaşık 14.4 arttırıyor, gibi görünüyor"
   ]
  },
  {
   "cell_type": "markdown",
   "metadata": {},
   "source": [
    "Bu durumda, sınava hâzırlık kursu almanın, öğle yemeği türünden bağımsız olarak matematik başarısını %12.7 civârında arttırıyor olabilir"
   ]
  },
  {
   "cell_type": "markdown",
   "metadata": {},
   "source": [
    "Son olarak eksik kalmaması için erkek ve kız öğrencilerin ders bazındaki başarı seviyelerine göz atalım; aslında bunu daha önce yapmalıydım. Ardından öğle yemeği yemenin ve hâzırlık kursu almanın hangi cinsiyyetteki öğrenilerde daha fazla müsbet / menfî etkisi olduğunu soruşturalım"
   ]
  },
  {
   "cell_type": "code",
   "execution_count": 512,
   "metadata": {},
   "outputs": [
    {
     "data": {
      "text/html": [
       "<div>\n",
       "<style scoped>\n",
       "    .dataframe tbody tr th:only-of-type {\n",
       "        vertical-align: middle;\n",
       "    }\n",
       "\n",
       "    .dataframe tbody tr th {\n",
       "        vertical-align: top;\n",
       "    }\n",
       "\n",
       "    .dataframe thead th {\n",
       "        text-align: right;\n",
       "    }\n",
       "</style>\n",
       "<table border=\"1\" class=\"dataframe\">\n",
       "  <thead>\n",
       "    <tr style=\"text-align: right;\">\n",
       "      <th></th>\n",
       "      <th>Öğrenci sayısı</th>\n",
       "      <th>Matematik başarı oranı</th>\n",
       "      <th>Okuma başarı oranı</th>\n",
       "      <th>Yazma başarı oranı</th>\n",
       "      <th>Sınava hâzırlık kursu alma oranı</th>\n",
       "    </tr>\n",
       "  </thead>\n",
       "  <tbody>\n",
       "    <tr>\n",
       "      <td>Erkek</td>\n",
       "      <td>482</td>\n",
       "      <td>47.93</td>\n",
       "      <td>40.46</td>\n",
       "      <td>34.02</td>\n",
       "      <td>36.10</td>\n",
       "    </tr>\n",
       "    <tr>\n",
       "      <td>Kız</td>\n",
       "      <td>518</td>\n",
       "      <td>34.36</td>\n",
       "      <td>61.39</td>\n",
       "      <td>62.74</td>\n",
       "      <td>35.52</td>\n",
       "    </tr>\n",
       "  </tbody>\n",
       "</table>\n",
       "</div>"
      ],
      "text/plain": [
       "       Öğrenci sayısı  Matematik başarı oranı  Okuma başarı oranı  \\\n",
       "Erkek             482                   47.93               40.46   \n",
       "Kız               518                   34.36               61.39   \n",
       "\n",
       "       Yazma başarı oranı  Sınava hâzırlık kursu alma oranı  \n",
       "Erkek               34.02                             36.10  \n",
       "Kız                 62.74                             35.52  "
      ]
     },
     "execution_count": 512,
     "metadata": {},
     "output_type": "execute_result"
    }
   ],
   "source": [
    "maleStudents = mergedData.loc[mergedData[\"gender\"] == 1]\n",
    "femaleStudents = mergedData.loc[mergedData[\"gender\"] == 0]\n",
    "\n",
    "numberMales = maleStudents.count()[0]\n",
    "numberFemales = femaleStudents.count()[0]\n",
    "\n",
    "m1 = maleStudents.loc[maleStudents[\"math success level\"] == 'good']\n",
    "mSuccessOnMath = pa.concat([maleStudents.loc[maleStudents[\"math success level\"] == 'very good'], m1], axis = 0)\n",
    "\n",
    "m1 = maleStudents.loc[maleStudents[\"reading success level\"] == 'good']\n",
    "mSuccessOnReading = pa.concat([maleStudents.loc[maleStudents[\"reading success level\"] == 'very good'], m1], axis = 0)\n",
    "\n",
    "m1 = maleStudents.loc[maleStudents[\"writing success level\"] == 'good']\n",
    "mSuccessOnWriting = pa.concat([maleStudents.loc[maleStudents[\"writing success level\"] == 'very good'], m1], axis = 0)\n",
    "\n",
    "#-----------------\n",
    "\n",
    "fm1 = femaleStudents.loc[femaleStudents[\"math success level\"] == 'good']\n",
    "fmSuccessOnMath = pa.concat([femaleStudents.loc[femaleStudents[\"math success level\"] == 'very good'], fm1], axis = 0)\n",
    "\n",
    "fm1 = femaleStudents.loc[femaleStudents[\"reading success level\"] == 'good']\n",
    "fmSuccessOnReading = pa.concat([femaleStudents.loc[femaleStudents[\"reading success level\"] == 'very good'], fm1], axis = 0)\n",
    "\n",
    "fm1 = femaleStudents.loc[femaleStudents[\"writing success level\"] == 'good']\n",
    "fmSuccessOnWriting = pa.concat([femaleStudents.loc[femaleStudents[\"writing success level\"] == 'very good'], fm1], axis = 0)\n",
    "\n",
    "\n",
    "col1Data = [numberMales, numberFemales]\n",
    "dfGender = pa.DataFrame(index = [\"Erkek\", 'Kız'], data = col1Data, columns = [\"Öğrenci sayısı\"])\n",
    "maleSucMathRate = round((mSuccessOnMath.count()[0] / numberMales) * 100, 2)\n",
    "maleSucReadingRate = round((mSuccessOnReading.count()[0] / numberMales) * 100, 2)\n",
    "maleSucWritingRate = round((mSuccessOnWriting.count()[0] / numberMales) * 100, 2)\n",
    "\n",
    "femaleSucMathRate = round((fmSuccessOnMath.count()[0] / numberFemales) * 100, 2)\n",
    "femaleSucReadingRate = round((fmSuccessOnReading.count()[0] / numberFemales) * 100, 2)\n",
    "femaleSucWritingRate = round((fmSuccessOnWriting.count()[0] / numberFemales) * 100, 2)\n",
    "col2Data = [maleSucMathRate, femaleSucMathRate]\n",
    "col3Data = [maleSucReadingRate, femaleSucReadingRate]\n",
    "col4Data = [maleSucWritingRate, femaleSucWritingRate]\n",
    "\n",
    "dfGender[\"Matematik başarı oranı\"] = col2Data\n",
    "dfGender[\"Okuma başarı oranı\"] = col3Data\n",
    "dfGender[\"Yazma başarı oranı\"] = col4Data\n",
    "\n",
    "\n",
    "maleTakedCourseRate = round((maleStudents.loc[maleStudents[\"test preparation course\"] == 1].count()[0] / len(maleStudents))* 100, 2)\n",
    "femaleTakedCourseRate = round((femaleStudents.loc[femaleStudents[\"test preparation course\"] == 1].count()[0] / len(femaleStudents))* 100, 2)\n",
    "col5Data = [maleTakedCourseRate, femaleTakedCourseRate]\n",
    "dfGender[\"Sınava hâzırlık kursu alma oranı\"] = col5Data\n",
    "\n",
    "dfGender"
   ]
  },
  {
   "cell_type": "markdown",
   "metadata": {},
   "source": [
    "Kızlar erkeklere kıyasla matematik dersinde daha başarısız;\n",
    "Erkekler kızlara göre okuma ve yazma derslerinde daha başarısız\n",
    "Sınava hâzırlık kursu alma oranı erkek ve kız öğrenciler arasında neredeyse aynı"
   ]
  },
  {
   "cell_type": "markdown",
   "metadata": {},
   "source": [
    "Öğle yemeğinde standart menü yemek yiyenlerin daha başarılı olduğunu keşfetmiştik; şimdi, bu oranın kız ve erkek öğrenciler arasında fark edip, etmediğine bakalım"
   ]
  },
  {
   "cell_type": "code",
   "execution_count": 513,
   "metadata": {},
   "outputs": [
    {
     "name": "stdout",
     "output_type": "stream",
     "text": [
      "Öğle yemeğinde standart menü yemek yiyen erkek öğrenciler matematik dersinde, indirimli menü yemek yiyen erkek öğrencilere göre yaklaşık % 27.16  daha fazla başarılı\n",
      "Benzer şekilde standart menü yemek yemek kız öğrenciler matematik dersinde, indirimli menü yemek yiyen kız öğrencilerden yaklaşık % 23.28  daha fazla başarılı\n"
     ]
    }
   ],
   "source": [
    "mS = maleStudents.loc[maleStudents[\"lunch\"] == 1]\n",
    "fmS = femaleStudents.loc[femaleStudents[\"lunch\"] == 1]\n",
    "\n",
    "mR = maleStudents.loc[maleStudents[\"lunch\"] == 0]\n",
    "fmR = femaleStudents.loc[femaleStudents[\"lunch\"] == 0]\n",
    "\n",
    "n1 = mS.loc[maleStudents[\"math success level\"] == 'good'].count()[0]\n",
    "n1 += mS.loc[maleStudents[\"math success level\"] == 'very good'].count()[0]\n",
    "n1Rate = round ((n1 / len(mS))*100,2)\n",
    "\n",
    "n2 = fmS.loc[femaleStudents[\"math success level\"] == 'good'].count()[0]\n",
    "n2 += fmS.loc[femaleStudents[\"math success level\"] == 'very good'].count()[0]\n",
    "n2Rate = round ((n2 / len(fmS))*100,2)\n",
    "n2Rate\n",
    "\n",
    "#----------------İndirimli menü yemek yiyenler için:\n",
    "nn1 = mR.loc[maleStudents[\"math success level\"] == 'good'].count()[0]\n",
    "nn1 += mR.loc[maleStudents[\"math success level\"] == 'very good'].count()[0]\n",
    "nn1Rate = round ((nn1 / len(mR))*100,2)\n",
    "\n",
    "nn2 = fmR.loc[femaleStudents[\"math success level\"] == 'good'].count()[0]\n",
    "nn2 += fmR.loc[femaleStudents[\"math success level\"] == 'very good'].count()[0]\n",
    "nn2Rate = round ((nn2 / len(fmR))*100,2)\n",
    "\n",
    "maleMathAffectValue = n1Rate - nn1Rate\n",
    "femaleMathAffectValue = n2Rate - nn2Rate\n",
    "print(\"Öğle yemeğinde standart menü yemek yiyen erkek öğrenciler matematik dersinde, indirimli menü yemek yiyen erkek öğrencilere göre yaklaşık %\",  maleMathAffectValue, \" daha fazla başarılı\")\n",
    "print(\"Benzer şekilde standart menü yemek yemek kız öğrenciler matematik dersinde, indirimli menü yemek yiyen kız öğrencilerden yaklaşık %\", femaleMathAffectValue, \" daha fazla başarılı\")"
   ]
  },
  {
   "cell_type": "markdown",
   "metadata": {},
   "source": [
    "### TAHMİN MODELİ OLUŞTURMA\n",
    "Veri seti küçük, lâkin bu küçük veri setiyle de bu bağlanım(regresyon) modeli oluşturmaya çalışabiliriz.\n",
    "Misal, matematik dersi için başarı seviyesini tespit etmeye çalışan bir model geliştirmeye çalışalım.\n",
    "Modele vermemiz gereken özellikler (features) şunlar:\n",
    "cinsiyet ('gender' sütunu),\n",
    "ırk ('race/ethnicity'),\n",
    "öğle yemeği tipi ('lunch'),\n",
    "Sınava hâzırlık kursunu tamâmlayıp, tamâmlamaması ('test preparation course'),\n",
    "Okuma notu ('reading score'),\n",
    "Yazma notu ('writing score')\n",
    "\n",
    "BU durumda veriden şu sütunları çıkarmalıyız:\n",
    "matematik notu ('math score'),\n",
    "matematik başarı seviyesi ('math success level'),\n",
    "okuma başarı seviyesi ('reading success level'),\n",
    "yazma başarı seviyesi ('writing success level')\n",
    "\n",
    "Veri sayımız az; bu sebeple öğrencinin matematik dersinde başarılı olup, olmadığını tahmîn eden bir model belki daha iyi çalışabilir;\n",
    "Bunu görmek için 2 model geliştirelim;\n",
    "İlkinde öğrencinin matematik dersinde başarılı olup, olmadığını tahmîn etmeye çalışalım;\n",
    "İkincisinde ise öğrencin matematik notunu tahmîn etmeye çalışalım.\n",
    "\n",
    "Her iki modelin hatâsına bakmak, bize hangisinin daha iyi olduğunu söylemeyebilir; zîrâ birisinde bağımlı değişkenimiz kategorik iken diğerinde bağımlı değişkenimiz sayısal.\n",
    "\n",
    "İkinci modelimizin test veri seti için yaptığı tahmînlerde, notları başarı seviyelerine göre bölüp, ardından hatâ değerine bakarsak hangi modelimizin başarı seviyelerini daha iyi tahmîn ettiğini görebiliriz.\n",
    "Tabi, her bir tahmîn model çeşidi için bunu yapmaktansa, önce iyi olan bir tahmîn modeli bulmalıyız.\n",
    "Bunun için de öncelikle ikinci çeşit model için farklı algoritmalar denemeli; ardından birinci çeşit modelimizi de aynı algoritmayla oluşturup, sayısal tahmîn yapmanın mı daha doğru olduğunu, yoksa kategorik tahmîn yapmanın mı daha verimli olduğunu anlamaya çalışmalıyız.\n"
   ]
  },
  {
   "cell_type": "code",
   "execution_count": 514,
   "metadata": {},
   "outputs": [],
   "source": [
    "#Verileri hâzırlayalım:\n",
    "answers = mergedData[\"math score\"]\n",
    "dataForModel = mergedData.drop([\"math score\", \"math success level\", \"reading success level\", \"writing success level\"], axis = 1)"
   ]
  },
  {
   "cell_type": "code",
   "execution_count": 532,
   "metadata": {
    "scrolled": true
   },
   "outputs": [],
   "source": [
    "#Önce verileri eğitim ve test olmak üzere iki kümeye ayıralım:\n",
    "def splitData(xData, yData, testRate):\n",
    "    total = len(xData)\n",
    "    testDataNumber = int (total * testRate)\n",
    "    trainDataNumber = total - testDataNumber\n",
    "    indexes = [i for i in range(0, total)]\n",
    "    testDataIndexes = nm.random.choice(indexes, testDataNumber)\n",
    "    testDataIndexes = list(set(testDataIndexes))\n",
    "    if len(testDataIndexes) != testDataNumber:\n",
    "        missingCount = testDataNumber - len(testDataIndexes)\n",
    "        while missingCount > 0:\n",
    "            r = nm.random.randint(0,total)\n",
    "            if r not in testDataIndexes:\n",
    "                testDataIndexes.append(r)\n",
    "                missingCount -= 1\n",
    "    trainDataIndexes = [i for i in range(0, total) if i not in testDataIndexes]\n",
    "    xTest = xData.iloc[testDataIndexes]\n",
    "    xTrain = xData.iloc[trainDataIndexes]\n",
    "    yTrain = yData.iloc[trainDataIndexes]\n",
    "    yTest = yData.iloc[testDataIndexes]\n",
    "    return xTrain, xTest, yTrain, yTest"
   ]
  },
  {
   "cell_type": "code",
   "execution_count": 516,
   "metadata": {},
   "outputs": [
    {
     "data": {
      "text/plain": [
       "(670, 11)"
      ]
     },
     "execution_count": 516,
     "metadata": {},
     "output_type": "execute_result"
    }
   ],
   "source": [
    "# Yukarıdaki yöntem yerine 'sklearn' kütüphânesinin ilgili birimi de kullanılabilir\n",
    "from sklearn.model_selection import train_test_split\n",
    "\n",
    "xTrain, xTest, yTrain, yTest = train_test_split(dataForModel.values, answers.values, shuffle = True, random_state = 7, test_size = 0.33, train_size = 0.67)\n",
    "\n",
    "xTrain.shape"
   ]
  },
  {
   "cell_type": "code",
   "execution_count": 719,
   "metadata": {},
   "outputs": [],
   "source": [
    "xTrain, xTest, yTrain, yTest = splitData(xData = dataForModel, yData = answers, testRate = 0.33)"
   ]
  },
  {
   "cell_type": "code",
   "execution_count": 720,
   "metadata": {
    "scrolled": true
   },
   "outputs": [],
   "source": [
    "from sklearn.linear_model import LinearRegression\n",
    "\n",
    "lr = LinearRegression()\n",
    "\n",
    "lr.fit(xTrain, yTrain)\n",
    "\n",
    "predicts = lr.predict(xTest)"
   ]
  },
  {
   "cell_type": "code",
   "execution_count": 790,
   "metadata": {},
   "outputs": [
    {
     "data": {
      "text/html": [
       "<div>\n",
       "<style scoped>\n",
       "    .dataframe tbody tr th:only-of-type {\n",
       "        vertical-align: middle;\n",
       "    }\n",
       "\n",
       "    .dataframe tbody tr th {\n",
       "        vertical-align: top;\n",
       "    }\n",
       "\n",
       "    .dataframe thead th {\n",
       "        text-align: right;\n",
       "    }\n",
       "</style>\n",
       "<table border=\"1\" class=\"dataframe\">\n",
       "  <thead>\n",
       "    <tr style=\"text-align: right;\">\n",
       "      <th></th>\n",
       "      <th>gerçek</th>\n",
       "      <th>tahmin</th>\n",
       "      <th>hata</th>\n",
       "      <th>hata oranı (yüzde)</th>\n",
       "    </tr>\n",
       "  </thead>\n",
       "  <tbody>\n",
       "    <tr>\n",
       "      <td>2</td>\n",
       "      <td>90</td>\n",
       "      <td>85.148528</td>\n",
       "      <td>4.851472</td>\n",
       "      <td>5.391</td>\n",
       "    </tr>\n",
       "    <tr>\n",
       "      <td>3</td>\n",
       "      <td>47</td>\n",
       "      <td>52.677335</td>\n",
       "      <td>5.677335</td>\n",
       "      <td>12.079</td>\n",
       "    </tr>\n",
       "    <tr>\n",
       "      <td>4</td>\n",
       "      <td>76</td>\n",
       "      <td>81.727227</td>\n",
       "      <td>5.727227</td>\n",
       "      <td>7.536</td>\n",
       "    </tr>\n",
       "    <tr>\n",
       "      <td>9</td>\n",
       "      <td>38</td>\n",
       "      <td>44.105757</td>\n",
       "      <td>6.105757</td>\n",
       "      <td>16.068</td>\n",
       "    </tr>\n",
       "    <tr>\n",
       "      <td>14</td>\n",
       "      <td>50</td>\n",
       "      <td>50.236007</td>\n",
       "      <td>0.236007</td>\n",
       "      <td>0.472</td>\n",
       "    </tr>\n",
       "    <tr>\n",
       "      <td>...</td>\n",
       "      <td>...</td>\n",
       "      <td>...</td>\n",
       "      <td>...</td>\n",
       "      <td>...</td>\n",
       "    </tr>\n",
       "    <tr>\n",
       "      <td>986</td>\n",
       "      <td>40</td>\n",
       "      <td>46.540611</td>\n",
       "      <td>6.540611</td>\n",
       "      <td>16.352</td>\n",
       "    </tr>\n",
       "    <tr>\n",
       "      <td>989</td>\n",
       "      <td>67</td>\n",
       "      <td>69.621515</td>\n",
       "      <td>2.621515</td>\n",
       "      <td>3.913</td>\n",
       "    </tr>\n",
       "    <tr>\n",
       "      <td>992</td>\n",
       "      <td>55</td>\n",
       "      <td>65.144641</td>\n",
       "      <td>10.144641</td>\n",
       "      <td>18.445</td>\n",
       "    </tr>\n",
       "    <tr>\n",
       "      <td>993</td>\n",
       "      <td>62</td>\n",
       "      <td>62.397517</td>\n",
       "      <td>0.397517</td>\n",
       "      <td>0.641</td>\n",
       "    </tr>\n",
       "    <tr>\n",
       "      <td>994</td>\n",
       "      <td>63</td>\n",
       "      <td>69.949775</td>\n",
       "      <td>6.949775</td>\n",
       "      <td>11.031</td>\n",
       "    </tr>\n",
       "  </tbody>\n",
       "</table>\n",
       "<p>330 rows × 4 columns</p>\n",
       "</div>"
      ],
      "text/plain": [
       "     gerçek     tahmin       hata  hata oranı (yüzde)\n",
       "2        90  85.148528   4.851472               5.391\n",
       "3        47  52.677335   5.677335              12.079\n",
       "4        76  81.727227   5.727227               7.536\n",
       "9        38  44.105757   6.105757              16.068\n",
       "14       50  50.236007   0.236007               0.472\n",
       "..      ...        ...        ...                 ...\n",
       "986      40  46.540611   6.540611              16.352\n",
       "989      67  69.621515   2.621515               3.913\n",
       "992      55  65.144641  10.144641              18.445\n",
       "993      62  62.397517   0.397517               0.641\n",
       "994      63  69.949775   6.949775              11.031\n",
       "\n",
       "[330 rows x 4 columns]"
      ]
     },
     "execution_count": 790,
     "metadata": {},
     "output_type": "execute_result"
    }
   ],
   "source": [
    "# Başarı oranını ve kaybı görmek için verileri bir tabloda birleştirelim:\n",
    "seriesPredicts = pa.Series (data = predicts, index = yTest.index)\n",
    "seriesResult = pa.DataFrame(index = yTest.index)\n",
    "seriesResult[\"gerçek\"] = yTest\n",
    "seriesResult['tahmin'] = seriesPredicts\n",
    "seriesResult[\"hata\"] = nm.absolute(seriesResult[\"gerçek\"] - seriesResult['tahmin'])\n",
    "seriesResult[\"hata oranı (yüzde)\"] = round ((seriesResult[\"hata\"] / seriesResult['gerçek']) * 100, 3)\n",
    "seriesResult.sort_index(inplace = True)\n",
    "seriesResult"
   ]
  },
  {
   "cell_type": "markdown",
   "metadata": {},
   "source": [
    "Görüldüğü üzere verilerimiz 'çoklu doğrusal bağlanım' ('multiple linear regression') ile hiç de fenâ olmayacak şekilde ifâde edilebiliyor."
   ]
  },
  {
   "cell_type": "code",
   "execution_count": 803,
   "metadata": {},
   "outputs": [
    {
     "name": "stdout",
     "output_type": "stream",
     "text": [
      "Hatâların ortalaması yaklaşık :  4.177\n",
      "Hatâların ortalaması yaklaşık :  7.223\n"
     ]
    }
   ],
   "source": [
    "errSum = 0\n",
    "count = 0\n",
    "for i in seriesResult[\"hata\"][:]:\n",
    "    errSum += i\n",
    "    count += 1\n",
    "errSum = errSum / count\n",
    "print(\"Hatâların ortalaması yaklaşık : \",round(errSum, 3))\n",
    "print(\"Hatâların ortalaması yaklaşık : \",round(seriesResult[\"hata oranı (yüzde)\"].mean(), 3))"
   ]
  },
  {
   "cell_type": "code",
   "execution_count": 936,
   "metadata": {},
   "outputs": [
    {
     "data": {
      "image/png": "[encoded data removed]",
      "text/plain": [
       "<Figure size 1152x432 with 2 Axes>"
      ]
     },
     "metadata": {
      "needs_background": "light"
     },
     "output_type": "display_data"
    }
   ],
   "source": [
    "#Şimdi de grafik üzerinde bakmaya çalışalım.\n",
    "#Önemli detay : Matplotlib grafiği 0'dan başlayarak çizdiğinden dolayı grafiğin düzgün görünmesi için değerleri sıralamalıyız:\n",
    "sortedDfResult = seriesResult.sort_values(by = seriesResult.columns[0], axis = 0)\n",
    "py.figure(figsize = (16, 6))#Grafik boyutunu büyütelim\n",
    "py.subplot(1,2,1)\n",
    "py.plot(sortedDfResult[\"gerçek\"], sortedDfResult[\"tahmin\"])\n",
    "py.title(\"Tahmin - hatâ grafiği\")\n",
    "py.subplot(1,2,2)\n",
    "py.title(\"Hatânın seyri\")\n",
    "#Önemli detay : Yalnzca hatâları çizdirmek istediğimizde, hatâları indekse göre sıralamalıyız:\n",
    "sortedDfResult[\"hata\"].sort_index().plot(color = \"purple\", label = \"hata\")\n",
    "py.savefig(\"DoğrusalBağlanım - TahminHataDeğişimi\", dpi = 220)"
   ]
  },
  {
   "cell_type": "markdown",
   "metadata": {},
   "source": [
    "Grafikten anlaşılana göre tahmin modelimiz fenâ değil ve veriler doğrusala yatkın bir hâlde duruyor.\n",
    "Başka bir modelle daha başarılı sonuçlar elde edebiliriz\n",
    "Şimdi sayısal tahmin için başka bir model geliştirmeye çalışalım\n",
    "Deneyebileceğimiz bir model 'polinomal bağlanım' olabilir"
   ]
  },
  {
   "cell_type": "code",
   "execution_count": 859,
   "metadata": {},
   "outputs": [],
   "source": [
    "#Polinomal bağlanım:\n",
    "# Sci - kit learn kütüphânesinde polinomal bağlanım oluşturmanın yolu verileri polinomal olarak dönüştürüp, doğrusal bağlanım..\n",
    "#.. oluşturmak:\n",
    "from sklearn.preprocessing import PolynomialFeatures\n",
    "polyRegression = PolynomialFeatures(degree = 2)#İkinci dereceden bir polinom olarak deneyelim\n",
    "lr2 = LinearRegression()\n",
    "\n",
    "polyXTrain = polyRegression.fit_transform(xTrain)\n",
    "lr2.fit(polyXTrain, yTrain)\n",
    "polyPredicts = lr2.predict(polyRegression.fit_transform(xTest))"
   ]
  },
  {
   "cell_type": "code",
   "execution_count": 887,
   "metadata": {},
   "outputs": [
    {
     "data": {
      "text/html": [
       "<div>\n",
       "<style scoped>\n",
       "    .dataframe tbody tr th:only-of-type {\n",
       "        vertical-align: middle;\n",
       "    }\n",
       "\n",
       "    .dataframe tbody tr th {\n",
       "        vertical-align: top;\n",
       "    }\n",
       "\n",
       "    .dataframe thead th {\n",
       "        text-align: right;\n",
       "    }\n",
       "</style>\n",
       "<table border=\"1\" class=\"dataframe\">\n",
       "  <thead>\n",
       "    <tr style=\"text-align: right;\">\n",
       "      <th></th>\n",
       "      <th>gerçek</th>\n",
       "      <th>tahmin</th>\n",
       "      <th>hata</th>\n",
       "    </tr>\n",
       "  </thead>\n",
       "  <tbody>\n",
       "    <tr>\n",
       "      <td>2</td>\n",
       "      <td>90</td>\n",
       "      <td>84.588862</td>\n",
       "      <td>5.411138</td>\n",
       "    </tr>\n",
       "    <tr>\n",
       "      <td>3</td>\n",
       "      <td>47</td>\n",
       "      <td>53.342826</td>\n",
       "      <td>6.342826</td>\n",
       "    </tr>\n",
       "    <tr>\n",
       "      <td>4</td>\n",
       "      <td>76</td>\n",
       "      <td>82.103364</td>\n",
       "      <td>6.103364</td>\n",
       "    </tr>\n",
       "    <tr>\n",
       "      <td>518</td>\n",
       "      <td>66</td>\n",
       "      <td>67.242253</td>\n",
       "      <td>1.242253</td>\n",
       "    </tr>\n",
       "    <tr>\n",
       "      <td>519</td>\n",
       "      <td>67</td>\n",
       "      <td>65.346961</td>\n",
       "      <td>1.653039</td>\n",
       "    </tr>\n",
       "    <tr>\n",
       "      <td>...</td>\n",
       "      <td>...</td>\n",
       "      <td>...</td>\n",
       "      <td>...</td>\n",
       "    </tr>\n",
       "    <tr>\n",
       "      <td>912</td>\n",
       "      <td>52</td>\n",
       "      <td>53.887499</td>\n",
       "      <td>1.887499</td>\n",
       "    </tr>\n",
       "    <tr>\n",
       "      <td>892</td>\n",
       "      <td>50</td>\n",
       "      <td>56.178853</td>\n",
       "      <td>6.178853</td>\n",
       "    </tr>\n",
       "    <tr>\n",
       "      <td>17</td>\n",
       "      <td>18</td>\n",
       "      <td>20.794149</td>\n",
       "      <td>2.794149</td>\n",
       "    </tr>\n",
       "    <tr>\n",
       "      <td>442</td>\n",
       "      <td>59</td>\n",
       "      <td>64.239692</td>\n",
       "      <td>5.239692</td>\n",
       "    </tr>\n",
       "    <tr>\n",
       "      <td>395</td>\n",
       "      <td>48</td>\n",
       "      <td>49.512951</td>\n",
       "      <td>1.512951</td>\n",
       "    </tr>\n",
       "  </tbody>\n",
       "</table>\n",
       "<p>330 rows × 3 columns</p>\n",
       "</div>"
      ],
      "text/plain": [
       "     gerçek     tahmin      hata\n",
       "2        90  84.588862  5.411138\n",
       "3        47  53.342826  6.342826\n",
       "4        76  82.103364  6.103364\n",
       "518      66  67.242253  1.242253\n",
       "519      67  65.346961  1.653039\n",
       "..      ...        ...       ...\n",
       "912      52  53.887499  1.887499\n",
       "892      50  56.178853  6.178853\n",
       "17       18  20.794149  2.794149\n",
       "442      59  64.239692  5.239692\n",
       "395      48  49.512951  1.512951\n",
       "\n",
       "[330 rows x 3 columns]"
      ]
     },
     "execution_count": 887,
     "metadata": {},
     "output_type": "execute_result"
    }
   ],
   "source": [
    "polyDf = pa.DataFrame(index = yTest.index, columns = [\"gerçek\"], data = yTest.values)\n",
    "polyDf[\"tahmin\"] = polyPredicts\n",
    "polyDf[\"hata\"] = nm.absolute(yTest - polyPredicts)\n",
    "polyDf"
   ]
  },
  {
   "cell_type": "code",
   "execution_count": 876,
   "metadata": {},
   "outputs": [
    {
     "name": "stdout",
     "output_type": "stream",
     "text": [
      "Hatâların ortalaması yaklaşık :  4.451\n"
     ]
    }
   ],
   "source": [
    "print(\"Hatâların ortalaması yaklaşık : \",round(polyDf[\"hata\"].mean(), 3))"
   ]
  },
  {
   "cell_type": "markdown",
   "metadata": {},
   "source": [
    "Görüldüğü üzere verilerimiz matematik dersi için oldukça doğrusal; bu yüzden de 'polinomal bağlanım'la hatâ oranı düşmedi "
   ]
  },
  {
   "cell_type": "code",
   "execution_count": 882,
   "metadata": {},
   "outputs": [
    {
     "data": {
      "text/plain": [
       "<matplotlib.axes._subplots.AxesSubplot at 0x1e228d44c88>"
      ]
     },
     "execution_count": 882,
     "metadata": {},
     "output_type": "execute_result"
    },
    {
     "data": {
      "image/png": "[encoded data removed]",
      "text/plain": [
       "<Figure size 432x288 with 1 Axes>"
      ]
     },
     "metadata": {
      "needs_background": "light"
     },
     "output_type": "display_data"
    }
   ],
   "source": [
    "polyDf[\"hata\"].sort_index().plot(color = \"purple\")"
   ]
  },
  {
   "cell_type": "code",
   "execution_count": 935,
   "metadata": {},
   "outputs": [
    {
     "data": {
      "image/png": "[encoded data removed]",
      "text/plain": [
       "<Figure size 1152x432 with 2 Axes>"
      ]
     },
     "metadata": {
      "needs_background": "light"
     },
     "output_type": "display_data"
    }
   ],
   "source": [
    "sortedPolyDf = polyDf.sort_values(by = polyDf.columns[0], axis = 0)\n",
    "py.figure(figsize = (16, 6))\n",
    "py.subplot(1,2,1)\n",
    "py.plot(sortedPolyDf[\"gerçek\"], sortedPolyDf[\"tahmin\"])\n",
    "py.title(\"Tahmin - hatâ grafiği\")\n",
    "py.subplot(1,2,2)\n",
    "sortedPolyDf[\"hata\"].sort_index().plot(color = \"purple\", label = 'hata')\n",
    "py.title(\"Hatânın seyri\")\n",
    "py.legend()\n",
    "py.savefig(\"PolinomalBağlanım - TahminHataDeğişimi\", dpi = 220)"
   ]
  },
  {
   "cell_type": "code",
   "execution_count": 1066,
   "metadata": {},
   "outputs": [],
   "source": [
    "# Yeni tahmîn modelimizde başarı sınıflarını tahmîn etmeye çalışalım:\n",
    "# Bunun için verileri hâzırlayalım:\n",
    "\n",
    "answerForClassify = mergedData[\"math success level\"]\n",
    "dataForClassify = mergedData.drop([\"math score\", \"math success level\", \"reading success level\", \"writing success level\"], axis = 1)\n",
    "dataForClassify\n",
    "answerForClassify = answerForClassify"
   ]
  },
  {
   "cell_type": "code",
   "execution_count": 1067,
   "metadata": {},
   "outputs": [],
   "source": [
    "def convertToOrdinal(series, dictOfClasses = None):#series = pa.Series olmalı, dictOfClasses içerisinde değer, sınıf olmalı; eğer dictOfClasses verilmediyse kaç değer olduğunu elimizle saymalıyız\n",
    "    if dictOfClasses is None:\n",
    "        valueCount = series.nunique()\n",
    "        values = {}\n",
    "        nameOfValues = series.unique()\n",
    "        for i in range(0, valueCount):\n",
    "            values[str(nameOfValues[i])] = i\n",
    "    else:\n",
    "        valueCount = len(dictOfClasses)\n",
    "        values = dictOfClasses\n",
    "    retValue = pa.Series(index = series.index, data = [i for i in range(0, len(series))])\n",
    "    count = 0\n",
    "    for i in series.iloc[:]:\n",
    "        retValue.iloc[count] = values.get(i)\n",
    "        count += 1\n",
    "    return retValue"
   ]
  },
  {
   "cell_type": "code",
   "execution_count": 1068,
   "metadata": {},
   "outputs": [
    {
     "data": {
      "text/plain": [
       "0    3\n",
       "1    2\n",
       "2    4\n",
       "3    2\n",
       "4    3\n",
       "dtype: int64"
      ]
     },
     "execution_count": 1068,
     "metadata": {},
     "output_type": "execute_result"
    }
   ],
   "source": [
    "# Sınıflar arasında bir büyüklük ilişkisi olduğundan sınıfları sıralı vektöre çevirebiliriz.\n",
    "dictOfClasses = {'too bad mark': 0, 'bad mark': 1, 'medium': 2,  'good': 3, 'very good': 4}\n",
    "answerForClassify = convertToOrdinal(answerForClassify, dictOfClasses)\n",
    "answerForClassify.head()"
   ]
  },
  {
   "cell_type": "code",
   "execution_count": 1069,
   "metadata": {},
   "outputs": [],
   "source": [
    "xTrainClassify, xTestClassify, yTrainClassify, yTestClassify = splitData (xData = dataForClassify, yData = answerForClassify, testRate = 0.33)"
   ]
  },
  {
   "cell_type": "code",
   "execution_count": 1070,
   "metadata": {},
   "outputs": [
    {
     "name": "stderr",
     "output_type": "stream",
     "text": [
      "C:\\ProgramData\\Anaconda3\\lib\\site-packages\\sklearn\\linear_model\\logistic.py:432: FutureWarning: Default solver will be changed to 'lbfgs' in 0.22. Specify a solver to silence this warning.\n",
      "  FutureWarning)\n",
      "C:\\ProgramData\\Anaconda3\\lib\\site-packages\\sklearn\\linear_model\\logistic.py:469: FutureWarning: Default multi_class will be changed to 'auto' in 0.22. Specify the multi_class option to silence this warning.\n",
      "  \"this warning.\", FutureWarning)\n"
     ]
    },
    {
     "data": {
      "text/plain": [
       "array([3, 2, 3, 2, 2, 2, 2, 3, 2, 2, 2, 2, 2, 2, 2, 3, 2, 2, 2, 2, 3, 2,\n",
       "       3, 3, 2, 2, 2, 2, 2, 2, 2, 2, 3, 3, 2, 2, 2, 3, 3, 2, 2, 2, 3, 2,\n",
       "       2, 2, 2, 2, 2, 2, 2, 2, 2, 3, 3, 2, 2, 2, 2, 2, 2, 2, 2, 3, 3, 2,\n",
       "       3, 2, 2, 2, 3, 2, 2, 2, 2, 2, 2, 2, 2, 3, 3, 3, 3, 3, 2, 2, 2, 3,\n",
       "       2, 2, 3, 2, 2, 3, 2, 2, 3, 2, 3, 2, 2, 2, 2, 2, 3, 2, 2, 3, 3, 2,\n",
       "       2, 3, 3, 2, 2, 2, 2, 3, 3, 2, 3, 2, 2, 2, 3, 3, 3, 2, 3, 2, 2, 3,\n",
       "       2, 2, 2, 2, 2, 2, 2, 2, 2, 3, 3, 2, 3, 2, 2, 3, 3, 3, 2, 2, 2, 3,\n",
       "       2, 2, 2, 2, 3, 2, 2, 2, 2, 2, 2, 2, 2, 3, 3, 3, 2, 2, 2, 3, 2, 2,\n",
       "       2, 3, 2, 2, 3, 2, 3, 2, 2, 3, 3, 2, 2, 2, 2, 3, 2, 2, 2, 2, 3, 2,\n",
       "       2, 2, 2, 3, 2, 2, 2, 2, 3, 3, 2, 2, 3, 2, 2, 3, 2, 2, 3, 2, 2, 2,\n",
       "       3, 2, 2, 3, 3, 4, 2, 2, 2, 3, 3, 2, 2, 2, 2, 2, 2, 3, 3, 2, 2, 2,\n",
       "       2, 2, 2, 2, 2, 2, 3, 2, 2, 2, 3, 2, 2, 3, 3, 2, 2, 3, 2, 3, 3, 2,\n",
       "       2, 2, 3, 2, 3, 2, 2, 2, 2, 3, 2, 2, 2, 2, 2, 3, 3, 2, 3, 2, 3, 2,\n",
       "       3, 3, 3, 3, 3, 3, 2, 2, 2, 4, 2, 2, 2, 2, 2, 2, 2, 2, 2, 3, 2, 2,\n",
       "       2, 2, 2, 2, 3, 3, 2, 2, 3, 2, 2, 2, 2, 2, 2, 2, 3, 2, 2, 2, 2, 2],\n",
       "      dtype=int64)"
      ]
     },
     "execution_count": 1070,
     "metadata": {},
     "output_type": "execute_result"
    }
   ],
   "source": [
    "# SINIFLANDIRMA\n",
    "# Lojistik bağlanım\n",
    "from sklearn.linear_model import LogisticRegression\n",
    "logReg = LogisticRegression(random_state = 1)\n",
    "logReg.fit(xTrainClassify, yTrainClassify)\n",
    "\n",
    "logRegPredicts = logReg.predict(xTest)\n",
    "logRegPredicts"
   ]
  },
  {
   "cell_type": "code",
   "execution_count": 1090,
   "metadata": {},
   "outputs": [
    {
     "name": "stdout",
     "output_type": "stream",
     "text": [
      "Doğru bilme oranı (yüzde) :  41.212\n"
     ]
    }
   ],
   "source": [
    "# sklearn kütüphânesinin ölçüm yöntemini kullanalım; aynı zamânda biz de hesaplayalım\n",
    "\n",
    "from sklearn.metrics import accuracy_score\n",
    "result = accuracy_score(yTestClassify, logRegPredicts)\n",
    "print(\"Doğru bilme oranı (yüzde) : \", round(result * 100, 3))"
   ]
  },
  {
   "cell_type": "code",
   "execution_count": 1080,
   "metadata": {},
   "outputs": [],
   "source": [
    "errorClassify = [False for i in range(0,len(logRegPredicts))]\n",
    "nmArrayYTest = yTestClassify.values\n",
    "for i in range(0,len(logRegPredicts)):\n",
    "    if nmArrayYTest[i] == logRegPredicts[i]:\n",
    "        errorClassify[i] = True"
   ]
  },
  {
   "cell_type": "code",
   "execution_count": 1089,
   "metadata": {},
   "outputs": [
    {
     "name": "stdout",
     "output_type": "stream",
     "text": [
      "Doğru bilme oranı (yüzde):  41.212\n"
     ]
    }
   ],
   "source": [
    "rate = errorClassify.count(True) / len(errorClassify)\n",
    "print(\"Doğru bilme oranı (yüzde): \", round(rate * 100, 3))"
   ]
  },
  {
   "cell_type": "code",
   "execution_count": 1132,
   "metadata": {},
   "outputs": [],
   "source": [
    "# SINIFLANDIRMA\n",
    "# K-NN\n",
    "from sklearn.neighbors import KNeighborsClassifier\n",
    "knn = KNeighborsClassifier(n_neighbors = 5)# Varsayılan ölçüm birimi Minkowski imiş\n",
    "knn.fit(xTrainClassify, yTrainClassify)\n",
    "\n",
    "knnPredicts = knn.predict(xTest)"
   ]
  },
  {
   "cell_type": "code",
   "execution_count": 1133,
   "metadata": {},
   "outputs": [
    {
     "name": "stdout",
     "output_type": "stream",
     "text": [
      "K - NN ile sınıflandırmada doğru bilme oranı (yüzde) :  41.212\n"
     ]
    }
   ],
   "source": [
    "knnResult = accuracy_score(yTestClassify, knnPredicts)\n",
    "print(\"K - NN ile sınıflandırmada doğru bilme oranı (yüzde) : \", round(result * 100, 3))"
   ]
  },
  {
   "cell_type": "markdown",
   "metadata": {},
   "source": [
    "Lojistik bağlanımla ile yapılan sınıf tahmîninden biraz daha düşük bir başarı elde ediliyor; yukarıdaki kodda 'result' değişkenini yazdırmışım; 'knnResult' değişkenini yazdırmalıydım; kod tekrar çalıştırılmadan önce burası değiştirilmeli."
   ]
  },
  {
   "cell_type": "code",
   "execution_count": 1096,
   "metadata": {},
   "outputs": [],
   "source": [
    "# Önceki tahmînimizi sınıflara bölersek hangi tahmîn modelinin sınıflandırmada daha başarılı olduğuna bakabiliriz:\n",
    "testDataLevelAttribute = mergedData[\"math success level\"].iloc[seriesResult.index.to_list()]\n",
    "seriesResult[\"math success level\"] = testDataLevelAttribute"
   ]
  },
  {
   "cell_type": "code",
   "execution_count": 1124,
   "metadata": {},
   "outputs": [
    {
     "name": "stdout",
     "output_type": "stream",
     "text": [
      "85.14852761296778 \t?=\t very good\n",
      "52.67733534006032 \t?=\t medium\n",
      "81.7272266912124 \t?=\t good\n",
      "44.10575723032464 \t?=\t bad mark\n",
      "50.23600735699982 \t?=\t medium\n",
      "70.2876965909629 \t?=\t medium\n",
      "92.60734140019733 \t?=\t very good\n",
      "21.41218485161646 \t?=\t too bad mark\n",
      "50.352227171284206 \t?=\t medium\n",
      "66.30100318977655 \t?=\t medium\n",
      "75.9948747146642 \t?=\t good\n",
      "61.49655428828446 \t?=\t medium\n",
      "65.53752790138088 \t?=\t medium\n",
      "65.02207483030801 \t?=\t medium\n",
      "66.21851375733931 \t?=\t medium\n",
      "55.54806319601404 \t?=\t medium\n",
      "94.00465185323364 \t?=\t very good\n",
      "60.42268122447801 \t?=\t medium\n",
      "56.06512088904835 \t?=\t medium\n",
      "49.94705974582626 \t?=\t medium\n",
      "67.54057326673102 \t?=\t medium\n",
      "61.19897469823522 \t?=\t medium\n",
      "85.07828522287275 \t?=\t good\n",
      "49.56080910736874 \t?=\t medium\n",
      "72.8463359595867 \t?=\t good\n",
      "79.39319413604446 \t?=\t good\n",
      "60.81085985347917 \t?=\t medium\n",
      "41.51897437079015 \t?=\t bad mark\n",
      "51.9474815086687 \t?=\t medium\n",
      "41.37081805046002 \t?=\t medium\n",
      "60.30083190608849 \t?=\t medium\n",
      "43.1904874342727 \t?=\t bad mark\n",
      "65.16202089539917 \t?=\t medium\n",
      "49.6131898394448 \t?=\t medium\n",
      "74.2690333755755 \t?=\t good\n",
      "39.627661010918196 \t?=\t bad mark\n",
      "76.12881040991662 \t?=\t good\n",
      "65.12235857373595 \t?=\t good\n",
      "65.69713248376127 \t?=\t medium\n",
      "48.931266668610405 \t?=\t bad mark\n",
      "82.68606582999045 \t?=\t good\n",
      "66.78812970585784 \t?=\t medium\n",
      "65.02997298846053 \t?=\t medium\n",
      "73.3725404374448 \t?=\t good\n",
      "50.072993608686836 \t?=\t medium\n",
      "71.28957840097705 \t?=\t medium\n",
      "63.302524577053916 \t?=\t good\n",
      "48.02010894643479 \t?=\t medium\n",
      "81.01280915180686 \t?=\t good\n",
      "93.04890257756371 \t?=\t very good\n",
      "59.758487863221134 \t?=\t medium\n",
      "81.3624016986373 \t?=\t very good\n",
      "76.83314398620624 \t?=\t medium\n",
      "74.8227203211768 \t?=\t good\n",
      "67.44623539172864 \t?=\t good\n",
      "59.46690272093039 \t?=\t medium\n",
      "68.9060959742414 \t?=\t good\n",
      "26.083197179929186 \t?=\t too bad mark\n",
      "67.40692234126917 \t?=\t medium\n",
      "98.80682758350196 \t?=\t very good\n",
      "66.14022736391773 \t?=\t medium\n",
      "55.650946959934416 \t?=\t medium\n",
      "63.392286881731096 \t?=\t medium\n",
      "74.38926040608322 \t?=\t good\n",
      "39.95419835133823 \t?=\t bad mark\n",
      "44.51233259138192 \t?=\t medium\n",
      "88.46082906434813 \t?=\t very good\n",
      "72.02004742196338 \t?=\t medium\n",
      "79.51958138726019 \t?=\t good\n",
      "81.94565299047215 \t?=\t good\n",
      "64.3942500355061 \t?=\t good\n",
      "45.307572043288275 \t?=\t medium\n",
      "67.48846079860533 \t?=\t medium\n",
      "77.08543658957295 \t?=\t medium\n",
      "48.71644740505906 \t?=\t medium\n",
      "72.76957497281272 \t?=\t good\n",
      "32.031688272199595 \t?=\t bad mark\n",
      "60.412050860884136 \t?=\t medium\n",
      "49.4434727832389 \t?=\t medium\n",
      "71.34966669407596 \t?=\t medium\n",
      "82.98654336888453 \t?=\t very good\n",
      "91.76921033610375 \t?=\t very good\n",
      "59.39898791539029 \t?=\t medium\n",
      "47.26793614303841 \t?=\t medium\n",
      "57.16678374827432 \t?=\t medium\n",
      "76.4513418405952 \t?=\t good\n",
      "78.17349692866168 \t?=\t very good\n",
      "78.93536919853412 \t?=\t good\n",
      "70.00347324251128 \t?=\t good\n",
      "88.27019897826607 \t?=\t very good\n",
      "45.51711603402673 \t?=\t medium\n",
      "67.96167079688114 \t?=\t medium\n",
      "46.34557281709772 \t?=\t medium\n",
      "63.0384267944718 \t?=\t medium\n",
      "81.21876653690883 \t?=\t very good\n",
      "81.96101150923289 \t?=\t very good\n",
      "66.17246696247172 \t?=\t medium\n",
      "71.99870211537916 \t?=\t medium\n",
      "60.17088774318434 \t?=\t good\n",
      "77.12459978916313 \t?=\t good\n",
      "80.70890320238749 \t?=\t very good\n",
      "56.42689116248788 \t?=\t medium\n",
      "69.57334355297056 \t?=\t good\n",
      "43.866432663188775 \t?=\t medium\n",
      "71.4026479018461 \t?=\t good\n",
      "44.222281151881276 \t?=\t bad mark\n",
      "84.96203205879291 \t?=\t good\n",
      "61.78707277636538 \t?=\t medium\n",
      "51.963950051393624 \t?=\t medium\n",
      "59.20163850918976 \t?=\t medium\n",
      "64.83624583353233 \t?=\t medium\n",
      "85.98541494235548 \t?=\t very good\n",
      "68.61522737678597 \t?=\t medium\n",
      "23.949644028188672 \t?=\t bad mark\n",
      "51.83646604802585 \t?=\t bad mark\n",
      "77.06896804684803 \t?=\t good\n",
      "78.50561320038315 \t?=\t good\n",
      "84.37385191973385 \t?=\t good\n",
      "50.5393431970517 \t?=\t medium\n",
      "35.654577332918414 \t?=\t bad mark\n",
      "47.749204133621014 \t?=\t medium\n",
      "51.058518714557344 \t?=\t medium\n",
      "87.92758168228455 \t?=\t very good\n",
      "54.576526778481934 \t?=\t medium\n",
      "70.47419214513774 \t?=\t good\n",
      "43.22270294914816 \t?=\t medium\n",
      "86.75704957667895 \t?=\t good\n",
      "62.98365826573877 \t?=\t medium\n",
      "66.93264652695429 \t?=\t medium\n",
      "72.18339803279177 \t?=\t medium\n",
      "53.821862879436225 \t?=\t medium\n",
      "63.71348444792504 \t?=\t medium\n",
      "61.901879474177306 \t?=\t medium\n",
      "80.3270197811387 \t?=\t good\n",
      "64.77880796857374 \t?=\t medium\n",
      "64.60169384499322 \t?=\t medium\n",
      "80.20809210524004 \t?=\t good\n",
      "96.3325670390674 \t?=\t very good\n",
      "71.95836610025448 \t?=\t good\n",
      "80.15325907509381 \t?=\t good\n",
      "64.40436734841744 \t?=\t good\n",
      "66.99260263510426 \t?=\t good\n",
      "76.06150935188276 \t?=\t good\n",
      "72.0521484479895 \t?=\t good\n",
      "56.69215537422852 \t?=\t medium\n",
      "69.31724567904018 \t?=\t medium\n",
      "80.25282627368642 \t?=\t good\n",
      "81.15650881494854 \t?=\t good\n",
      "67.9479797980568 \t?=\t medium\n",
      "82.65381824162222 \t?=\t good\n",
      "59.808109235697486 \t?=\t medium\n",
      "74.6589812750123 \t?=\t medium\n",
      "58.960978085706074 \t?=\t medium\n",
      "80.22805305824018 \t?=\t very good\n",
      "77.84242165541542 \t?=\t good\n",
      "80.25893271676783 \t?=\t good\n",
      "67.20418660896561 \t?=\t medium\n",
      "65.64712572837489 \t?=\t medium\n",
      "37.12291647129448 \t?=\t bad mark\n",
      "35.184004207342895 \t?=\t bad mark\n",
      "66.6181278798614 \t?=\t medium\n",
      "85.71561279778862 \t?=\t good\n",
      "71.48924064644972 \t?=\t good\n",
      "68.81867965392485 \t?=\t medium\n",
      "61.38563376350447 \t?=\t medium\n",
      "79.34266110442672 \t?=\t good\n",
      "70.77998106855095 \t?=\t good\n",
      "72.06583302905565 \t?=\t good\n",
      "53.17199550257335 \t?=\t medium\n",
      "68.95853763558756 \t?=\t medium\n",
      "60.111851674022446 \t?=\t medium\n",
      "69.40641079493088 \t?=\t good\n",
      "92.8591993829042 \t?=\t very good\n",
      "51.30119669922884 \t?=\t medium\n",
      "51.8270657816131 \t?=\t medium\n",
      "71.88236689037043 \t?=\t good\n",
      "54.89448342412647 \t?=\t bad mark\n",
      "65.41799974978814 \t?=\t medium\n",
      "67.14361609651205 \t?=\t medium\n",
      "57.786274160825656 \t?=\t medium\n",
      "59.94717531298198 \t?=\t medium\n",
      "58.68229363261791 \t?=\t medium\n",
      "75.8278126172907 \t?=\t medium\n",
      "71.84461162637959 \t?=\t good\n",
      "62.915037355534025 \t?=\t medium\n",
      "23.159944325397692 \t?=\t bad mark\n",
      "58.08188418526009 \t?=\t medium\n",
      "53.99045038345736 \t?=\t medium\n",
      "24.22068191764717 \t?=\t bad mark\n",
      "71.64024769009933 \t?=\t good\n",
      "60.68304301662475 \t?=\t medium\n",
      "61.76159772998446 \t?=\t medium\n",
      "92.17444226297488 \t?=\t very good\n",
      "67.3561954689044 \t?=\t medium\n",
      "46.90687599667606 \t?=\t bad mark\n",
      "61.45630792864428 \t?=\t medium\n",
      "52.49309127567574 \t?=\t medium\n",
      "52.628746218322796 \t?=\t medium\n",
      "78.48810365918301 \t?=\t good\n",
      "65.28196315611632 \t?=\t good\n",
      "74.7259289880241 \t?=\t good\n",
      "68.26812627769351 \t?=\t good\n",
      "69.86012285057335 \t?=\t medium\n",
      "61.725969792043344 \t?=\t medium\n",
      "69.0363249069361 \t?=\t medium\n",
      "54.836911380748205 \t?=\t medium\n",
      "82.64737325112364 \t?=\t very good\n",
      "77.32175692667269 \t?=\t good\n",
      "70.63628140540928 \t?=\t good\n",
      "58.29064216966154 \t?=\t medium\n",
      "75.72273774307547 \t?=\t good\n",
      "77.22835236085103 \t?=\t good\n",
      "69.2589570908266 \t?=\t medium\n",
      "67.50560146273565 \t?=\t good\n",
      "79.3857277529367 \t?=\t good\n",
      "61.345044550418706 \t?=\t medium\n",
      "77.6578471712267 \t?=\t very good\n",
      "53.46237620341756 \t?=\t medium\n",
      "92.77926905156146 \t?=\t very good\n",
      "46.22140233191142 \t?=\t medium\n",
      "64.91608030713718 \t?=\t medium\n",
      "76.336820697865 \t?=\t good\n",
      "67.1335632850139 \t?=\t medium\n",
      "88.84109676666746 \t?=\t very good\n",
      "58.6106749101352 \t?=\t medium\n",
      "51.405753899180496 \t?=\t medium\n",
      "90.30454870101357 \t?=\t very good\n",
      "79.46381745999616 \t?=\t good\n",
      "90.65524317558933 \t?=\t very good\n",
      "87.43390853845577 \t?=\t good\n",
      "67.57832853072186 \t?=\t good\n",
      "70.41584104898172 \t?=\t medium\n",
      "63.87421219611417 \t?=\t medium\n",
      "65.54684198494695 \t?=\t medium\n",
      "51.73315852157531 \t?=\t medium\n",
      "57.90934271826663 \t?=\t medium\n",
      "61.47810743220833 \t?=\t medium\n",
      "78.14197230288694 \t?=\t medium\n",
      "74.55313252889242 \t?=\t good\n",
      "59.80362142689128 \t?=\t medium\n",
      "75.16860975905615 \t?=\t good\n",
      "48.523695909022145 \t?=\t medium\n",
      "65.30236230191939 \t?=\t good\n",
      "64.04100638162596 \t?=\t good\n",
      "62.675333082744714 \t?=\t medium\n",
      "68.01633279639984 \t?=\t medium\n",
      "34.33803788307176 \t?=\t bad mark\n",
      "71.36060190544367 \t?=\t good\n",
      "46.505177399478086 \t?=\t medium\n",
      "50.69018162213672 \t?=\t medium\n",
      "72.925293665789 \t?=\t good\n",
      "28.090851397276886 \t?=\t too bad mark\n",
      "51.818817514086106 \t?=\t medium\n",
      "54.270737855068724 \t?=\t medium\n",
      "62.952133639964046 \t?=\t medium\n",
      "75.75848987615127 \t?=\t good\n",
      "72.64748611668723 \t?=\t medium\n",
      "70.06556352914544 \t?=\t good\n",
      "37.76805412093442 \t?=\t bad mark\n",
      "53.79016889459529 \t?=\t medium\n",
      "56.28506696248872 \t?=\t medium\n",
      "59.80883219829097 \t?=\t medium\n",
      "81.6385302025743 \t?=\t good\n",
      "80.474072861816 \t?=\t good\n",
      "56.78903479080967 \t?=\t medium\n",
      "73.61724038884974 \t?=\t good\n",
      "55.94682206458907 \t?=\t medium\n",
      "68.75558755100153 \t?=\t medium\n",
      "65.61100486399785 \t?=\t medium\n",
      "76.37501415465876 \t?=\t good\n",
      "53.52316748591177 \t?=\t medium\n",
      "54.582348451772795 \t?=\t medium\n",
      "66.67143834897509 \t?=\t medium\n",
      "60.1675647600984 \t?=\t medium\n",
      "94.05587784767144 \t?=\t very good\n",
      "57.56008506524675 \t?=\t medium\n",
      "62.34397020806642 \t?=\t medium\n",
      "74.4992612819076 \t?=\t good\n",
      "88.01750025558918 \t?=\t very good\n",
      "50.79550599260699 \t?=\t medium\n",
      "39.07291255530623 \t?=\t bad mark\n",
      "66.64505007139672 \t?=\t good\n",
      "96.6533556403361 \t?=\t very good\n",
      "54.687505386916946 \t?=\t medium\n",
      "57.39610641322321 \t?=\t medium\n",
      "64.18747549244937 \t?=\t good\n",
      "91.84271845033847 \t?=\t very good\n",
      "51.2262492930701 \t?=\t bad mark\n",
      "67.73771284472487 \t?=\t medium\n",
      "63.963478224333386 \t?=\t good\n",
      "62.14455745884881 \t?=\t medium\n",
      "89.77781672695666 \t?=\t very good\n",
      "66.57968122510655 \t?=\t medium\n",
      "61.693217142806816 \t?=\t medium\n",
      "33.55434045390065 \t?=\t bad mark\n",
      "73.62970930300753 \t?=\t medium\n",
      "75.42778154002913 \t?=\t good\n",
      "53.74032442210008 \t?=\t medium\n",
      "51.267276698958796 \t?=\t medium\n",
      "39.17718783108241 \t?=\t bad mark\n",
      "72.31923113231079 \t?=\t good\n",
      "61.730572226282746 \t?=\t medium\n",
      "54.6198753511674 \t?=\t medium\n",
      "49.210856363081774 \t?=\t medium\n",
      "71.04036567081721 \t?=\t medium\n",
      "71.45336835645271 \t?=\t medium\n",
      "73.55726108871701 \t?=\t good\n",
      "90.89711692202957 \t?=\t very good\n",
      "85.49128790850824 \t?=\t very good\n",
      "69.40286826063567 \t?=\t good\n",
      "63.09809813283124 \t?=\t medium\n",
      "56.6442183796174 \t?=\t medium\n",
      "82.78376240452639 \t?=\t very good\n",
      "69.84293134525493 \t?=\t good\n",
      "56.898561040215434 \t?=\t medium\n",
      "90.5846198516376 \t?=\t very good\n",
      "80.0843533950985 \t?=\t good\n",
      "69.5955945211497 \t?=\t medium\n",
      "73.05078933584664 \t?=\t good\n",
      "61.034711276421106 \t?=\t medium\n",
      "66.17566146111182 \t?=\t medium\n",
      "86.11750808134872 \t?=\t very good\n",
      "15.484974564517074 \t?=\t too bad mark\n",
      "83.73997152303859 \t?=\t good\n",
      "61.09427172123259 \t?=\t medium\n",
      "46.540611496672156 \t?=\t bad mark\n",
      "69.62151482827281 \t?=\t medium\n",
      "65.14464069353286 \t?=\t medium\n",
      "62.397517369301 \t?=\t medium\n",
      "69.9497754899058 \t?=\t medium\n"
     ]
    }
   ],
   "source": [
    "def getLevelOfSuccess(score):\n",
    "    if score < 25:\n",
    "        return \"too bad mark\"\n",
    "    if score < 45:\n",
    "        return \"bad mark\"\n",
    "    if score < 70:\n",
    "        return \"medium\"\n",
    "    if score < 85:\n",
    "        return \"good\"\n",
    "    return \"very good\"\n",
    "\n",
    "arrPredicts = seriesResult['tahmin'].values\n",
    "arrRealClasses = seriesResult['math success level'].values\n",
    "liResults = [False for i in range(0, len(arrPredicts))]\n",
    "count = 0\n",
    "for i, j in zip(arrPredicts, arrRealClasses):\n",
    "    print(i,\"\\t?=\\t\", j)\n",
    "    if(getLevelOfSuccess(i) == j):\n",
    "        liResults[count] = True\n",
    "    count += 1"
   ]
  },
  {
   "cell_type": "code",
   "execution_count": 1130,
   "metadata": {},
   "outputs": [
    {
     "name": "stdout",
     "output_type": "stream",
     "text": [
      "Bağlanım modeliyle başarı seviyesini tahmîn etmede 66 adet yanlış sınıf tahmîni var\n",
      "Bağlanım modeliyle not tahmîni sonrasında sınıflara ayırmada doğruluk oranı :  80.0\n"
     ]
    }
   ],
   "source": [
    "countFalse = liResults.count(False)\n",
    "accPercent = 100 - (round (countFalse / len(seriesResult) * 100, 3))\n",
    "print(\"Bağlanım modeliyle başarı seviyesini tahmîn etmede\", countFalse, \"adet yanlış sınıf tahmîni var\")\n",
    "print(\"Bağlanım modeliyle not tahmîni sonrasında sınıflara ayırmada doğruluk oranı : \", accPercent)"
   ]
  },
  {
   "cell_type": "markdown",
   "metadata": {},
   "source": [
    "Görülen o ki, başarı seviyelerine göre sınıflara ayırıp, başarı seviyesi sınıfı tahmîni yapmaktansa notu tahmîn etmek daha iyi bir fikir"
   ]
  }
 ],
 "metadata": {
  "kernelspec": {
   "display_name": "Python 3",
   "language": "python",
   "name": "python3"
  },
  "language_info": {
   "codemirror_mode": {
    "name": "ipython",
    "version": 3
   },
   "file_extension": ".py",
   "mimetype": "text/x-python",
   "name": "python",
   "nbconvert_exporter": "python",
   "pygments_lexer": "ipython3",
   "version": "3.7.4"
  }
 },
 "nbformat": 4,
 "nbformat_minor": 2
}
